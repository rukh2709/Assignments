{
 "cells": [
  {
   "cell_type": "markdown",
   "id": "501fc396-96be-4608-88ed-614e9d48cfc7",
   "metadata": {},
   "source": [
    "Q1. You are writing code for a company. The requirement of the company is that you create a python\n",
    "function that will check whether the password entered by the user is correct or not. The function should\n",
    "take the password as input and return the string “Valid Password” if the entered password follows the\n",
    "below-given password guidelines else it should return “Invalid Password”.\n",
    "Note: 1. The Password should contain at least two uppercase letters and at least two lowercase letters.\n",
    "2. The Password should contain at least a number and three special characters.\n",
    "3. The length of the password should be 10 characters long."
   ]
  },
  {
   "cell_type": "code",
   "execution_count": 19,
   "id": "0c59ddfc-9aee-4b58-9727-9bc638711c0e",
   "metadata": {},
   "outputs": [
    {
     "name": "stdin",
     "output_type": "stream",
     "text": [
      "Enter the password trdc\n"
     ]
    },
    {
     "data": {
      "text/plain": [
       "'Invalid Password'"
      ]
     },
     "execution_count": 19,
     "metadata": {},
     "output_type": "execute_result"
    }
   ],
   "source": [
    "s = input(\"Enter the password\")\n",
    "def check_for_password(s):\n",
    "    l, u, c, d = 0, 0, 0, 0\n",
    "    if (len(s) ==10):\n",
    "        for i in s:\n",
    " \n",
    "        # counting lowercase alphabets\n",
    "            if (i.islower()):\n",
    "                l+=1           \n",
    " \n",
    "        # counting uppercase alphabets\n",
    "            if (i.isupper()):\n",
    "                u+=1           \n",
    " \n",
    "        # counting digits\n",
    "            if (i.isdigit()):\n",
    "                d+=1           \n",
    " \n",
    "        # counting the mentioned special characters\n",
    "            if(i=='@'or i=='$' or i=='_' or i=='%' or i=='!' or i=='#' or i=='^' or i=='&' or i=='*'):\n",
    "                c+=1          \n",
    "    if (l>=2 and u>=2 and c==3 and d>=1 and l+c+u+d==len(s)):\n",
    "        return \"Valid Password\"\n",
    "    else:\n",
    "        return \"Invalid Password\"\n",
    "check_for_password(s)            "
   ]
  },
  {
   "cell_type": "markdown",
   "id": "7d1951ab-83ef-4420-8f58-59aee4bd8b6c",
   "metadata": {},
   "source": [
    "Q2. Solve the below-given questions using at least one of the following:\n",
    "1. Lambda function\n",
    "2. Filter function\n",
    "3. Map function\n",
    "4. List Comprehension"
   ]
  },
  {
   "cell_type": "code",
   "execution_count": 40,
   "id": "33fa7a4e-70f0-474b-aca1-a7aec88f7a20",
   "metadata": {},
   "outputs": [
    {
     "name": "stdin",
     "output_type": "stream",
     "text": [
      "Enter the string trew\n"
     ]
    },
    {
     "data": {
      "text/plain": [
       "False"
      ]
     },
     "execution_count": 40,
     "metadata": {},
     "output_type": "execute_result"
    }
   ],
   "source": [
    "# (1) Check if the string starts with a particular letter 'R'\n",
    "str=input(\"Enter the string\")\n",
    "c=lambda x: x.startswith('R')\n",
    "c(str)    "
   ]
  },
  {
   "cell_type": "code",
   "execution_count": 43,
   "id": "8de437d8-40db-4208-97b6-f26c7b4d1464",
   "metadata": {},
   "outputs": [
    {
     "name": "stdin",
     "output_type": "stream",
     "text": [
      "Enter the string 1wdf\n"
     ]
    },
    {
     "data": {
      "text/plain": [
       "True"
      ]
     },
     "execution_count": 43,
     "metadata": {},
     "output_type": "execute_result"
    }
   ],
   "source": [
    "# (2)Check if the string is numeric\n",
    "str=input(\"Enter the string\")\n",
    "c=lambda x: x.startswith('1')\n",
    "c(str)"
   ]
  },
  {
   "cell_type": "code",
   "execution_count": 52,
   "id": "7378c2b4-3a12-4cb0-9cbb-ac8f3668e36c",
   "metadata": {},
   "outputs": [
    {
     "name": "stdout",
     "output_type": "stream",
     "text": [
      "[('orange', 80), ('mango', 99), ('grapes', 1000)]\n"
     ]
    }
   ],
   "source": [
    "# (3)Sort a list of tuples having fruit names and their quantity. [(\"mango\",99),(\"orange\",80), (\"grapes\", 1000)-\n",
    "list=[(\"mango\",99),(\"orange\",80), (\"grapes\", 1000)]\n",
    "list.sort(key = lambda x: x[1])                     \n",
    "print(list)"
   ]
  },
  {
   "cell_type": "code",
   "execution_count": 60,
   "id": "d1bda95c-61d5-4185-b74d-376320b3dd88",
   "metadata": {},
   "outputs": [
    {
     "data": {
      "text/plain": [
       "[1, 4, 9, 16, 25, 36, 49, 64, 81, 100]"
      ]
     },
     "execution_count": 60,
     "metadata": {},
     "output_type": "execute_result"
    }
   ],
   "source": [
    "# (4)Find the squares of numbers from 1 to 10\n",
    "# using list comprehension\n",
    "num=[1,2,3,4,5,6,7,8,9,10]\n",
    "[x**2 for x in num]"
   ]
  },
  {
   "cell_type": "code",
   "execution_count": 4,
   "id": "2b726cc9-4a2c-402c-869c-9f974145dadb",
   "metadata": {},
   "outputs": [
    {
     "name": "stdout",
     "output_type": "stream",
     "text": [
      "1 4 9 16 25 36 49 64 81 100 "
     ]
    }
   ],
   "source": [
    "# (4)Find the squares of numbers from 1 to 10\n",
    "# Using lambda function\n",
    "num=[1,2,3,4,5,6,7,8,9,10]\n",
    "c=lambda x: x**2 \n",
    "for i in num:\n",
    "    print(c(i), end=' ')"
   ]
  },
  {
   "cell_type": "code",
   "execution_count": 1,
   "id": "f9f3c7a5-4a06-4e49-88dd-0a0954ca364b",
   "metadata": {},
   "outputs": [
    {
     "data": {
      "text/plain": [
       "[1, 4, 9, 16, 25, 36, 49, 64, 81, 100]"
      ]
     },
     "execution_count": 1,
     "metadata": {},
     "output_type": "execute_result"
    }
   ],
   "source": [
    "# (4)Find the squares of numbers from 1 to 10\n",
    "# Using map function\n",
    "num=[1,2,3,4,5,6,7,8,9,10]\n",
    "list(map(lambda x: x**2, num))"
   ]
  },
  {
   "cell_type": "code",
   "execution_count": 2,
   "id": "775468f4-b9af-4a0e-a703-f40b2e019541",
   "metadata": {},
   "outputs": [
    {
     "data": {
      "text/plain": [
       "[1, 8, 27, 64, 125, 216, 343, 512, 729, 1000]"
      ]
     },
     "execution_count": 2,
     "metadata": {},
     "output_type": "execute_result"
    }
   ],
   "source": [
    "# (5)Find the cube root of numbers from 1 to 10\n",
    "# Using list comprehension \n",
    "num=[1,2,3,4,5,6,7,8,9,10]\n",
    "[x**3 for x in num]"
   ]
  },
  {
   "cell_type": "code",
   "execution_count": 3,
   "id": "c5d3deab-6070-4c89-b35f-80e7baa545e1",
   "metadata": {},
   "outputs": [
    {
     "name": "stdout",
     "output_type": "stream",
     "text": [
      "1 8 27 64 125 216 343 512 729 1000 "
     ]
    }
   ],
   "source": [
    "# (5)Find the cube root of numbers from 1 to 10\n",
    "# Using lambda function \n",
    "num=[1,2,3,4,5,6,7,8,9,10]\n",
    "c=lambda x:x**3\n",
    "for i in num:\n",
    "    print(c(i), end=' ')"
   ]
  },
  {
   "cell_type": "code",
   "execution_count": 5,
   "id": "fcdcf7ae-5158-4339-8dad-611f5c41c589",
   "metadata": {},
   "outputs": [
    {
     "data": {
      "text/plain": [
       "[1, 8, 27, 64, 125, 216, 343, 512, 729, 1000]"
      ]
     },
     "execution_count": 5,
     "metadata": {},
     "output_type": "execute_result"
    }
   ],
   "source": [
    "# (5)Find the cube root of numbers from 1 to 10\n",
    "# Using map function \n",
    "num=[1,2,3,4,5,6,7,8,9,10]\n",
    "list(map(lambda x:x**3, num))"
   ]
  },
  {
   "cell_type": "code",
   "execution_count": 16,
   "id": "406b7271-033b-4190-bf12-2cf222334d7f",
   "metadata": {},
   "outputs": [
    {
     "name": "stdin",
     "output_type": "stream",
     "text": [
      "Enter the number 54\n"
     ]
    },
    {
     "data": {
      "text/plain": [
       "['even number']"
      ]
     },
     "execution_count": 16,
     "metadata": {},
     "output_type": "execute_result"
    }
   ],
   "source": [
    "# (6)Check if a given number is even\n",
    "# Using list comprehension\n",
    "num=int(input(\"Enter the number\"))\n",
    "[\"even number\" if num%2==0 else \"Odd number\"]"
   ]
  },
  {
   "cell_type": "code",
   "execution_count": 23,
   "id": "ace663e4-83ce-4590-bc07-ef2ec8ff1cbc",
   "metadata": {},
   "outputs": [
    {
     "name": "stdin",
     "output_type": "stream",
     "text": [
      "Enter the number 789\n"
     ]
    },
    {
     "data": {
      "text/plain": [
       "False"
      ]
     },
     "execution_count": 23,
     "metadata": {},
     "output_type": "execute_result"
    }
   ],
   "source": [
    "# (6)Check if a given number is even\n",
    "# Using lambda function\n",
    "num=int(input(\"Enter the number\"))\n",
    "c=lambda num: num%2==0 \n",
    "c(num)"
   ]
  },
  {
   "cell_type": "code",
   "execution_count": 30,
   "id": "b8251dc5-d3cf-4c78-91f2-2c79b5c43cf9",
   "metadata": {},
   "outputs": [
    {
     "data": {
      "text/plain": [
       "[1, 3, 5, 7, 9]"
      ]
     },
     "execution_count": 30,
     "metadata": {},
     "output_type": "execute_result"
    }
   ],
   "source": [
    "# (7)Filter odd numbers from the given list [1,2,3,4,5,6,7,8,9,10]\n",
    "# Using list comprehension\n",
    "list=[1,2,3,4,5,6,7,8,9,10]\n",
    "[x for x in list if x%2!=0]"
   ]
  },
  {
   "cell_type": "code",
   "execution_count": 1,
   "id": "6773ea9e-dde5-4eaa-a28e-f38ea93aa8fa",
   "metadata": {},
   "outputs": [
    {
     "data": {
      "text/plain": [
       "[1, 3, 5, 7, 9]"
      ]
     },
     "execution_count": 1,
     "metadata": {},
     "output_type": "execute_result"
    }
   ],
   "source": [
    "# (7)Filter odd numbers from the given list [1,2,3,4,5,6,7,8,9,10]\n",
    "# Using filter function\n",
    "list1=[1,2,3,4,5,6,7,8,9,10]\n",
    "list(filter(lambda x: x%2!=0,list1))"
   ]
  },
  {
   "cell_type": "code",
   "execution_count": 33,
   "id": "6d681bea-35e3-4388-93e5-880173a975e7",
   "metadata": {},
   "outputs": [
    {
     "name": "stdout",
     "output_type": "stream",
     "text": [
      "[-1, -2, -3, -4, -5]\n",
      "[1, 2, 3, 4, 5, 6, 0]\n"
     ]
    }
   ],
   "source": [
    "# (8)Sort a list of integers into positive and negative integers lists [1,2,3,4,5,6,-1,-2,-3,-4,-5,0]\n",
    "# Using filter function\n",
    "list1=[1,2,3,4,5,6,-1,-2,-3,-4,-5,0]\n",
    "a=list(filter(lambda x: 0 > x, list1))\n",
    "print(a)\n",
    "b=list(filter(lambda x: 0 <= x, list1))\n",
    "print(b)"
   ]
  }
 ],
 "metadata": {
  "kernelspec": {
   "display_name": "Python 3 (ipykernel)",
   "language": "python",
   "name": "python3"
  },
  "language_info": {
   "codemirror_mode": {
    "name": "ipython",
    "version": 3
   },
   "file_extension": ".py",
   "mimetype": "text/x-python",
   "name": "python",
   "nbconvert_exporter": "python",
   "pygments_lexer": "ipython3",
   "version": "3.10.8"
  }
 },
 "nbformat": 4,
 "nbformat_minor": 5
}
