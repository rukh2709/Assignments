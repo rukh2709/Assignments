{
 "cells": [
  {
   "cell_type": "markdown",
   "id": "e4e1bb20-a349-4f51-93d9-342c5951fff3",
   "metadata": {},
   "source": [
    "Q1: What is the difference between a t-test and a z-test? Provide an example scenario where you would\n",
    "use each type of test."
   ]
  },
  {
   "cell_type": "markdown",
   "id": "56a5f0d5-adfe-4480-a629-75ca7eecc12c",
   "metadata": {},
   "source": [
    "Answer 1: The main difference between a t-test and a z-test is the assumptions they make about the population variance. A t-test assumes that the population variance is unknown and must be estimated from the sample data, whereas a z-test assumes that the population variance is known. As a result, a t-test is more appropriate when the sample size is small and the population variance is unknown, while a z-test is more appropriate when the sample size is large and the population variance is known.\n",
    "\n",
    "An example scenario where you would use a t-test is when you want to compare the means of two small samples to see if they are significantly different from each other. For instance, if we want to compare the average test scores of two groups of students (e.g., group A and group B) to determine if there is a significant difference between the two groups, we would use a t-test.\n",
    "\n",
    "On the other hand, an example scenario where we would use a z-test is when you want to test a hypothesis about a large population with a known variance. For instance, if we want to determine if the average height of all people in a certain country is significantly different from a known value(e.g., the average height of people in a neighboring country), we would use a z-test."
   ]
  },
  {
   "cell_type": "markdown",
   "id": "e4d8b5ac-7452-4a69-bf93-a243cd189fd2",
   "metadata": {},
   "source": [
    "Q2: Differentiate between one-tailed and two-tailed tests."
   ]
  },
  {
   "cell_type": "markdown",
   "id": "8af52353-5bb1-4f84-8f0a-7db1b9e941c5",
   "metadata": {},
   "source": [
    "Answer 2: The key difference between one-tailed and two-tailed tests is the directionality of the alternative hypothesis. A one-tailed test is used when the direction of the expected difference between the sample and the population is specified, while a two-tailed test is used when the direction of the expected difference is not specified."
   ]
  },
  {
   "cell_type": "markdown",
   "id": "649dc553-6880-462e-b28a-3b4b833d6c5f",
   "metadata": {},
   "source": [
    "Q3: Explain the concept of Type 1 and Type 2 errors in hypothesis testing. Provide an example scenario for\n",
    "each type of error."
   ]
  },
  {
   "cell_type": "markdown",
   "id": "b082541b-e632-4eed-91dd-3fd69c6573b6",
   "metadata": {},
   "source": [
    "Answer 3: A Type 1 error occurs when the null hypothesis is rejected, even though it is actually true. In other words, a Type 1 error is a false positive result. This means that the test concludes that there is a significant difference between the sample and the population, when in fact there is no significant difference. The probability of making a Type 1 error is denoted by the symbol alpha (α) and is typically set at 0.05 or 0.01.\n",
    "\n",
    "For example, suppose a medical researcher is conducting a study to test whether a new drug is effective in reducing the symptoms of a particular disease. The null hypothesis is that the drug has no effect, while the alternative hypothesis is that the drug is effective. If the researcher concludes that the drug is effective, but in reality, it has no effect, then this is an example of a Type 1 error.\n",
    "\n",
    "A Type 2 error occurs when the null hypothesis is not rejected, even though it is actually false. In other words, a Type 2 error is a false negative result. This means that the test fails to detect a significant difference between the sample and the population, even though such a difference exists. The probability of making a Type 2 error is denoted by the symbol beta (β).\n",
    "\n",
    "For example, suppose a researcher is conducting a study to test whether a new cancer treatment is effective in increasing the survival rate of patients. The null hypothesis is that the treatment has no effect, while the alternative hypothesis is that the treatment is effective. If the researcher concludes that the treatment is not effective, but in reality, it is effective, then this is an example of a Type 2 error."
   ]
  },
  {
   "cell_type": "markdown",
   "id": "96decf68-849a-4621-8a93-d549624b66f8",
   "metadata": {},
   "source": [
    "Q4: Explain Bayes's theorem with an example."
   ]
  },
  {
   "cell_type": "markdown",
   "id": "cb0cb6aa-9f6d-4dcd-a4ee-6187287bf67a",
   "metadata": {},
   "source": [
    "Answer 4: Bayes's theorem is a formula in probability theory that describes how to update the probability of an event based on new evidence.\n",
    "The formula for Bayes's theorem is:\n",
    "\n",
    "P(A|B) = P(B|A) * P(A) / P(B)\n",
    "\n",
    "where:\n",
    "\n",
    "P(A|B) is the conditional probability of event A given event B has occurred\n",
    "P(B|A) is the conditional probability of event B given event A has occurred\n",
    "P(A) is the prior probability of event A\n",
    "P(B) is the prior probability of event B\n",
    "Here is an example to illustrate Bayes's theorem:\n",
    "\n",
    "Suppose a medical test for a rare disease is known to be 99% accurate. That is, the test will correctly identify a person with the disease 99% of the time and will correctly identify a person without the disease 99% of the time. The disease occurs in only 0.1% of the population.\n",
    "\n",
    "If a person tests positive for the disease, what is the probability that they actually have the disease?\n",
    "\n",
    "Let A be the event that the person has the disease, and B be the event that the person tests positive for the disease.\n",
    "\n",
    "We are given:\n",
    "\n",
    "P(A) = 0.001 (the prior probability of the person having the disease)\n",
    "P(B|A) = 0.99 (the probability of testing positive given the person has the disease)\n",
    "P(B|~A) = 0.01 (the probability of testing positive given the person does not have the disease)\n",
    "We want to find P(A|B) (the probability of the person having the disease given that they tested positive).\n",
    "\n",
    "Using Bayes's theorem, we have:\n",
    "\n",
    "P(A|B) = P(B|A) * P(A) / P(B)\n",
    "\n",
    "= 0.99 * 0.001 / ((0.99 * 0.001) + (0.01 * 0.999))\n",
    "\n",
    "= 0.090\n",
    "\n",
    "Therefore, the probability that the person actually has the disease given that they tested positive is only 9.0."
   ]
  },
  {
   "cell_type": "markdown",
   "id": "42d1fce2-b818-44c6-a1e3-dd053cc1ca72",
   "metadata": {},
   "source": [
    "Q5: What is a confidence interval? How to calculate the confidence interval, explain with an example."
   ]
  },
  {
   "cell_type": "markdown",
   "id": "db6a7814-8071-4b0a-848f-8a70f8de0c4c",
   "metadata": {},
   "source": [
    "Answer 5: A confidence interval is a range of values around a sample statistic that is likely to contain the true population parameter with a certain degree of confidence. \n",
    "\n",
    "To calculate a confidence interval, we need to specify a confidence level, which represents the degree of certainty that the true population parameter falls within the interval. A commonly used confidence level is 95%, which means that if we repeat the sampling and calculation process many times, the interval will contain the true population parameter in 95% of cases.\n",
    "\n",
    "Following is an example of how to calculate a confidence interval:\n",
    "\n",
    "Suppose we want to estimate the average height of adult men in a certain population. We take a random sample of 100 men and measure their heights. The sample mean is 175 cm and the standard deviation is 8 cm.\n",
    "\n",
    "To calculate a 95% confidence interval for the population mean height, we use the following formula:\n",
    "\n",
    "Confidence interval = sample mean ± (critical value x standard error)\n",
    "\n",
    "The critical value depends on the sample size and the desired confidence level. For a sample size of 100 and a 95% confidence level, the critical value is approximately 1.96. The standard error is the standard deviation divided by the square root of the sample size.\n",
    "\n",
    "Substituting the values, we get:\n",
    "\n",
    "Confidence interval = 175 ± (1.96 x 8 / sqrt(100)) = 175 ± 1.57\n",
    "\n",
    "Therefore, the 95% confidence interval for the population mean height is (173.43, 176.57) cm. This means that we are 95% confident that the true population mean height falls within this range."
   ]
  },
  {
   "cell_type": "markdown",
   "id": "54d781db-958b-426b-9bc6-52bfde9c4d07",
   "metadata": {},
   "source": [
    "Q6. Use Bayes' Theorem to calculate the probability of an event occurring given prior knowledge of the\n",
    "event's probability and new evidence. Provide a sample problem and solution."
   ]
  },
  {
   "cell_type": "markdown",
   "id": "72cf2a8d-a1e6-42fb-a3b9-95347a40d31d",
   "metadata": {},
   "source": [
    "Answer 6: Bayes' Theorem is a mathematical formula that helps to update the probability of an event occurring based on new evidence or information. The formula is as follows:\n",
    "\n",
    "P(A|B) = P(B|A) * P(A) / P(B)\n",
    "\n",
    "where P(A|B) is the probability of event A occurring given that event B has occurred, P(B|A) is the probability of event B occurring given that event A has occurred, P(A) is the prior probability of event A occurring, and P(B) is the probability of event B occurring.\n",
    "\n",
    "Here's an example of how to use Bayes' Theorem:\n",
    "\n",
    "Suppose a certain medical test is 90% accurate in detecting a particular disease, which has a prevalence rate of 1% in the population. You are a patient who has tested positive for the disease, and you want to know what the probability is that you actually have the disease.\n",
    "\n",
    "Let's use P(D) to represent the probability of having the disease and P(Pos) to represent the probability of testing positive for the disease. We know that P(D) = 0.01 (1% prevalence rate), and the accuracy of the test is P(Pos|D) = 0.9 (true positive rate), meaning that if someone has the disease, there is a 90% chance they will test positive. We also know the false positive rate is P(Pos|not D) = 0.1 (meaning 10% of people without the disease will test positive).\n",
    "\n",
    "Using Bayes' Theorem, we can calculate the probability of having the disease given a positive test result as follows:\n",
    "\n",
    "P(D|Pos) = P(Pos|D) * P(D) / P(Pos)\n",
    "\n",
    "To calculate P(Pos), we need to use the law of total probability, which states that the probability of an event occurring is the sum of the probabilities of that event occurring in each possible scenario. In this case, the two possible scenarios are having the disease and testing positive (true positive) or not having the disease and testing positive (false positive):\n",
    "\n",
    "P(Pos) = P(Pos|D) * P(D) + P(Pos|not D) * P(not D)\n",
    "= 0.9 * 0.01 + 0.1 * 0.99\n",
    "= 0.108\n",
    "\n",
    "Now, we can calculate P(D|Pos) using Bayes' Theorem:\n",
    "\n",
    "P(D|Pos) = P(Pos|D) * P(D) / P(Pos)\n",
    "= 0.9 * 0.01 / 0.108\n",
    "= 0.083\n",
    "\n",
    "Therefore, the probability of having the disease given a positive test result is 8.3%. This is a low probability because of the low prevalence rate of the disease in the population, and the imperfect accuracy of the test."
   ]
  },
  {
   "cell_type": "markdown",
   "id": "811d40a3-d68c-4791-a705-93c41b973070",
   "metadata": {},
   "source": [
    "Q7. Calculate the 95% confidence interval for a sample of data with a mean of 50 and a standard deviation\n",
    "of 5. Interpret the results."
   ]
  },
  {
   "cell_type": "markdown",
   "id": "0e998888-4924-4020-a533-ad53c6b24623",
   "metadata": {},
   "source": [
    "Answer 7: To calculate the 95% confidence interval for a sample of data with a mean of 50 and a standard deviation of 5, we need to use the following formula:\n",
    "\n",
    "Confidence interval = sample mean ± (critical value x standard error)\n",
    "\n",
    "where the critical value is based on the desired confidence level (95% in this case) and the standard error is calculated as the standard deviation divided by the square root of the sample size.\n",
    "\n",
    "However, we don't have information about the sample size, which is required to calculate the standard error and critical value. Therefore, we cannot calculate the confidence interval without this information.\n",
    "\n",
    "Assuming we have a sample size of n=30, the standard error would be:\n",
    "\n",
    "standard error = standard deviation / sqrt(n)\n",
    "= 5 / sqrt(30)\n",
    "≈ 0.9129\n",
    "\n",
    "The critical value for a 95% confidence level with 29 degrees of freedom (n-1) would be approximately 2.045.\n",
    "\n",
    "Substituting the values, we get:\n",
    "\n",
    "Confidence interval = 50 ± (2.045 x 0.9129)\n",
    "= (47.24, 52.76)\n",
    "\n",
    "Interpreting the results, we can say that we are 95% confident that the true population mean falls within the range of 47.24 to 52.76. This means that if we took many samples of the same size and calculated the confidence intervals, about 95% of the intervals would contain the true population mean. In other words, the range 47.24 to 52.76 is a plausible range of values for the true population mean based on the sample data."
   ]
  },
  {
   "cell_type": "markdown",
   "id": "51e6921f-6cb7-4292-b014-7d921d38adca",
   "metadata": {},
   "source": [
    "Q8. What is the margin of error in a confidence interval? How does sample size affect the margin of error?\n",
    "Provide an example of a scenario where a larger sample size would result in a smaller margin of error."
   ]
  },
  {
   "cell_type": "markdown",
   "id": "d53a419c-47ec-4c13-b945-1b424ad0d9f6",
   "metadata": {},
   "source": [
    "Answer 8: The margin of error is the range of values above and below the point estimate in a confidence interval that is likely to contain the true population parameter with a certain degree of confidence. It represents the amount of uncertainty or error that is inherent in the estimate due to the fact that we are using a sample to estimate the population parameter.\n",
    "\n",
    "Sample size has a direct impact on the margin of error. A larger sample size typically results in a smaller margin of error because a larger sample size leads to a more accurate estimate of the population parameter. This is because larger samples tend to be more representative of the population, and therefore, the point estimate is more likely to be closer to the true population parameter.\n",
    "\n",
    "For example, suppose we want to estimate the proportion of adults in a certain city who support a certain political candidate. We conduct a survey and obtain a sample of 100 adults, with a sample proportion of 0.60 who support the candidate. We want to construct a 95% confidence interval for the true proportion of adults in the city who support the candidate.\n",
    "\n",
    "Using the formula for the margin of error, we get:\n",
    "\n",
    "Margin of error = Z * sqrt(p * (1 - p) / n)\n",
    "\n",
    "where Z is the critical value for the desired confidence level, p is the sample proportion, and n is the sample size.\n",
    "\n",
    "Assuming a Z-score of 1.96 for a 95% confidence level, we get:\n",
    "\n",
    "Margin of error = 1.96 * sqrt(0.60 * 0.40 / 100)\n",
    "= 0.0984\n",
    "\n",
    "So the 95% confidence interval for the proportion of adults who support the candidate is (0.5016, 0.6984).\n",
    "\n",
    "Now, let's suppose we conduct the same survey with a larger sample size of 500. Using the same formula, we get:\n",
    "\n",
    "Margin of error = 1.96 * sqrt(0.60 * 0.40 / 500)\n",
    "= 0.044\n",
    "\n",
    "So the 95% confidence interval for the proportion of adults who support the candidate would be (0.556, 0.644), which is narrower than the interval for the smaller sample size. This means that a larger sample size has reduced the margin of error, which leads to a more precise estimate of the population parameter."
   ]
  },
  {
   "cell_type": "markdown",
   "id": "b1122e39-e54d-4c2a-a423-67b7f3c70bcb",
   "metadata": {},
   "source": [
    "Q9. Calculate the z-score for a data point with a value of 75, a population mean of 70, and a population\n",
    "standard deviation of 5. Interpret the results."
   ]
  },
  {
   "cell_type": "markdown",
   "id": "2a99b7e6-eae6-41ec-9190-9f5f24b49ad1",
   "metadata": {},
   "source": [
    "Answer 9: We calculate the z-score using the following formula:\n",
    "\n",
    "z = (x - μ) / σ\n",
    "\n",
    "where x is the data point, μ is the population mean, and σ is the population standard deviation.\n",
    "\n",
    "Substituting the given values, we get:\n",
    "\n",
    "z = (75 - 70) / 5\n",
    "= 1\n",
    "\n",
    "So the z-score for the data point with a value of 75 is 1.\n",
    "\n",
    "Interpreting the results, we can say that the data point of 75 is 1 standard deviation above the population mean of 70. This means that the data point is relatively far from the mean, but not extremely so. If the z-score were larger, the data point would be farther away from the mean, indicating that it is more unusual or extreme. The sign of the z-score (positive or negative) indicates whether the data point is above or below the mean, respectively. In this case, the positive z-score indicates that the data point is above the mean."
   ]
  },
  {
   "cell_type": "markdown",
   "id": "42794b5a-3be5-4d2a-b872-55b5f42dad10",
   "metadata": {},
   "source": [
    "Q10. In a study of the effectiveness of a new weight loss drug, a sample of 50 participants lost an average\n",
    "of 6 pounds with a standard deviation of 2.5 pounds. Conduct a hypothesis test to determine if the drug is\n",
    "significantly effective at a 95% confidence level using a t-test."
   ]
  },
  {
   "cell_type": "markdown",
   "id": "f1d846aa-585a-4988-a735-bd1600b414fb",
   "metadata": {},
   "source": [
    "Answer 10: The null hypothesis is that the true mean weight loss in the population is equal to zero, and the alternative hypothesis is that the true mean weight loss is greater than zero. We can set the significance level at α = 0.05.\n",
    "\n",
    "The test statistic for the t-test for the mean is given by:\n",
    "\n",
    "t = (x̄ - μ) / (s / sqrt(n))\n",
    "\n",
    "where x̄ is the sample mean, μ is the hypothesized population mean under the null hypothesis, s is the sample standard deviation, and n is the sample size.\n",
    "\n",
    "Substitutung the given values, we get:\n",
    "\n",
    "t = (6 - 0) / (2.5 / sqrt(50))\n",
    "= 15.46\n",
    "\n",
    "The degrees of freedom for the t-test is n-1 = 49. Using a t-table or a t-distribution calculator with 49 degrees of freedom, we can find the critical t-value for a one-tailed test at α = 0.05. For a one-tailed test, we use the upper-tail probability, since the alternative hypothesis is that the true mean weight loss is greater than zero.\n",
    "\n",
    "The critical t-value is 1.676. Since the calculated t-value of 15.46 is greater than the critical t-value of 1.676, we reject the null hypothesis and conclude that the weight loss drug is significantly effective at a 95% confidence level."
   ]
  },
  {
   "cell_type": "markdown",
   "id": "b621c195-4524-4aea-a740-685baca9d986",
   "metadata": {},
   "source": [
    "Q11. In a survey of 500 people, 65% reported being satisfied with their current job. Calculate the 95%\n",
    "confidence interval for the true proportion of people who are satisfied with their job."
   ]
  },
  {
   "cell_type": "markdown",
   "id": "1bc9a70b-52a2-492a-94d6-892478e04557",
   "metadata": {},
   "source": [
    "Answer 11: To calculate the 95% confidence interval for the true proportion of people who are satisfied with their job, we can use the following formula:\n",
    "\n",
    "CI = p ± z*(sqrt((p*(1-p))/n))\n",
    "\n",
    "where CI is the confidence interval, p is the sample proportion, z is the critical z-value for the desired confidence level (in this case, 1.96 for 95% confidence), and n is the sample size.\n",
    "\n",
    "Substituting the given values, we get:\n",
    "\n",
    "CI = 0.65 ± 1.96*(sqrt((0.65*(1-0.65))/500))\n",
    "= 0.65 ± 0.044\n",
    "= (0.606, 0.694)\n",
    "\n",
    "So the 95% confidence interval for the true proportion of people who are satisfied with their job is (0.606, 0.694). "
   ]
  },
  {
   "cell_type": "markdown",
   "id": "ff232eb1-765d-49d4-900d-322bc5ae33f8",
   "metadata": {},
   "source": [
    "Q12. A researcher is testing the effectiveness of two different teaching methods on student performance.\n",
    "Sample A has a mean score of 85 with a standard deviation of 6, while sample B has a mean score of 82\n",
    "with a standard deviation of 5. Conduct a hypothesis test to determine if the two teaching methods have a\n",
    "significant difference in student performance using a t-test with a significance level of 0.01."
   ]
  },
  {
   "cell_type": "markdown",
   "id": "b4de41f2-4b87-4926-b61b-753b39a1cd86",
   "metadata": {},
   "source": [
    "Answer 12: To conduct a hypothesis test to determine if the two teaching methods have a significant difference in student performance, we can use a two-sample t-test.\n",
    "\n",
    "The null hypothesis (H0) is that there is no significant difference in the mean scores between the two teaching methods, while the alternative hypothesis (Ha) is that there is a significant difference in the mean scores between the two teaching methods.\n",
    "\n",
    "The t-statistic for a two-sample t-test is calculated using the following formula:\n",
    "\n",
    "t = (x̄1 - x̄2) / (sqrt((s1^2/n1) + (s2^2/n2)))\n",
    "\n",
    "where x̄1 and x̄2 are the sample means, s1 and s2 are the sample standard deviations, and n1 and n2 are the sample sizes for the two samples.\n",
    "\n",
    "Plugging in the given values, we get:\n",
    "\n",
    "t = (85 - 82) / (sqrt((6^2/30) + (5^2/30)))\n",
    "= 2.05\n",
    "\n",
    "The degrees of freedom for the t-test is calculated as (n1 + n2 - 2) = (30 + 30 - 2) = 58.\n",
    "\n",
    "Using a t-table or a calculator, we can find the critical t-value for a two-tailed test at a significance level of 0.01 with 58 degrees of freedom to be ±2.660.\n",
    "\n",
    "Since our calculated t-value of 2.05 is within the acceptance region of -2.660 to 2.660, we fail to reject the null hypothesis. Therefore, we conclude that there is not enough evidence to suggest that there is a significant difference in student performance between the two teaching methods at a significance level of 0.01."
   ]
  },
  {
   "cell_type": "markdown",
   "id": "076fd30d-37cb-4bca-98f7-08203b950a0a",
   "metadata": {},
   "source": [
    "Q13. A population has a mean of 60 and a standard deviation of 8. A sample of 50 observations has a mean\n",
    "of 65. Calculate the 90% confidence interval for the true population mean."
   ]
  },
  {
   "cell_type": "markdown",
   "id": "79053ddb-aff0-4ac0-9ea7-68efaa1130bc",
   "metadata": {},
   "source": [
    "Answer 13: To calculate the 90% confidence interval for the true population mean, we can use the following formula:\n",
    "\n",
    "CI = x̄ ± z*(σ/√n)\n",
    "\n",
    "where CI is the confidence interval, x̄ is the sample mean, z is the z-score for the desired confidence level, σ is the population standard deviation, and n is the sample size.\n",
    "\n",
    "The z-score for a 90% confidence level can be found using a z-table or a calculator and is approximately 1.645.\n",
    "\n",
    "Substituting the given values, we get:\n",
    "\n",
    "CI = 65 ± 1.645*(8/√50)\n",
    "= 65 ± 2.329\n",
    "= [62.671, 67.329]\n",
    "\n",
    "Therefore, we can say with 90% confidence that the true population mean lies between 62.671 and 67.329. Interpreting the results, we can say that based on the sample data, we are 90% confident that the true population mean is within this range."
   ]
  },
  {
   "cell_type": "markdown",
   "id": "15d5d7c0-dfa5-4593-84d1-0a3fd3686328",
   "metadata": {},
   "source": [
    "Q14. In a study of the effects of caffeine on reaction time, a sample of 30 participants had an average\n",
    "reaction time of 0.25 seconds with a standard deviation of 0.05 seconds. Conduct a hypothesis test to\n",
    "determine if the caffeine has a significant effect on reaction time at a 90% confidence level using a t-test."
   ]
  },
  {
   "cell_type": "markdown",
   "id": "86ef964c-badb-4595-a568-bf414925b260",
   "metadata": {},
   "source": [
    "Answer 14: The null hypothesis (H0) is that there is no significant difference in reaction time between the caffeine and non-caffeine groups, and the alternative hypothesis (Ha) is that there is a significant difference.\n",
    "\n",
    "Assuming a two-tailed test with a significance level of 0.10 (90% confidence level), the critical t-value can be found using a t-table or a calculator with 29 degrees of freedom (df=n-1, where n is the sample size). The critical t-value is approximately ±1.699.\n",
    "\n",
    "The test statistic (t-score) can be calculated using the following formula:\n",
    "\n",
    "t = (x̄ - μ) / (s/√n)\n",
    "\n",
    "where x̄ is the sample mean, μ is the hypothesized population mean (in this case, 0.25 seconds for the caffeine group), s is the sample standard deviation, and n is the sample size.\n",
    "\n",
    "Substituting the given values, we get:\n",
    "\n",
    "t = (0.25 - 0) / (0.05/√30)\n",
    "= 6.708\n",
    "\n",
    "Since the calculated t-score (6.708) is greater than the critical t-value (1.699), we reject the null hypothesis and conclude that caffeine has a significant effect on reaction time at a 90% confidence level."
   ]
  }
 ],
 "metadata": {
  "kernelspec": {
   "display_name": "Python 3 (ipykernel)",
   "language": "python",
   "name": "python3"
  },
  "language_info": {
   "codemirror_mode": {
    "name": "ipython",
    "version": 3
   },
   "file_extension": ".py",
   "mimetype": "text/x-python",
   "name": "python",
   "nbconvert_exporter": "python",
   "pygments_lexer": "ipython3",
   "version": "3.10.8"
  }
 },
 "nbformat": 4,
 "nbformat_minor": 5
}
