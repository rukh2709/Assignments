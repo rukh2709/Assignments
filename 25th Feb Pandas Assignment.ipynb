{
 "cells": [
  {
   "cell_type": "markdown",
   "id": "7b526873-198a-4387-ae96-049cbd6b11ba",
   "metadata": {},
   "source": [
    "Consider following code to answer further questions:\n",
    "import pandas as pd\n",
    "course_name = [‘Data Science’, ‘Machine Learning’, ‘Big Data’, ‘Data Engineer’]\n",
    "duration = [2,3,6,4]\n",
    "df = pd.DataFrame(data = {‘course_name’ : course_name, ‘duration’ : duration})"
   ]
  },
  {
   "cell_type": "code",
   "execution_count": 23,
   "id": "8cfb09fc-e304-4562-972a-07866083cff1",
   "metadata": {},
   "outputs": [
    {
     "data": {
      "text/html": [
       "<div>\n",
       "<style scoped>\n",
       "    .dataframe tbody tr th:only-of-type {\n",
       "        vertical-align: middle;\n",
       "    }\n",
       "\n",
       "    .dataframe tbody tr th {\n",
       "        vertical-align: top;\n",
       "    }\n",
       "\n",
       "    .dataframe thead th {\n",
       "        text-align: right;\n",
       "    }\n",
       "</style>\n",
       "<table border=\"1\" class=\"dataframe\">\n",
       "  <thead>\n",
       "    <tr style=\"text-align: right;\">\n",
       "      <th></th>\n",
       "      <th>course_name</th>\n",
       "      <th>duration</th>\n",
       "    </tr>\n",
       "  </thead>\n",
       "  <tbody>\n",
       "    <tr>\n",
       "      <th>0</th>\n",
       "      <td>Data Science</td>\n",
       "      <td>2</td>\n",
       "    </tr>\n",
       "    <tr>\n",
       "      <th>1</th>\n",
       "      <td>Machine Learning</td>\n",
       "      <td>3</td>\n",
       "    </tr>\n",
       "    <tr>\n",
       "      <th>2</th>\n",
       "      <td>Big Data</td>\n",
       "      <td>6</td>\n",
       "    </tr>\n",
       "    <tr>\n",
       "      <th>3</th>\n",
       "      <td>Data Engineer</td>\n",
       "      <td>4</td>\n",
       "    </tr>\n",
       "  </tbody>\n",
       "</table>\n",
       "</div>"
      ],
      "text/plain": [
       "        course_name  duration\n",
       "0      Data Science         2\n",
       "1  Machine Learning         3\n",
       "2          Big Data         6\n",
       "3     Data Engineer         4"
      ]
     },
     "execution_count": 23,
     "metadata": {},
     "output_type": "execute_result"
    }
   ],
   "source": [
    "import pandas as pd\n",
    "course_name = ['Data Science', 'Machine Learning', 'Big Data', 'Data Engineer']\n",
    "duration = [2,3,6,4]\n",
    "df = pd.DataFrame(data = {'course_name' : course_name, 'duration' : duration})\n",
    "df"
   ]
  },
  {
   "cell_type": "markdown",
   "id": "f48a99aa-e743-4ab4-bd05-894f79e72454",
   "metadata": {},
   "source": [
    "Q1. Write a code to print the data present in the second row of the dataframe, df."
   ]
  },
  {
   "cell_type": "code",
   "execution_count": 27,
   "id": "49f47350-81b5-4388-bbb9-9fc47351c11f",
   "metadata": {},
   "outputs": [
    {
     "name": "stdout",
     "output_type": "stream",
     "text": [
      "['Machine Learning' 3]\n"
     ]
    }
   ],
   "source": [
    "#Answer 1: \n",
    "data=df.iloc[1].values\n",
    "print(data)"
   ]
  },
  {
   "cell_type": "markdown",
   "id": "4192b4d5-a437-4817-83ae-211a7b845dbb",
   "metadata": {},
   "source": [
    "Q2. What is the difference between the functions loc and iloc in pandas.DataFrame?"
   ]
  },
  {
   "cell_type": "markdown",
   "id": "a4f6b921-ef66-4864-a5a9-aecbbdc8a652",
   "metadata": {},
   "source": [
    "Answer 2: loc is label-based and is used to select rows and columns by their labels. The syntax for loc is df.loc[row_label, column_label], where row_label and column_label are the labels of the row and column to be selected, respectively.\n",
    "\n",
    "On the other hand, iloc is integer-based and is used to select rows and columns by their integer index. The syntax for iloc is df.iloc[row_index, column_index], where row_index and column_index are the integer indices of the row and column to be selected, respectively. "
   ]
  },
  {
   "cell_type": "markdown",
   "id": "379c729e-0537-447a-9d01-2c2ad66ca5d6",
   "metadata": {},
   "source": [
    "Q3. Reindex the given dataframe using a variable, reindex = [3,0,1,2] and store it in the variable, new_df\n",
    "then find the output for both new_df.loc[2] and new_df.iloc[2]."
   ]
  },
  {
   "cell_type": "code",
   "execution_count": 37,
   "id": "cd57c91c-dca3-4298-9381-5118087b9c79",
   "metadata": {},
   "outputs": [
    {
     "data": {
      "text/html": [
       "<div>\n",
       "<style scoped>\n",
       "    .dataframe tbody tr th:only-of-type {\n",
       "        vertical-align: middle;\n",
       "    }\n",
       "\n",
       "    .dataframe tbody tr th {\n",
       "        vertical-align: top;\n",
       "    }\n",
       "\n",
       "    .dataframe thead th {\n",
       "        text-align: right;\n",
       "    }\n",
       "</style>\n",
       "<table border=\"1\" class=\"dataframe\">\n",
       "  <thead>\n",
       "    <tr style=\"text-align: right;\">\n",
       "      <th></th>\n",
       "      <th>course_name</th>\n",
       "      <th>duration</th>\n",
       "    </tr>\n",
       "  </thead>\n",
       "  <tbody>\n",
       "    <tr>\n",
       "      <th>3</th>\n",
       "      <td>Data Engineer</td>\n",
       "      <td>4</td>\n",
       "    </tr>\n",
       "    <tr>\n",
       "      <th>0</th>\n",
       "      <td>Data Science</td>\n",
       "      <td>2</td>\n",
       "    </tr>\n",
       "    <tr>\n",
       "      <th>1</th>\n",
       "      <td>Machine Learning</td>\n",
       "      <td>3</td>\n",
       "    </tr>\n",
       "    <tr>\n",
       "      <th>2</th>\n",
       "      <td>Big Data</td>\n",
       "      <td>6</td>\n",
       "    </tr>\n",
       "  </tbody>\n",
       "</table>\n",
       "</div>"
      ],
      "text/plain": [
       "        course_name  duration\n",
       "3     Data Engineer         4\n",
       "0      Data Science         2\n",
       "1  Machine Learning         3\n",
       "2          Big Data         6"
      ]
     },
     "execution_count": 37,
     "metadata": {},
     "output_type": "execute_result"
    }
   ],
   "source": [
    "#Answer 3: \n",
    "reindex = [3,0,1,2] \n",
    "new_df=df.reindex(reindex)\n",
    "new_df"
   ]
  },
  {
   "cell_type": "code",
   "execution_count": 38,
   "id": "eaf078f9-6fad-46de-8e44-25a4223735ab",
   "metadata": {},
   "outputs": [
    {
     "data": {
      "text/plain": [
       "course_name    Big Data\n",
       "duration              6\n",
       "Name: 2, dtype: object"
      ]
     },
     "execution_count": 38,
     "metadata": {},
     "output_type": "execute_result"
    }
   ],
   "source": [
    "new_df.loc[2] "
   ]
  },
  {
   "cell_type": "code",
   "execution_count": 39,
   "id": "af05491e-2d28-44f8-99a4-2d0712331594",
   "metadata": {},
   "outputs": [
    {
     "data": {
      "text/plain": [
       "course_name    Machine Learning\n",
       "duration                      3\n",
       "Name: 1, dtype: object"
      ]
     },
     "execution_count": 39,
     "metadata": {},
     "output_type": "execute_result"
    }
   ],
   "source": [
    "new_df.iloc[2] "
   ]
  },
  {
   "cell_type": "markdown",
   "id": "704178b1-67db-4d35-aa12-48327cb5a39c",
   "metadata": {},
   "source": [
    "Consider the below code to answer further questions:\n",
    "import pandas as pd\n",
    "import numpy as np\n",
    "columns = ['column_1', 'column_2', 'column_3', 'column_4', 'column_5', 'column_6']\n",
    "indices = [1,2,3,4,5,6]\n",
    "#Creating a dataframe:\n",
    "df1 = pd.DataFrame(np.random.rand(6,6), columns = columns, index = indices)"
   ]
  },
  {
   "cell_type": "code",
   "execution_count": 45,
   "id": "f3ffc215-af87-4665-8e85-7795cfa33a61",
   "metadata": {},
   "outputs": [
    {
     "data": {
      "text/html": [
       "<div>\n",
       "<style scoped>\n",
       "    .dataframe tbody tr th:only-of-type {\n",
       "        vertical-align: middle;\n",
       "    }\n",
       "\n",
       "    .dataframe tbody tr th {\n",
       "        vertical-align: top;\n",
       "    }\n",
       "\n",
       "    .dataframe thead th {\n",
       "        text-align: right;\n",
       "    }\n",
       "</style>\n",
       "<table border=\"1\" class=\"dataframe\">\n",
       "  <thead>\n",
       "    <tr style=\"text-align: right;\">\n",
       "      <th></th>\n",
       "      <th>column_1</th>\n",
       "      <th>column_2</th>\n",
       "      <th>column_3</th>\n",
       "      <th>column_4</th>\n",
       "      <th>column_5</th>\n",
       "      <th>column_6</th>\n",
       "    </tr>\n",
       "  </thead>\n",
       "  <tbody>\n",
       "    <tr>\n",
       "      <th>1</th>\n",
       "      <td>0.810189</td>\n",
       "      <td>0.291500</td>\n",
       "      <td>0.939049</td>\n",
       "      <td>0.457357</td>\n",
       "      <td>0.838185</td>\n",
       "      <td>0.738201</td>\n",
       "    </tr>\n",
       "    <tr>\n",
       "      <th>2</th>\n",
       "      <td>0.279052</td>\n",
       "      <td>0.946058</td>\n",
       "      <td>0.119501</td>\n",
       "      <td>0.478173</td>\n",
       "      <td>0.823968</td>\n",
       "      <td>0.130178</td>\n",
       "    </tr>\n",
       "    <tr>\n",
       "      <th>3</th>\n",
       "      <td>0.379675</td>\n",
       "      <td>0.566783</td>\n",
       "      <td>0.385692</td>\n",
       "      <td>0.244989</td>\n",
       "      <td>0.491731</td>\n",
       "      <td>0.473671</td>\n",
       "    </tr>\n",
       "    <tr>\n",
       "      <th>4</th>\n",
       "      <td>0.877907</td>\n",
       "      <td>0.431343</td>\n",
       "      <td>0.888162</td>\n",
       "      <td>0.537970</td>\n",
       "      <td>0.072205</td>\n",
       "      <td>0.247853</td>\n",
       "    </tr>\n",
       "    <tr>\n",
       "      <th>5</th>\n",
       "      <td>0.910573</td>\n",
       "      <td>0.188179</td>\n",
       "      <td>0.259980</td>\n",
       "      <td>0.212720</td>\n",
       "      <td>0.186210</td>\n",
       "      <td>0.054345</td>\n",
       "    </tr>\n",
       "    <tr>\n",
       "      <th>6</th>\n",
       "      <td>0.910507</td>\n",
       "      <td>0.935637</td>\n",
       "      <td>0.109201</td>\n",
       "      <td>0.109797</td>\n",
       "      <td>0.197188</td>\n",
       "      <td>0.838776</td>\n",
       "    </tr>\n",
       "  </tbody>\n",
       "</table>\n",
       "</div>"
      ],
      "text/plain": [
       "   column_1  column_2  column_3  column_4  column_5  column_6\n",
       "1  0.810189  0.291500  0.939049  0.457357  0.838185  0.738201\n",
       "2  0.279052  0.946058  0.119501  0.478173  0.823968  0.130178\n",
       "3  0.379675  0.566783  0.385692  0.244989  0.491731  0.473671\n",
       "4  0.877907  0.431343  0.888162  0.537970  0.072205  0.247853\n",
       "5  0.910573  0.188179  0.259980  0.212720  0.186210  0.054345\n",
       "6  0.910507  0.935637  0.109201  0.109797  0.197188  0.838776"
      ]
     },
     "execution_count": 45,
     "metadata": {},
     "output_type": "execute_result"
    }
   ],
   "source": [
    "import pandas as pd\n",
    "import numpy as np\n",
    "columns = ['column_1', 'column_2', 'column_3', 'column_4', 'column_5', 'column_6']\n",
    "indices = [1,2,3,4,5,6]\n",
    "#Creating a dataframe:\n",
    "df1 = pd.DataFrame(np.random.rand(6,6), columns = columns, index = indices)\n",
    "df1"
   ]
  },
  {
   "cell_type": "markdown",
   "id": "bd1572c9-a391-45bb-8958-71cf8ad34f12",
   "metadata": {},
   "source": [
    "Q4. Write a code to find the following statistical measurements for the above dataframe df1:\n",
    "(i) mean of each and every column present in the dataframe.\n",
    "(ii) standard deviation of column, ‘column_2’"
   ]
  },
  {
   "cell_type": "code",
   "execution_count": 46,
   "id": "24788b72-8b81-473d-8aa5-fa0dff802a2a",
   "metadata": {},
   "outputs": [
    {
     "data": {
      "text/plain": [
       "column_1    0.694651\n",
       "column_2    0.559917\n",
       "column_3    0.450264\n",
       "column_4    0.340168\n",
       "column_5    0.434914\n",
       "column_6    0.413837\n",
       "dtype: float64"
      ]
     },
     "execution_count": 46,
     "metadata": {},
     "output_type": "execute_result"
    }
   ],
   "source": [
    "# Answer 4:\n",
    "# (i) mean of each and every column present in the dataframe.\n",
    "df1.mean()"
   ]
  },
  {
   "cell_type": "code",
   "execution_count": 47,
   "id": "0f718b60-47c0-46a1-bab8-3161970b505b",
   "metadata": {},
   "outputs": [
    {
     "data": {
      "text/plain": [
       "0.5599165361253967"
      ]
     },
     "execution_count": 47,
     "metadata": {},
     "output_type": "execute_result"
    }
   ],
   "source": [
    "# (ii) standard deviation of column, ‘column_2’\n",
    "df1['column_2'].mean()"
   ]
  },
  {
   "cell_type": "markdown",
   "id": "2f5fbf5d-197c-4a7c-a2e6-405533198066",
   "metadata": {},
   "source": [
    "Q5. Replace the data present in the second row of column, ‘column_2’ by a string variable then find the\n",
    "mean of column, column_2.\n",
    "If you are getting errors in executing it then explain why.\n",
    "[Hint: To replace the data use df1.loc[] and equate this to string data of your choice.]"
   ]
  },
  {
   "cell_type": "code",
   "execution_count": 65,
   "id": "15197cd1-c015-4715-82c1-5689df1a4cf1",
   "metadata": {},
   "outputs": [
    {
     "data": {
      "text/html": [
       "<div>\n",
       "<style scoped>\n",
       "    .dataframe tbody tr th:only-of-type {\n",
       "        vertical-align: middle;\n",
       "    }\n",
       "\n",
       "    .dataframe tbody tr th {\n",
       "        vertical-align: top;\n",
       "    }\n",
       "\n",
       "    .dataframe thead th {\n",
       "        text-align: right;\n",
       "    }\n",
       "</style>\n",
       "<table border=\"1\" class=\"dataframe\">\n",
       "  <thead>\n",
       "    <tr style=\"text-align: right;\">\n",
       "      <th></th>\n",
       "      <th>column_1</th>\n",
       "      <th>column_2</th>\n",
       "      <th>column_3</th>\n",
       "      <th>column_4</th>\n",
       "      <th>column_5</th>\n",
       "      <th>column_6</th>\n",
       "      <th>0.9460578373927869</th>\n",
       "    </tr>\n",
       "  </thead>\n",
       "  <tbody>\n",
       "    <tr>\n",
       "      <th>1</th>\n",
       "      <td>0.810189</td>\n",
       "      <td>0.2915</td>\n",
       "      <td>0.939049</td>\n",
       "      <td>0.457357</td>\n",
       "      <td>0.838185</td>\n",
       "      <td>0.738201</td>\n",
       "      <td>rukh</td>\n",
       "    </tr>\n",
       "    <tr>\n",
       "      <th>2</th>\n",
       "      <td>0.279052</td>\n",
       "      <td>rukh</td>\n",
       "      <td>0.119501</td>\n",
       "      <td>0.478173</td>\n",
       "      <td>0.823968</td>\n",
       "      <td>0.130178</td>\n",
       "      <td>rukh</td>\n",
       "    </tr>\n",
       "    <tr>\n",
       "      <th>3</th>\n",
       "      <td>0.379675</td>\n",
       "      <td>0.566783</td>\n",
       "      <td>0.385692</td>\n",
       "      <td>0.244989</td>\n",
       "      <td>0.491731</td>\n",
       "      <td>0.473671</td>\n",
       "      <td>rukh</td>\n",
       "    </tr>\n",
       "    <tr>\n",
       "      <th>4</th>\n",
       "      <td>0.877907</td>\n",
       "      <td>0.431343</td>\n",
       "      <td>0.888162</td>\n",
       "      <td>0.537970</td>\n",
       "      <td>0.072205</td>\n",
       "      <td>0.247853</td>\n",
       "      <td>rukh</td>\n",
       "    </tr>\n",
       "    <tr>\n",
       "      <th>5</th>\n",
       "      <td>0.910573</td>\n",
       "      <td>0.188179</td>\n",
       "      <td>0.259980</td>\n",
       "      <td>0.212720</td>\n",
       "      <td>0.186210</td>\n",
       "      <td>0.054345</td>\n",
       "      <td>rukh</td>\n",
       "    </tr>\n",
       "    <tr>\n",
       "      <th>6</th>\n",
       "      <td>0.910507</td>\n",
       "      <td>0.935637</td>\n",
       "      <td>0.109201</td>\n",
       "      <td>0.109797</td>\n",
       "      <td>0.197188</td>\n",
       "      <td>0.838776</td>\n",
       "      <td>rukh</td>\n",
       "    </tr>\n",
       "  </tbody>\n",
       "</table>\n",
       "</div>"
      ],
      "text/plain": [
       "   column_1  column_2  column_3  column_4  column_5  column_6  \\\n",
       "1  0.810189    0.2915  0.939049  0.457357  0.838185  0.738201   \n",
       "2  0.279052      rukh  0.119501  0.478173  0.823968  0.130178   \n",
       "3  0.379675  0.566783  0.385692  0.244989  0.491731  0.473671   \n",
       "4  0.877907  0.431343  0.888162  0.537970  0.072205  0.247853   \n",
       "5  0.910573  0.188179  0.259980  0.212720  0.186210  0.054345   \n",
       "6  0.910507  0.935637  0.109201  0.109797  0.197188  0.838776   \n",
       "\n",
       "  0.9460578373927869  \n",
       "1               rukh  \n",
       "2               rukh  \n",
       "3               rukh  \n",
       "4               rukh  \n",
       "5               rukh  \n",
       "6               rukh  "
      ]
     },
     "execution_count": 65,
     "metadata": {},
     "output_type": "execute_result"
    }
   ],
   "source": [
    "#Answer 5:\n",
    "# Replacing the data present in the second row of column, ‘column_2’ by a string variable\n",
    "df1.loc[2, 'column_2']='rukh'\n",
    "df1"
   ]
  },
  {
   "cell_type": "markdown",
   "id": "9c7e9ff2-b1b9-4c0d-bb7c-719569a6767c",
   "metadata": {},
   "source": [
    "df1['column_2'].mean()\n",
    "Yes, we are getting errors in executing it because mean of the column_2 cannot be calculated as one data is  string and rest are float and we can't concatanate float and string to find the mean. "
   ]
  },
  {
   "cell_type": "markdown",
   "id": "a681390f-974a-4273-b0ce-68dbb49555f9",
   "metadata": {},
   "source": [
    "Q6. What do you understand about the windows function in pandas and list the types of windows\n",
    "functions?"
   ]
  },
  {
   "cell_type": "markdown",
   "id": "ee02a7e8-fce9-4277-a9ef-be15b63fee49",
   "metadata": {},
   "source": [
    "Answer 6: In pandas, a window function is used to apply a function to a subset of rows within a larger dataset, where the subset of rows is defined by a sliding window or window frame. The window function allows us to compute aggregated values (such as mean, sum, or count) based on a window of rows rather than on the entire dataset.\n",
    "\n",
    "The types of window functions in pandas are:\n",
    "Rolling Window Function \n",
    "Expanding Window Function\n",
    "Exponential Weighted Moving Average Function\n",
    "Grouped Window Function"
   ]
  },
  {
   "cell_type": "markdown",
   "id": "0b136d21-c33d-44ae-a291-661323f50d75",
   "metadata": {},
   "source": [
    "Q7. Write a code to print only the current month and year at the time of answering this question.\n",
    "[Hint: Use pandas.datetime function]"
   ]
  },
  {
   "cell_type": "code",
   "execution_count": 3,
   "id": "032f84fe-145b-442e-9271-d8d6d7460d9c",
   "metadata": {},
   "outputs": [
    {
     "name": "stdout",
     "output_type": "stream",
     "text": [
      "Current month is 3\n",
      "Current year is 2023\n"
     ]
    },
    {
     "name": "stderr",
     "output_type": "stream",
     "text": [
      "/tmp/ipykernel_3900/663459646.py:3: FutureWarning: The pandas.datetime class is deprecated and will be removed from pandas in a future version. Import from datetime module instead.\n",
      "  now=pd.datetime.now()\n"
     ]
    }
   ],
   "source": [
    "# Answer 7: \n",
    "import pandas as pd\n",
    "now=pd.datetime.now()\n",
    "print(\"Current month is\",now.month)\n",
    "print(\"Current year is\",now.year)"
   ]
  },
  {
   "cell_type": "markdown",
   "id": "18e26c8f-965c-4cd8-b859-fa19489b5957",
   "metadata": {},
   "source": [
    "Q8. Write a Python program that takes in two dates as input (in the format YYYY-MM-DD) and\n",
    "calculates the difference between them in days, hours, and minutes using Pandas time delta. The\n",
    "program should prompt the user to enter the dates and display the result.\n",
    "Did you observe any difference in both the outputs? If so then explain it."
   ]
  },
  {
   "cell_type": "code",
   "execution_count": 5,
   "id": "9e52c2e4-3245-4011-b10c-46fbaecdc4be",
   "metadata": {},
   "outputs": [
    {
     "name": "stdin",
     "output_type": "stream",
     "text": [
      "Enter the first date (YYYY-MM-DD):  2023-03-01\n",
      "Enter the second date (YYYY-MM-DD):  2023-03-03\n"
     ]
    },
    {
     "name": "stdout",
     "output_type": "stream",
     "text": [
      "The difference between the two dates is:\n",
      "2 days, 0 hours, and 0 minutes.\n"
     ]
    }
   ],
   "source": [
    "# Answer 8:\n",
    "import pandas as pd\n",
    "\n",
    "# Prompt the user to enter the two dates\n",
    "d1 = input(\"Enter the first date (YYYY-MM-DD): \")\n",
    "d2 = input(\"Enter the second date (YYYY-MM-DD): \")\n",
    "# Convert the dates to datetime format\n",
    "d1 = pd.to_datetime(d1)\n",
    "d2 = pd.to_datetime(d2)\n",
    "# Calculate the difference between the two dates\n",
    "time_diff = d2 - d1\n",
    "# Extract the number of days, hours, and minutes from the time difference\n",
    "days = time_diff.days\n",
    "hours = time_diff.seconds // 3600\n",
    "minutes = (time_diff.seconds % 3600) // 60\n",
    "# Display the result\n",
    "print(\"The difference between the two dates is:\")\n",
    "print(f\"{days} days, {hours} hours, and {minutes} minutes.\")"
   ]
  },
  {
   "cell_type": "markdown",
   "id": "c994e42d-6030-4420-9980-5a1224b14ae8",
   "metadata": {},
   "source": [
    "As for the second part of the question, there might be a difference in the output depending on the time zone and daylight saving time rules in effect at the time of executing the code. For instance, if the code is executed in a region that observes daylight saving time, the difference in hours between two dates might be affected by a one-hour difference when the daylight saving time begins or ends. To avoid such issues, it's recommended to use the UTC timezone or a fixed timezone when working with datetime objects."
   ]
  },
  {
   "cell_type": "markdown",
   "id": "b8af2871-d202-4f26-a19d-da49c478ac26",
   "metadata": {},
   "source": [
    "Q9. Write a Python program that reads a CSV file containing categorical data and converts a specified\n",
    "column to a categorical data type. The program should prompt the user to enter the file path, column\n",
    "name, and category order, and then display the sorted data."
   ]
  },
  {
   "cell_type": "code",
   "execution_count": 2,
   "id": "d0e33f82-b783-4c63-9955-b25279a0a293",
   "metadata": {},
   "outputs": [
    {
     "name": "stdin",
     "output_type": "stream",
     "text": [
      "Enter file path:  student.csv\n",
      "Enter column name:  Grade\n",
      "Enter category order separated by commas:  A,B,C\n"
     ]
    },
    {
     "name": "stdout",
     "output_type": "stream",
     "text": [
      "   Student ID  Test Score Grade\n",
      "1           2          90     A\n",
      "4           5          85     A\n",
      "7           8          85     A\n",
      "3           4          75     B\n",
      "6           7          78     B\n",
      "9          10          76     B\n",
      "0           1          45     C\n",
      "2           3          57     C\n",
      "5           6          39     C\n",
      "8           9          43     C\n"
     ]
    }
   ],
   "source": [
    "# Answer 9:\n",
    "import pandas as pd\n",
    "\n",
    "# Prompt user to enter file path and column name\n",
    "file_path = input(\"Enter file path: \")\n",
    "col_name = input(\"Enter column name: \")\n",
    "# Read the CSV file\n",
    "data = pd.read_csv(file_path)\n",
    "# Prompt user to enter category order\n",
    "category_order = input(\"Enter category order separated by commas: \").split(\",\")\n",
    "# Convert the specified column to a categorical data type with the specified category order\n",
    "data[col_name] = pd.Categorical(data[col_name], categories=category_order, ordered=True)\n",
    "# Display the sorted data\n",
    "sorted_data = data.sort_values(by=col_name)\n",
    "print(sorted_data)"
   ]
  },
  {
   "cell_type": "markdown",
   "id": "273ac406-e1c7-4124-b1a8-f12acfe0909b",
   "metadata": {},
   "source": [
    "Q10. Write a Python program that reads a CSV file containing sales data for different products and\n",
    "visualizes the data using a stacked bar chart to show the sales of each product category over time. The\n",
    "program should prompt the user to enter the file path and display the chart."
   ]
  },
  {
   "cell_type": "code",
   "execution_count": 7,
   "id": "9effa9d8-8fb4-48cf-b971-61b541daa7bf",
   "metadata": {},
   "outputs": [
    {
     "name": "stdin",
     "output_type": "stream",
     "text": [
      "Enter the file path of the CSV file containing sales data:  sales_product.csv\n"
     ]
    },
    {
     "data": {
      "image/png": "[encoded data removed]",
      "text/plain": [
       "<Figure size 640x480 with 1 Axes>"
      ]
     },
     "metadata": {},
     "output_type": "display_data"
    }
   ],
   "source": [
    "# Answer 10:\n",
    "import pandas as pd\n",
    "import matplotlib.pyplot as plt\n",
    "\n",
    "# Prompt user for file path\n",
    "file_path = input(\"Enter the file path of the CSV file containing sales data: \")\n",
    "# Read CSV file\n",
    "df = pd.read_csv(file_path)\n",
    "# Pivot data to create stacked bar chart\n",
    "df_pivot = df.pivot(index='Year', columns='Product', values='Sales')\n",
    "# Create stacked bar chart\n",
    "df_pivot.plot(kind='bar', stacked=True)\n",
    "# Add chart labels and title\n",
    "plt.xlabel('Year')\n",
    "plt.ylabel('Sales')\n",
    "plt.title('Sales by Product Category over Time')\n",
    "# Display chart\n",
    "plt.show()"
   ]
  },
  {
   "cell_type": "markdown",
   "id": "24f885d6-d524-4677-ad5d-395e2a1dced7",
   "metadata": {},
   "source": [
    "Q11. You are given a CSV file containing student data that includes the student ID and their test score. Write a Python program that reads the CSV file, calculates the mean, median, and mode of the test scores, and\n",
    "displays the results in a table.\n",
    "The program should do the followingM\n",
    "I Prompt the user to enter the file path of the CSV file containing the student dataR\n",
    "I Read the CSV file into a Pandas DataFrameR\n",
    "I Calculate the mean, median, and mode of the test scores using Pandas toolsR\n",
    "I Display the mean, median, and mode in a table.\n",
    "Assume the CSV file contains the following columnsM\n",
    "I Student ID: The ID of the studentR\n",
    "I Test Score: The score of the student's test.\n",
    "Example usage of the program:\n",
    "Enter the file path of the CSV file containing the student data: student_data.csv\n",
    "+-----------+--------+\n",
    "| Statistic | Value |\n",
    "+-----------+--------+\n",
    "| Mean | 79.6 |\n",
    "| Median | 82 |\n",
    "| Mode | 85, 90 |\n",
    "+-----------+--------+\n",
    "Assume that the CSV file student_data.csv contains the following data:\n",
    "Student ID,Test Score\n",
    "1,85\n",
    "2,90\n",
    "3,80\n",
    "4,75\n",
    "5,85\n",
    "6,82\n",
    "7,78\n",
    "8,85\n",
    "9,90\n",
    "10,85\n",
    "The program should calculate the mean, median, and mode of the test scores and display the results\n",
    "in a table."
   ]
  },
  {
   "cell_type": "code",
   "execution_count": 7,
   "id": "9b51d1df-65de-42bc-a401-45c14ca2d60b",
   "metadata": {},
   "outputs": [
    {
     "name": "stdin",
     "output_type": "stream",
     "text": [
      "Enter the file path of the CSV file containing student data:  student_test_score.csv\n"
     ]
    },
    {
     "name": "stdout",
     "output_type": "stream",
     "text": [
      "+-----------+--------+\n",
      "| Statistic | Value  |\n",
      "+-----------+--------+\n",
      "| Mean      | 83.5   |\n",
      "| Median    | 85.0   |\n",
      "| Mode      | 85     |\n",
      "+-----------+--------+\n"
     ]
    }
   ],
   "source": [
    "# Answer 11:\n",
    "import pandas as pd\n",
    "\n",
    "# Prompt user for file path\n",
    "file_path = input(\"Enter the file path of the CSV file containing student data: \")\n",
    "\n",
    "# Read CSV file\n",
    "df = pd.read_csv(file_path)\n",
    "\n",
    "# Calculate mean, median, and mode\n",
    "mean = df['Test Score'].mean()\n",
    "median = df['Test Score'].median()\n",
    "mode = df['Test Score'].mode()\n",
    "\n",
    "# Display results in table\n",
    "print(\"+-----------+--------+\")\n",
    "print(\"| Statistic | Value  |\")\n",
    "print(\"+-----------+--------+\")\n",
    "print(f\"| Mean      | {mean:.1f}   |\")\n",
    "print(\"| Median    | {:<6} |\".format(median))\n",
    "print(f\"| Mode      | {', '.join(map(str, mode.tolist())):<6} |\")\n",
    "print(\"+-----------+--------+\")"
   ]
  },
  {
   "cell_type": "code",
   "execution_count": null,
   "id": "66f8cedf-e6bd-4c16-8611-f53e97298cde",
   "metadata": {},
   "outputs": [],
   "source": []
  }
 ],
 "metadata": {
  "kernelspec": {
   "display_name": "Python 3 (ipykernel)",
   "language": "python",
   "name": "python3"
  },
  "language_info": {
   "codemirror_mode": {
    "name": "ipython",
    "version": 3
   },
   "file_extension": ".py",
   "mimetype": "text/x-python",
   "name": "python",
   "nbconvert_exporter": "python",
   "pygments_lexer": "ipython3",
   "version": "3.10.8"
  }
 },
 "nbformat": 4,
 "nbformat_minor": 5
}
