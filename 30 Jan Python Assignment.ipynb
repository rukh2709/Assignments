{
 "cells": [
  {
   "cell_type": "markdown",
   "id": "62244e44-6777-4af0-b071-cea3210b661c",
   "metadata": {},
   "source": [
    "Answer 1:"
   ]
  },
  {
   "cell_type": "markdown",
   "id": "8bdc9efd-7859-4e0f-904a-07a711c2d6fa",
   "metadata": {},
   "source": [
    "# marks=int(input(\"Enter the marks\"))\n",
    "if marks>90:\n",
    "    print(\"You got grade A\")\n",
    "elif marks<=90 and marks>80:\n",
    "    print(\"You got grade B\")\n",
    "elif marks<=80 and marks>=60:\n",
    "    print(\"You got grade C\")   \n",
    "else:\n",
    "    print(\"You got grade D\")      "
   ]
  },
  {
   "cell_type": "markdown",
   "id": "d8ceafff-db16-48cb-a5a9-dcbdf093965a",
   "metadata": {},
   "source": [
    "Answer 2:"
   ]
  },
  {
   "cell_type": "code",
   "execution_count": 10,
   "id": "c07bdb70-4e03-4fd8-a005-6a53a950527c",
   "metadata": {},
   "outputs": [
    {
     "name": "stdin",
     "output_type": "stream",
     "text": [
      "Enter the cost price of a bike 55000\n"
     ]
    },
    {
     "name": "stdout",
     "output_type": "stream",
     "text": [
      "Road taxt to be paid is 10%\n"
     ]
    }
   ],
   "source": [
    "cost=int(input(\"Enter the cost price of a bike\"))\n",
    "if cost>100000:\n",
    "    print(\"Road taxt to be paid is 15%\")\n",
    "elif cost<=100000 and cost>50000:\n",
    "    print(\"Road taxt to be paid is 10%\")\n",
    "else:\n",
    "    print(\"Road taxt to be paid is 5%\")"
   ]
  },
  {
   "cell_type": "markdown",
   "id": "647611db-a9ad-4679-90ad-b390deb9e6e1",
   "metadata": {},
   "source": [
    "Answer 3:"
   ]
  },
  {
   "cell_type": "code",
   "execution_count": 18,
   "id": "49ef44f8-1900-4e82-89b2-231d2485b067",
   "metadata": {},
   "outputs": [
    {
     "name": "stdin",
     "output_type": "stream",
     "text": [
      "Enter the city Jaipur\n"
     ]
    },
    {
     "name": "stdout",
     "output_type": "stream",
     "text": [
      "Jal Mahal\n"
     ]
    }
   ],
   "source": [
    "city=input(\"Enter the city\")\n",
    "l=[\"Delhi\", \"Agra\", \"Jaipur\"]\n",
    "if city in l[0]:\n",
    "    print(\"Red Fort\")\n",
    "elif city in l[1]:\n",
    "    print(\"Taj Mahal\")\n",
    "elif city in l[2]:\n",
    "    print(\"Jal Mahal\")\n",
    "else:\n",
    "    print(\"Don't know\")"
   ]
  },
  {
   "cell_type": "markdown",
   "id": "037661bc-f1af-4a17-95e6-87ade4facf35",
   "metadata": {},
   "source": [
    "Answer 4:"
   ]
  },
  {
   "cell_type": "code",
   "execution_count": 54,
   "id": "6ba57935-726d-4c81-b49e-03ba54f0f38b",
   "metadata": {},
   "outputs": [
    {
     "name": "stdin",
     "output_type": "stream",
     "text": [
      "Enter the nmuber 10\n"
     ]
    },
    {
     "name": "stdout",
     "output_type": "stream",
     "text": [
      "0\n"
     ]
    }
   ],
   "source": [
    "count=0\n",
    "n=int(input(\"Enter the nmuber\"))\n",
    "while(n>10):    \n",
    "    if n%3==0:        \n",
    "        count=count+1\n",
    "    n=int(n/3)\n",
    "print(count)"
   ]
  },
  {
   "cell_type": "markdown",
   "id": "586f0fea-a7bd-4b27-b98f-603743d80559",
   "metadata": {},
   "source": [
    "# Answer 5: \n",
    "With the while loop we can execute a set of statements as long as a condition is true. The while loop requires relevant variables to be ready. With the break statement we can stop the loop even if the while condition is true:\n",
    "A while Loop is used to repeat a specific block of code an unknown number of times, until a condition is met. For example, if we want to ask a user for a number between 1 and 10, we don't know how many times the user may enter a larger number, so we keep asking \"while the number is not between 1 and 10\"."
   ]
  },
  {
   "cell_type": "markdown",
   "id": "b6b45b22-1a35-4d08-819f-988f6ad4e8c4",
   "metadata": {},
   "source": [
    "Answer 6: Three different patterns using while loop"
   ]
  },
  {
   "cell_type": "code",
   "execution_count": 7,
   "id": "444d3a96-ee00-46ca-9077-772bb1d3729d",
   "metadata": {},
   "outputs": [
    {
     "name": "stdout",
     "output_type": "stream",
     "text": [
      "\n",
      "\n",
      "1 \n",
      "\n",
      "1 2 \n",
      "\n",
      "1 2 3 \n",
      "\n",
      "1 2 3 4 \n",
      "\n",
      "1 2 3 4 5 \n",
      "\n",
      "1 2 3 4 5 6 \n",
      "\n",
      "1 2 3 4 5 6 7 \n",
      "\n",
      "1 2 3 4 5 6 7 8 \n",
      "\n"
     ]
    }
   ],
   "source": [
    "i=1\n",
    "while(i<10):\n",
    "    j=1\n",
    "    while(j<i):\n",
    "        print(j,end=' ')\n",
    "        j+=1        \n",
    "    i+=1\n",
    "    print(\"\\n\")"
   ]
  },
  {
   "cell_type": "code",
   "execution_count": 9,
   "id": "47477b35-c503-4887-aa4a-516ed1944691",
   "metadata": {},
   "outputs": [
    {
     "name": "stdout",
     "output_type": "stream",
     "text": [
      "1 \n",
      "\n",
      "2 2 \n",
      "\n",
      "3 3 3 \n",
      "\n",
      "4 4 4 4 \n",
      "\n",
      "5 5 5 5 5 \n",
      "\n",
      "6 6 6 6 6 6 \n",
      "\n",
      "7 7 7 7 7 7 7 \n",
      "\n",
      "8 8 8 8 8 8 8 8 \n",
      "\n",
      "9 9 9 9 9 9 9 9 9 \n",
      "\n"
     ]
    }
   ],
   "source": [
    "i=1\n",
    "while(i<10):\n",
    "    j=0\n",
    "    while(j<i):\n",
    "        print(i, end=' ')\n",
    "        j+=1\n",
    "    i+=1\n",
    "    print(\"\\n\")\n",
    "        "
   ]
  },
  {
   "cell_type": "code",
   "execution_count": 13,
   "id": "28245bcf-ddf4-4bfc-8488-ded40a09929c",
   "metadata": {},
   "outputs": [
    {
     "name": "stdout",
     "output_type": "stream",
     "text": [
      "1 1 1 1 1 1 1 1 \n",
      "\n",
      "2 2 2 2 2 2 2 \n",
      "\n",
      "3 3 3 3 3 3 \n",
      "\n",
      "4 4 4 4 4 \n",
      "\n",
      "5 5 5 5 \n",
      "\n",
      "6 6 6 \n",
      "\n",
      "7 7 \n",
      "\n",
      "8 \n",
      "\n",
      "\n",
      "\n"
     ]
    }
   ],
   "source": [
    "i=1\n",
    "while(i<10):\n",
    "    j=9\n",
    "    while(j>i):\n",
    "        print(i, end=' ')\n",
    "        j-=1\n",
    "    i+=1\n",
    "    print(\"\\n\")\n",
    "\n",
    "    "
   ]
  },
  {
   "cell_type": "markdown",
   "id": "d5f6dc0f-578a-4e3a-a250-5cd3234cebd1",
   "metadata": {},
   "source": [
    "Answer 7 and 8: Questions in 7 and 8 are same"
   ]
  },
  {
   "cell_type": "code",
   "execution_count": 32,
   "id": "ad5900d7-eb46-4d2c-b25e-d573229f8c3c",
   "metadata": {},
   "outputs": [
    {
     "name": "stdout",
     "output_type": "stream",
     "text": [
      "10\n",
      "9\n",
      "8\n",
      "7\n",
      "6\n",
      "5\n",
      "4\n",
      "3\n",
      "2\n",
      "1\n"
     ]
    }
   ],
   "source": [
    "i=10\n",
    "while(i>0):\n",
    "    print(i)\n",
    "    i-=1"
   ]
  },
  {
   "cell_type": "code",
   "execution_count": null,
   "id": "9a709876-38fd-4303-840d-7e5b2ea118c0",
   "metadata": {},
   "outputs": [],
   "source": []
  }
 ],
 "metadata": {
  "kernelspec": {
   "display_name": "Python 3 (ipykernel)",
   "language": "python",
   "name": "python3"
  },
  "language_info": {
   "codemirror_mode": {
    "name": "ipython",
    "version": 3
   },
   "file_extension": ".py",
   "mimetype": "text/x-python",
   "name": "python",
   "nbconvert_exporter": "python",
   "pygments_lexer": "ipython3",
   "version": "3.10.8"
  }
 },
 "nbformat": 4,
 "nbformat_minor": 5
}
