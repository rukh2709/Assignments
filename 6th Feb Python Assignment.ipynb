{
 "cells": [
  {
   "cell_type": "raw",
   "id": "30797619-a38b-48ed-bc85-4eea7c9e425c",
   "metadata": {},
   "source": [
    "Q1. Create a function which will take a list as an argument and return the product of all the numbers\n",
    "after creating a flat list.\n",
    "Use the below-given list as an argument for your function.\n",
    "list1 = [1,2,3,4, [44,55,66, True], False, (34,56,78,89,34), {1,2,3,3,2,1}, {1:34, \"key2\": [55, 67, 78, 89], 4: (45,22, 61, 34)}, [56, 'data science'], 'Machine Learning']\n"
   ]
  },
  {
   "cell_type": "code",
   "execution_count": 4,
   "id": "f0e8a68f-eacc-4f36-8bfa-a940284debf0",
   "metadata": {},
   "outputs": [
    {
     "name": "stdout",
     "output_type": "stream",
     "text": [
      "[1, 2, 3, 4, 44, 55, 66, True, False, 34, 56, 78, 89, 34, 1, 2, 3, 1, 34, 55, 67, 78, 89, 4, 45, 22, 61, 34, 56]\n",
      "4134711838987085478833841242112000\n"
     ]
    }
   ],
   "source": [
    "def flatten_and_multiply(lst):\n",
    "    flat_list = []\n",
    "    def flatten(lst):\n",
    "        for item in lst:\n",
    "            if isinstance(item, (int, float)):\n",
    "                flat_list.append(item)\n",
    "            elif isinstance(item, (list, tuple,set)):\n",
    "                flatten(item)\n",
    "            elif isinstance(item, dict):\n",
    "                for key, value in item.items():\n",
    "                    if isinstance(key, (int, float)):\n",
    "                        flat_list.append(key)\n",
    "                    if isinstance(value, (int, float)):\n",
    "                        flat_list.append(value)\n",
    "                    if isinstance(value, (list, tuple)):\n",
    "                        flatten(value)                    \n",
    "    flatten(lst)\n",
    "    print(flat_list)\n",
    "    result = 1\n",
    "    for item in flat_list:\n",
    "        if type(item)==int:\n",
    "            result *= item\n",
    "    return result\n",
    "\n",
    "list1 = [1,2,3,4, [44,55,66, True], False, (34,56,78,89,34), {1,2,3,3,2,1}, {1:34, \"key2\": [55, 67, 78, 89], 4: (45, 22, 61, 34)}, [56, 'data science'], 'Machine Learning']\n",
    "print(flatten_and_multiply(list1))"
   ]
  },
  {
   "cell_type": "raw",
   "id": "5d87d74d-6698-4ada-b88b-d10fa0eab3b9",
   "metadata": {},
   "source": [
    "Q2. Write a python program for encrypting a message sent to you by your friend. The logic of encryption\n",
    "should be such that, for a the output should be z. For b, the output should be y. For c, the output should\n",
    "be x respectively. Also, the whitespace should be replaced with a dollar sign. Keep the punctuation\n",
    "marks unchanged.\n",
    "Input Sentence: I want to become a Data Scientist.\n",
    "Encrypt the above input sentence using the program you just created.\n",
    "Note: Convert the given input sentence into lowercase before encrypting. The final output should be\n",
    "lowercase."
   ]
  },
  {
   "cell_type": "code",
   "execution_count": 2,
   "id": "d7dade1c-f8f4-47da-b317-dd0c970ac71f",
   "metadata": {},
   "outputs": [
    {
     "name": "stdout",
     "output_type": "stream",
     "text": [
      "r$dzmg$gl$yvxlnv$z$wzgz$hxrvmgrhg.\n"
     ]
    }
   ],
   "source": [
    "def encrypt_message(message):\n",
    "    encryption_map = {\n",
    "'a': 'z', 'b': 'y', 'c': 'x', 'd': 'w', 'e': 'v',\n",
    "'f': 'u', 'g': 't', 'h': 's', 'i': 'r', 'j': 'q',\n",
    "'k': 'p', 'l': 'o', 'm': 'n', 'n': 'm', 'o': 'l',\n",
    "'p': 'k', 'q': 'j', 'r': 'i', 's': 'h', 't': 'g',\n",
    "'u': 'f', 'v': 'e', 'w': 'd', 'x': 'c', 'y': 'b',\n",
    "'z': 'a', ' ': '$',\n",
    "}\n",
    "    message = message.lower()\n",
    "    encrypted_message = ''\n",
    "    for char in message:\n",
    "        if char in encryption_map:\n",
    "            encrypted_message += encryption_map[char]\n",
    "        else:\n",
    "            encrypted_message += char\n",
    "    return encrypted_message\n",
    "message = \"I want to become a Data Scientist.\"\n",
    "print(encrypt_message(message))"
   ]
  },
  {
   "cell_type": "code",
   "execution_count": null,
   "id": "22659145-53d5-4c15-8d75-eaf7daf4b097",
   "metadata": {},
   "outputs": [],
   "source": []
  }
 ],
 "metadata": {
  "kernelspec": {
   "display_name": "Python 3 (ipykernel)",
   "language": "python",
   "name": "python3"
  },
  "language_info": {
   "codemirror_mode": {
    "name": "ipython",
    "version": 3
   },
   "file_extension": ".py",
   "mimetype": "text/x-python",
   "name": "python",
   "nbconvert_exporter": "python",
   "pygments_lexer": "ipython3",
   "version": "3.10.8"
  }
 },
 "nbformat": 4,
 "nbformat_minor": 5
}
