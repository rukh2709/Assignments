{
 "cells": [
  {
   "cell_type": "markdown",
   "id": "e31e726f-2966-4a3d-9c5b-15e6e8f3697a",
   "metadata": {},
   "source": [
    "1. Who developed Python Programming Language? \n",
    "Ans1: Guido van Rossum"
   ]
  },
  {
   "cell_type": "markdown",
   "id": "401500dc-5e4b-4143-bc32-c51bc1756ddf",
   "metadata": {},
   "source": [
    "2. Which type of Programming does Python support? \n",
    "Ans: Python is an interpreted programming language that supports object-oriented, structured, and functional programming."
   ]
  },
  {
   "cell_type": "markdown",
   "id": "f3345432-1249-44e3-b61b-cbd8c2c5c220",
   "metadata": {},
   "source": [
    "3. Is Python case sensitive when dealing with identifiers? \n",
    "Ans: Yes, Python is a case-sensitive language."
   ]
  },
  {
   "cell_type": "markdown",
   "id": "db6445c1-746d-4893-9e10-903d697e5a1b",
   "metadata": {},
   "source": [
    "4. What is the correct extension of the Python file? \n",
    "Ans:.py extension"
   ]
  },
  {
   "cell_type": "markdown",
   "id": "f2b7db27-036f-458a-886a-f121bed8c032",
   "metadata": {},
   "source": [
    "5. Is Python code compiled or interpreted? \n",
    "Ans: Python is an interpreted language."
   ]
  },
  {
   "cell_type": "markdown",
   "id": "fe5f3bfe-65a6-40b0-9019-eda9793f6c8a",
   "metadata": {},
   "source": [
    "6. Name a few blocks of code used to define in Python language? \n",
    "Ans: A module, a function body, and a class definition"
   ]
  },
  {
   "cell_type": "markdown",
   "id": "77323aa9-a753-4f2b-a896-cfff892b73e9",
   "metadata": {},
   "source": [
    "7. State a character used to give single-line comments in Python? \n",
    "Ans: #"
   ]
  },
  {
   "cell_type": "markdown",
   "id": "7b12d358-ba2c-4669-8914-5bb18cc067e1",
   "metadata": {},
   "source": [
    "8. Mention functions which can help us to find the version of python that we are currently working on? \n",
    "Ans: sys. version function"
   ]
  },
  {
   "cell_type": "markdown",
   "id": "61fb336d-32a1-4931-a8c0-ffd601a025f5",
   "metadata": {},
   "source": [
    "9. Python supports the creation of anonymous functions at runtime, using a construct called \n",
    "Ans: lambda"
   ]
  },
  {
   "cell_type": "markdown",
   "id": "d1cd35ee-620d-4ca4-ae2d-79ee707a2a9e",
   "metadata": {},
   "source": [
    "10. What does pip stand for python? \n",
    "Ans: preferred installer program"
   ]
  },
  {
   "cell_type": "markdown",
   "id": "f2a1740a-724f-48ba-a70b-5e30b25fa602",
   "metadata": {},
   "source": [
    "11. Mention a few built-in functions in python? \n",
    "Ans: print( ) function, type( ) function, input( ) function, abs( ) function, insert( ) function, dir( ) function, sorted( ) function, max( ) function."
   ]
  },
  {
   "cell_type": "markdown",
   "id": "2cf8997f-85bd-4e9e-a92e-854432fc1357",
   "metadata": {},
   "source": [
    "12. What is the maximum possible length of an identifier in Python? \n",
    "Ans: An identifier can have a maximum length of 79 characters in Python."
   ]
  },
  {
   "cell_type": "markdown",
   "id": "1e25b114-08b3-4377-8cb4-4138148035ec",
   "metadata": {},
   "source": [
    "13. What are the benefits of using Python? \n",
    "Ans: Python is used in Data science, Scientific and mathematical computing, Web development, Finance and trading, System automation and administration, Computer graphics, Basic game development, Security and penetration testing."
   ]
  },
  {
   "cell_type": "markdown",
   "id": "fe077224-21a2-45c0-833f-88058fa93ef5",
   "metadata": {},
   "source": [
    "14. How is memory managed in Python? \n",
    "Ans: There is a private heap memory in Python in which space allocation is done by the Python memory manager. So, this is how it works, how allocations should be done, how to use heap memory. Python memory manager is responsible for it and this is how memory is managed in Python."
   ]
  },
  {
   "cell_type": "markdown",
   "id": "8d183872-0972-467e-afc0-7d59fd3ac93d",
   "metadata": {},
   "source": [
    "15. How to install Python on Windows and set path variables? \n",
    "Ans: Right click on My Computer and click on properties.\n",
    "Click on Advanced System settings.\n",
    "Click on Environment Variable tab.\n",
    "Click on new tab of user variables.\n",
    "Write path in variable name.\n",
    "Copy the path of Python folder.\n",
    "Paste path of Python in variable value. Click on Ok button: Click on Ok button:"
   ]
  },
  {
   "cell_type": "markdown",
   "id": "58a75977-170d-44d8-b4f9-2cc4845dadbb",
   "metadata": {},
   "source": [
    "16. Is indentation required in python? \n",
    "Ans: The indentation in Python is very important."
   ]
  },
  {
   "cell_type": "code",
   "execution_count": null,
   "id": "e578463c-8301-46ef-907c-9601a8d666bc",
   "metadata": {},
   "outputs": [],
   "source": []
  },
  {
   "cell_type": "code",
   "execution_count": null,
   "id": "ed00e551-e478-4599-b9cb-a5ef6ad965a1",
   "metadata": {},
   "outputs": [],
   "source": []
  }
 ],
 "metadata": {
  "kernelspec": {
   "display_name": "Python 3 (ipykernel)",
   "language": "python",
   "name": "python3"
  },
  "language_info": {
   "codemirror_mode": {
    "name": "ipython",
    "version": 3
   },
   "file_extension": ".py",
   "mimetype": "text/x-python",
   "name": "python",
   "nbconvert_exporter": "python",
   "pygments_lexer": "ipython3",
   "version": "3.10.8"
  }
 },
 "nbformat": 4,
 "nbformat_minor": 5
}
