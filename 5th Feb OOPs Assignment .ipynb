{
 "cells": [
  {
   "cell_type": "raw",
   "id": "5fbc05c6-bb33-4595-ab56-99881301f1d9",
   "metadata": {},
   "source": [
    "Q1. Explain Class and Object with respect to Object-Oriented Programming. Give a suitable example.\n",
    "Answer 1: \n",
    "Class:\n",
    "A class is considered as a blueprint of objects. We can think of the class as a sketch (prototype) of a house. It contains all the details about the floors, doors, windows, etc. Based on these descriptions we build the house. House is the object. Since many houses can be made from the same description, we can create many objects from a class.\n",
    "We use the class keyword to create a class in Python. For example,\n",
    "class marks:\n",
    "    maths = 25\n",
    "    english = 28\n",
    "Here, we have created a class named marks. maths/english are the variables inside the class with default values 25 and 28 respectively. The variables inside a class are called attributes.\n",
    "    \n",
    "Object:\n",
    "An object is called an instance/ of a class. For example, suppose marks is a class then we can create objects like ashok, rakesh, etc from the class.\n",
    "Here's the syntax to create an object.\n",
    "objectName = ClassName()\n",
    "\n",
    "Let's see an example,\n",
    "# create class\n",
    "class marks:\n",
    "    maths = 25\n",
    "    english = 28\n",
    "# create objects of class\n",
    "ashok = marks()\n",
    "rakesh = marks()\n",
    "\n",
    "Access Class Attributes Using Objects:\n",
    "We use the . notation to access the attributes of a class. For example,\n",
    "# modify the maths attribute\n",
    "ashok.maths = 23\n",
    "# access the english attribute\n",
    "ashok.english=26"
   ]
  },
  {
   "cell_type": "markdown",
   "id": "c24b1243-a6cd-4b58-91de-cf86f7314cbd",
   "metadata": {},
   "source": [
    "Q2. Name the four pillars of OOPs.\n",
    "Answer 2: Four pillars are Inheritance, Polymorphism, Encapsulation and Abstraction."
   ]
  },
  {
   "cell_type": "raw",
   "id": "c7493d64-4bd7-4835-b709-52873e1ae0e4",
   "metadata": {},
   "source": [
    "Q3. Explain why the __init__() function is used. Give a suitable example.\n",
    "Answer 3: All classes have a function called __init__(). The __init__ method lets the class initialize the object's attributes. Following is the example of __init__() function:"
   ]
  },
  {
   "cell_type": "code",
   "execution_count": 1,
   "id": "22781e04-1772-4f94-a83c-6e9b8c628902",
   "metadata": {},
   "outputs": [],
   "source": [
    "#Example\n",
    "# A class named pwskills2 is created here and a constructor __init__() and return_student_details() function are defined\n",
    "class pwskills2:\n",
    "    def __init__(self, phone_number, email_id, student_id): # __init__ is a constructor\n",
    "        self.phone_number=phone_number\n",
    "        self.email_id=email_id\n",
    "        self.student_id=student_id\n",
    "    def return_student_details(self):\n",
    "        return self.student_id, self.email_id, self.phone_number"
   ]
  },
  {
   "cell_type": "code",
   "execution_count": 3,
   "id": "9ada5b10-1f64-4ff0-b7a5-efa0933b4dd5",
   "metadata": {},
   "outputs": [
    {
     "data": {
      "text/plain": [
       "<__main__.pwskills2 at 0x7f8a10d19bd0>"
      ]
     },
     "execution_count": 3,
     "metadata": {},
     "output_type": "execute_result"
    }
   ],
   "source": [
    "rukh=pwskills2(98543322, \"sudh@gmail.com\", 3) # rukh is an object of the class pwskills2\n",
    "rukh"
   ]
  },
  {
   "cell_type": "code",
   "execution_count": 4,
   "id": "b1298839-b156-4e26-8a5c-7ed9f2869f67",
   "metadata": {},
   "outputs": [
    {
     "data": {
      "text/plain": [
       "98543322"
      ]
     },
     "execution_count": 4,
     "metadata": {},
     "output_type": "execute_result"
    }
   ],
   "source": [
    "rukh.phone_number # object rukh will access the phone_number which is passed to the class pwskills2"
   ]
  },
  {
   "cell_type": "raw",
   "id": "7ccdee8f-55a1-4f70-bad1-51df1b106bbf",
   "metadata": {},
   "source": [
    "Q4. Why self is used in OOPs?\n",
    "Answer 4: The self variable is used to represent the instance of the class which is often used in object-oriented programming. It works as a reference to the object."
   ]
  },
  {
   "cell_type": "raw",
   "id": "9f647462-9a51-47c1-8193-51c18e86b824",
   "metadata": {},
   "source": [
    "Q5. What is inheritance? Give an example for each type of inheritance.\n",
    "Inheritance is a mechanism of acquiring the features and behaviors of a class by another class. The class whose members are inherited is called the base class, and the class that inherits those members is called the derived class.\n",
    "(1) Single Inheritance in Python:\n",
    "When one child class inherits only one parent class, it is called single inheritance. It is the most basic type of inheritance.\n",
    "Syntax: class Subclass(Superclass):\n",
    "Example of Single Inheritance in Python:"
   ]
  },
  {
   "cell_type": "code",
   "execution_count": 6,
   "id": "6fcdacc0-e90a-4364-9825-120d9c7d82d9",
   "metadata": {},
   "outputs": [
    {
     "name": "stdout",
     "output_type": "stream",
     "text": [
      "John is a Professor\n"
     ]
    }
   ],
   "source": [
    "class Person:\n",
    "    def __init__(self, name, age):\n",
    "        self.name = name\n",
    "        self.age = age\n",
    "class Professor(Person):\n",
    "    def isProfessor(self):\n",
    "        return f\"{self.name} is a Professor\"\n",
    "sir = Professor(\"John\", 30)\n",
    "print(sir.isProfessor())"
   ]
  },
  {
   "cell_type": "raw",
   "id": "770d2a79-1fc9-43c9-99ec-e9b551b4c106",
   "metadata": {},
   "source": [
    "(2) Multiple Inheritance in Python:\n",
    "When one child class inherits two or more parent classes, it is called Multiple Inheritance. Unlike Python, this feature is not supported in Java and C++.\n",
    "Syntax: class Subclass(Superclass1, Superclass2,..., SuperclassN):\n",
    "Example of Multiple Inheritance in Python:"
   ]
  },
  {
   "cell_type": "code",
   "execution_count": 8,
   "id": "ebf329d7-de17-4e75-a772-175c27a8b0f1",
   "metadata": {},
   "outputs": [
    {
     "name": "stdout",
     "output_type": "stream",
     "text": [
      "8\n"
     ]
    }
   ],
   "source": [
    "class SuperClass1:\n",
    "    num1 = 3\n",
    "class SuperClass2:\n",
    "    num2 = 5\n",
    "class SubClass( SuperClass1, SuperClass2):\n",
    "    def addition(self):\n",
    "        return self.num1 + self.num2\n",
    "obj = SubClass()\n",
    "print(obj.addition())"
   ]
  },
  {
   "cell_type": "raw",
   "id": "9c79a822-dc22-44f3-b52b-d38c7f383653",
   "metadata": {},
   "source": [
    "(3) Multilevel Inheritance in Python:\n",
    "When a class inherits a child class, it is called Multilevel Inheritance. The class which inherits the child class is called a grandchild class. Multilevel Inheritance causes grandchild and child relationships. The grandchild class has access to both child and parent class properties.\n",
    "Syntax: class Subclass2(Subclass1):\n",
    "Example of Multilevel Inheritance in Python"
   ]
  },
  {
   "cell_type": "code",
   "execution_count": 9,
   "id": "99e17fe5-e50f-4404-a991-9168671a921e",
   "metadata": {},
   "outputs": [
    {
     "name": "stdout",
     "output_type": "stream",
     "text": [
      "PythonGeeks\n"
     ]
    }
   ],
   "source": [
    "class Parent:\n",
    "    str1 = \"Python\"\n",
    "class Child(Parent):\n",
    "    str2 = \"Geeks\"\n",
    "class GrandChild(Child):\n",
    "    def get_str(self):\n",
    "        print(self.str1 + self.str2)\n",
    "person = GrandChild()\n",
    "person.get_str()"
   ]
  },
  {
   "cell_type": "raw",
   "id": "dcf4c21f-b4ab-44c8-8537-3406f27c0d49",
   "metadata": {},
   "source": [
    "(4) Hierarchical Inheritance in Python:\n",
    "When multiple classes inherit the same class, it is called Hierarchical Inheritance.\n",
    "Syntax: \n",
    "class Subclass1(Superclass):\n",
    "    # Class body...\n",
    "class Subclass2(Superclass):\n",
    "    # Class body...\n",
    "        .\n",
    "        .\n",
    "        .\n",
    "class SubclassN(Superclass):\n",
    "Example of Hierarchical Inheritance in Python:"
   ]
  },
  {
   "cell_type": "code",
   "execution_count": 10,
   "id": "68cc1780-520a-4343-bd15-c21c798f4c3b",
   "metadata": {},
   "outputs": [
    {
     "name": "stdout",
     "output_type": "stream",
     "text": [
      "3 3 3\n"
     ]
    }
   ],
   "source": [
    "class SuperClass:\n",
    "    x = 3\n",
    "class SubClass1(SuperClass):\n",
    "    pass\n",
    "class SubClass2(SuperClass):\n",
    "    pass\n",
    "class SubClass3(SuperClass):\n",
    "    pass\n",
    "a = SubClass1()\n",
    "b = SubClass2()\n",
    "c = SubClass3()\n",
    "print(a.x, b.x, c.x)"
   ]
  },
  {
   "cell_type": "raw",
   "id": "37a219a2-e6bb-4e80-b2f9-a83e8ab7abfe",
   "metadata": {},
   "source": [
    "(5) Hybrid Inheritance in Python:\n",
    "A combination of more than one type of inheritance is called Hybrid Inheritance.\n",
    "Example of Python Hybrid Inheritance:"
   ]
  },
  {
   "cell_type": "code",
   "execution_count": 11,
   "id": "ed1f47bc-73da-4450-8569-3d4f07dbb5b3",
   "metadata": {},
   "outputs": [
    {
     "name": "stdout",
     "output_type": "stream",
     "text": [
      "10\n"
     ]
    }
   ],
   "source": [
    "class X:\n",
    "    num = 10\n",
    "class A(X):\n",
    "    pass\n",
    "class B(A):\n",
    "    pass\n",
    "class C(A):\n",
    "    pass\n",
    "class D(B, C):\n",
    "    pass\n",
    "ob = D()\n",
    "print(D.num)"
   ]
  }
 ],
 "metadata": {
  "kernelspec": {
   "display_name": "Python 3 (ipykernel)",
   "language": "python",
   "name": "python3"
  },
  "language_info": {
   "codemirror_mode": {
    "name": "ipython",
    "version": 3
   },
   "file_extension": ".py",
   "mimetype": "text/x-python",
   "name": "python",
   "nbconvert_exporter": "python",
   "pygments_lexer": "ipython3",
   "version": "3.10.8"
  }
 },
 "nbformat": 4,
 "nbformat_minor": 5
}
