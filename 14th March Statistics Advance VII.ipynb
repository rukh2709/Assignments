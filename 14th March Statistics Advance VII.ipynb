{
 "cells": [
  {
   "cell_type": "markdown",
   "id": "3c2565e2-246d-40b2-8f3f-c62295b9a1a3",
   "metadata": {},
   "source": [
    "Q1. Write a Python function that takes in two arrays of data and calculates the F-value for a variance ratio\n",
    "test. The function should return the F-value and the corresponding p-value for the test."
   ]
  },
  {
   "cell_type": "code",
   "execution_count": 3,
   "id": "daf8c6eb-2fa2-4fb4-b971-1a900fd8fdb7",
   "metadata": {},
   "outputs": [],
   "source": [
    "# Answer 1:\n",
    "import numpy as np\n",
    "from scipy.stats import f\n",
    "\n",
    "def f_test(x, y):\n",
    "    # Calculate the mean and variance of each dataset\n",
    "    x_mean = np.mean(x)\n",
    "    y_mean = np.mean(y)\n",
    "    x_var = np.var(x, ddof=1)\n",
    "    y_var = np.var(y, ddof=1)\n",
    "    \n",
    "    # Calculate the F-value for the variance ratio test\n",
    "    f_value = x_var / y_var\n",
    "    \n",
    "    # Calculate the degrees of freedom for the F-distribution\n",
    "    df1 = len(x) - 1\n",
    "    df2 = len(y) - 1\n",
    "    \n",
    "    # Calculate the p-value for the test\n",
    "    p_value = f.cdf(f_value, df1, df2)\n",
    "    p_value = 1 - p_value if p_value < 0.5 else p_value * 2\n",
    "    \n",
    "    return f_value, p_value\n"
   ]
  },
  {
   "cell_type": "code",
   "execution_count": 4,
   "id": "0c304bbf-e36e-42e9-b0bc-c6a5cd931fd3",
   "metadata": {},
   "outputs": [
    {
     "name": "stdout",
     "output_type": "stream",
     "text": [
      "F-value: 1.0\n",
      "p-value: 1.0\n"
     ]
    }
   ],
   "source": [
    "x = [1, 2, 3, 4, 5]\n",
    "y = [6, 7, 8, 9, 10]\n",
    "f_value, p_value = f_test(x, y)\n",
    "print(\"F-value:\", f_value)\n",
    "print(\"p-value:\", p_value)"
   ]
  },
  {
   "cell_type": "markdown",
   "id": "1b0cc35b-1e85-49ca-a8df-dd7f0557263f",
   "metadata": {},
   "source": [
    "Q2. Given a significance level of 0.05 and the degrees of freedom for the numerator and denominator of an\n",
    "F-distribution, write a Python function that returns the critical F-value for a two-tailed test."
   ]
  },
  {
   "cell_type": "code",
   "execution_count": 5,
   "id": "21a2eaa3-cd36-4da4-a02e-d27954c5d0fd",
   "metadata": {},
   "outputs": [
    {
     "name": "stdout",
     "output_type": "stream",
     "text": [
      "Critical F-value: 3.8587\n"
     ]
    }
   ],
   "source": [
    "# Answer 2: \n",
    "from scipy.stats import f\n",
    "\n",
    "def critical_f_value(alpha, dfn, dfd):\n",
    "    \"\"\"\n",
    "    Returns the critical F-value for a two-tailed test\n",
    "    with a given significance level and degrees of freedom\n",
    "    for the numerator and denominator of an F-distribution.\n",
    "    \"\"\"\n",
    "    return f.ppf(1 - alpha / 2, dfn, dfd)\n",
    "\n",
    "# calling the function\n",
    "alpha = 0.05\n",
    "dfn = 3\n",
    "dfd = 20\n",
    "f_crit = critical_f_value(alpha, dfn, dfd)\n",
    "print(f\"Critical F-value: {f_crit:.4f}\")"
   ]
  },
  {
   "cell_type": "markdown",
   "id": "23fe6557-2a8e-4d24-ad31-356acad1c50b",
   "metadata": {},
   "source": [
    "Q3. Write a Python program that generates random samples from two normal distributions with known variances and uses an F-test to determine if the variances are equal. The program should output the F-value, degrees of freedom, and p-value for the test."
   ]
  },
  {
   "cell_type": "code",
   "execution_count": 1,
   "id": "9c72d566-e31c-4a3a-8903-0592b6014d7c",
   "metadata": {},
   "outputs": [
    {
     "name": "stdout",
     "output_type": "stream",
     "text": [
      "F-statistic: 4.28\n",
      "Degrees of freedom: (29, 29)\n",
      "P-value: 0.0002\n"
     ]
    }
   ],
   "source": [
    "# Answer 3: \n",
    "import numpy as np\n",
    "from scipy.stats import f\n",
    "\n",
    "# Set the random seed for reproducibility\n",
    "np.random.seed(42)\n",
    "\n",
    "# Set the parameters for the normal distributions\n",
    "mu1, mu2 = 0, 0\n",
    "sigma1, sigma2 = 1, 2\n",
    "n1, n2 = 30, 30\n",
    "\n",
    "# Generate random samples from the normal distributions\n",
    "sample1 = np.random.normal(mu1, sigma1, n1)\n",
    "sample2 = np.random.normal(mu2, sigma2, n2)\n",
    "\n",
    "# Calculate the sample variances\n",
    "var1 = np.var(sample1, ddof=1)\n",
    "var2 = np.var(sample2, ddof=1)\n",
    "\n",
    "# Calculate the F-statistic and p-value for the F-test\n",
    "f_stat = var1 / var2 if var1 > var2 else var2 / var1\n",
    "df1, df2 = n1-1, n2-1\n",
    "p_value = f.sf(f_stat, df1, df2) * 2\n",
    "\n",
    "# Print the results\n",
    "print(f\"F-statistic: {f_stat:.2f}\")\n",
    "print(f\"Degrees of freedom: ({df1}, {df2})\")\n",
    "print(f\"P-value: {p_value:.4f}\")"
   ]
  },
  {
   "cell_type": "markdown",
   "id": "7225ee4a-7366-419a-83ee-925865b3d9fa",
   "metadata": {},
   "source": [
    "Q4.The variances of two populations are known to be 10 and 15. A sample of 12 observations is taken from\n",
    "each population. Conduct an F-test at the 5% significance level to determine if the variances are\n",
    "significantly different."
   ]
  },
  {
   "cell_type": "markdown",
   "id": "7b70e45c-7906-4aa0-9294-dcdce96e3082",
   "metadata": {},
   "source": [
    "Answer 4: Step1:\n",
    "Null hypothesis: The variances of the two populations are equal.\n",
    "Alternative hypothesis: The variances of the two populations are significantly different.\n",
    "\n",
    "H0: σ1^2 = σ2^2\n",
    "Ha: σ1^2 ≠ σ2^2\n",
    "\n",
    "Step 2: The level of significance is 5%, or α = 0.05.\n",
    "\n",
    "Step 3: Calculate the F-statistic.\n",
    "\n",
    "F = s1^2 / s2^2\n",
    " = 10 / 15\n",
    " = 0.6667\n",
    "\n",
    "Step 4: Determine the critical value from the F-distribution table.\n",
    "\n",
    "The degrees of freedom for the numerator and denominator are 11 and 11, respectively (since we have 12 observations from each population). From the F-distribution table at α = 0.05 and degrees of freedom of 11 and 11, the critical values are:\n",
    "\n",
    "F_crit,lower = 0.294\n",
    "F_crit,upper = 3.055\n",
    "\n",
    "Step 5: Compare the calculated F-value with the critical value.\n",
    "\n",
    "The calculated F-value of 0.6667 is within the critical values of 0.294 and 3.055. Therefore, we fail to reject the null hypothesis.\n",
    "\n",
    "Step 6: Draw a conclusion.\n",
    "\n",
    "At the 5% significance level, we do not have sufficient evidence to conclude that the variances of the two populations are significantly different."
   ]
  },
  {
   "cell_type": "markdown",
   "id": "ea238ac7-1093-4ba1-9c4d-bfe7d8528226",
   "metadata": {},
   "source": [
    "Q5. A manufacturer claims that the variance of the diameter of a certain product is 0.005. A sample of 25\n",
    "products is taken, and the sample variance is found to be 0.006. Conduct an F-test at the 1% significance\n",
    "level to determine if the claim is justified."
   ]
  },
  {
   "cell_type": "markdown",
   "id": "266155bb-cca8-4f89-b6c7-dd4bf20221cd",
   "metadata": {},
   "source": [
    "Answer 5: Step 1:\n",
    "Null hypothesis: The variance of the diameter of the product is equal to 0.005.\n",
    "Alternative hypothesis: The variance of the diameter of the product is significantly different from 0.005.\n",
    "\n",
    "H0: σ^2 = 0.005\n",
    "Ha: σ^2 ≠ 0.005\n",
    "\n",
    "Step 2: The level of significance is 1%, or α = 0.01.\n",
    "\n",
    "Step 3: The F-statistic is given by:\n",
    "\n",
    "F = s^2 / σ^2\n",
    " = 0.006 / 0.005\n",
    " = 1.2\n",
    "\n",
    "Step 4: Determine the critical value from the F-distribution table.\n",
    "\n",
    "The degrees of freedom for the numerator and denominator are 24 and 24, respectively (since we have 25 observations). From the F-distribution table at α = 0.01 and degrees of freedom of 24 and 24, the critical values are:\n",
    "\n",
    "F_crit,lower = 0.348\n",
    "F_crit,upper = 3.437\n",
    "\n",
    "Step 5: Compare the calculated F-value with the critical value.\n",
    "\n",
    "The calculated F-value of 1.2 is within the critical values of 0.348 and 3.437. Therefore, we fail to reject the null hypothesis.\n",
    "\n",
    "Step 6: Draw a conclusion.\n",
    "\n",
    "At the 1% significance level, we do not have sufficient evidence to conclude that the claimed population variance of 0.005 is significantly different from the sample variance of 0.006. Therefore, we can say that the claim is justified."
   ]
  },
  {
   "cell_type": "markdown",
   "id": "1c8604f9-9e26-427d-a83c-8442addf84d3",
   "metadata": {},
   "source": [
    "Q6. Write a Python function that takes in the degrees of freedom for the numerator and denominator of an\n",
    "F-distribution and calculates the mean and variance of the distribution. The function should return the\n",
    "mean and variance as a tuple."
   ]
  },
  {
   "cell_type": "code",
   "execution_count": 6,
   "id": "d1f07155-f998-48f8-9686-f04e82cdc7c9",
   "metadata": {},
   "outputs": [
    {
     "name": "stdout",
     "output_type": "stream",
     "text": [
      "Mean: 1.1111\n",
      "Variance: 1.0802\n"
     ]
    }
   ],
   "source": [
    "# Answer 6: \n",
    "import math\n",
    "\n",
    "def f_distribution_mean_and_var(df_n, df_d):\n",
    "    mean = df_d / (df_d - 2)\n",
    "    variance = (2 * (df_d ** 2) * (df_n + df_d - 2)) / ((df_n * (df_d - 2) ** 2 * (df_d - 4)))\n",
    "    return (mean, variance)\n",
    "\n",
    "# Example usage\n",
    "df_n = 5\n",
    "df_d = 10\n",
    "mean, variance = f_distribution_mean_and_var(dfn, dfd)\n",
    "print(f\"Mean: {mean:.4f}\")\n",
    "print(f\"Variance: {variance:.4f}\")"
   ]
  },
  {
   "cell_type": "markdown",
   "id": "7113779a-2e5b-4cd9-82b0-81c55deab67a",
   "metadata": {},
   "source": [
    "Q7. A random sample of 10 measurements is taken from a normal population with unknown variance. The\n",
    "sample variance is found to be 25. Another random sample of 15 measurements is taken from another\n",
    "normal population with unknown variance, and the sample variance is found to be 20. Conduct an F-test\n",
    "at the 10% significance level to determine if the variances are significantly different."
   ]
  },
  {
   "cell_type": "markdown",
   "id": "a6ff662a-4cbc-4ab2-8092-99a55695666e",
   "metadata": {},
   "source": [
    "Answer 7:\n",
    "Null hypothesis: The variances of the two populations are equal.\n",
    "Alternative hypothesis: The variances of the two populations are not equal.\n",
    "\n",
    "We can use the F-test statistic to test the null hypothesis. The formula for the F-test statistic is:\n",
    "\n",
    "F = s1^2 / s2^2\n",
    "\n",
    "where s1^2 is the sample variance of the first population and s2^2 is the sample variance of the second population. Under the null hypothesis, the F-test statistic follows an F-distribution with degrees of freedom (df1, df2) = (n1-1, n2-1), where n1 and n2 are the sample sizes.\n",
    "\n",
    "At the 10% significance level, we can reject the null hypothesis if the calculated F-test statistic is greater than the critical value of the F-distribution with degrees of freedom (9, 14), which we can obtain from a statistical table or a calculator.\n",
    "\n",
    "Using the given sample variances, we can calculate the F-test statistic as:\n",
    "\n",
    "F = s1^2 / s2^2 = 25 / 20 = 1.25\n",
    "\n",
    "For (df1, df2) = (9, 14), the critical value of the F-distribution at the 10% significance level is 2.391.\n",
    "\n",
    "Since the calculated F-test statistic (1.25) is less than the critical value (2.391), we fail to reject the null hypothesis. Therefore, we do not have sufficient evidence to conclude that the variances of the two populations are significantly different at the 10% significance level.\n",
    "\n",
    "In conclusion, we cannot conclude that the variances of the two populations are significantly different at the 10% significance level based on the given sample variances."
   ]
  },
  {
   "cell_type": "markdown",
   "id": "9e1c9a5f-68e0-422f-8379-796ae717fe9a",
   "metadata": {},
   "source": [
    "Q8. The following data represent the waiting times in minutes at two different restaurants on a Saturday\n",
    "night: Restaurant A: 24, 25, 28, 23, 22, 20, 27; Restaurant B: 31, 33, 35, 30, 32, 36. Conduct an F-test at the 5%\n",
    "significance level to determine if the variances are significantly different."
   ]
  },
  {
   "cell_type": "markdown",
   "id": "629c187a-8c77-4438-98d6-facd2f9142f0",
   "metadata": {},
   "source": [
    "Answer 8:\n",
    "Null hypothesis: The variances of the two populations are equal.\n",
    "Alternative hypothesis: The variances of the two populations are not equal.\n",
    "\n",
    "We can use the F-test statistic to test the null hypothesis. The formula for the F-test statistic is:\n",
    "\n",
    "F = s1^2 / s2^2\n",
    "\n",
    "where s1^2 is the sample variance of the first population and s2^2 is the sample variance of the second population. Under the null hypothesis, the F-test statistic follows an F-distribution with degrees of freedom (df1, df2) = (n1-1, n2-1), where n1 and n2 are the sample sizes.\n",
    "\n",
    "At the 5% significance level, we can reject the null hypothesis if the calculated F-test statistic is greater than the critical value of the F-distribution with degrees of freedom (df1, df2) = (n1-1, n2-1) and alpha/2 = 0.025, where alpha is the significance level.\n",
    "\n",
    "Using the given data, we can calculate the sample variances as:\n",
    "\n",
    "s1^2 = 7.81\n",
    "s2^2 = 6.67\n",
    "\n",
    "where s1^2 is the sample variance of Restaurant A and s2^2 is the sample variance of Restaurant B.\n",
    "\n",
    "The degrees of freedom for the F-distribution are (df1, df2) = (6, 5), where n1 = 7 and n2 = 6.\n",
    "\n",
    "Using these values, we can calculate the F-test statistic as:\n",
    "\n",
    "F = s1^2 / s2^2 = 7.81 / 6.67 = 1.17\n",
    "\n",
    "For (df1, df2) = (6, 5) and alpha/2 = 0.025, the critical value of the F-distribution at the 5% significance level is 4.03.\n",
    "\n",
    "Since the calculated F-test statistic (1.17) is less than the critical value (4.03), we fail to reject the null hypothesis. Therefore, we do not have sufficient evidence to conclude that the variances of the waiting times at the two restaurants are significantly different at the 5% significance level.\n",
    "\n",
    "In conclusion, we cannot conclude that the variances of the waiting times at the two restaurants are significantly different at the 5% significance level based on the given data."
   ]
  },
  {
   "cell_type": "markdown",
   "id": "d0ae1352-d4bd-4074-8c58-726bb5a987af",
   "metadata": {},
   "source": [
    "Q9. The following data represent the test scores of two groups of students: Group A: 80, 85, 90, 92, 87, 83;\n",
    "Group B: 75, 78, 82, 79, 81, 84. Conduct an F-test at the 1% significance level to determine if the variances\n",
    "are significantly different."
   ]
  },
  {
   "cell_type": "markdown",
   "id": "262e028c-be86-4752-b7dc-06d7871786bf",
   "metadata": {},
   "source": [
    "Answer 9:\n",
    "Null hypothesis: The variances of the two populations are equal.\n",
    "Alternative hypothesis: The variances of the two populations are not equal.\n",
    "\n",
    "We can use the F-test statistic to test the null hypothesis. The formula for the F-test statistic is:\n",
    "\n",
    "F = s1^2 / s2^2\n",
    "\n",
    "where s1^2 is the sample variance of the first population and s2^2 is the sample variance of the second population. Under the null hypothesis, the F-test statistic follows an F-distribution with degrees of freedom (df1, df2) = (n1-1, n2-1), where n1 and n2 are the sample sizes.\n",
    "\n",
    "At the 1% significance level, we can reject the null hypothesis if the calculated F-test statistic is greater than the critical value of the F-distribution with degrees of freedom (df1, df2) = (n1-1, n2-1) and alpha/2 = 0.005, where alpha is the significance level.\n",
    "\n",
    "Using the given data, we can calculate the sample variances as:\n",
    "\n",
    "s1^2 = 23.80\n",
    "s2^2 = 8.67\n",
    "\n",
    "where s1^2 is the sample variance of Group A and s2^2 is the sample variance of Group B.\n",
    "\n",
    "The degrees of freedom for the F-distribution are (df1, df2) = (5, 5), where n1 = 6 and n2 = 6.\n",
    "\n",
    "Using these values, we can calculate the F-test statistic as:\n",
    "\n",
    "F = s1^2 / s2^2 = 23.80 / 8.67 = 2.75\n",
    "\n",
    "For (df1, df2) = (5, 5) and alpha/2 = 0.005, the critical value of the F-distribution at the 1% significance level is 6.94.\n",
    "\n",
    "Since the calculated F-test statistic (2.75) is less than the critical value (6.94), we fail to reject the null hypothesis. Therefore, we do not have sufficient evidence to conclude that the variances of the test scores of the two groups of students are significantly different at the 1% significance level.\n",
    "\n",
    "In conclusion, we cannot conclude that the variances of the test scores of the two groups of students are significantly different at the 1% significance level based on the given data."
   ]
  }
 ],
 "metadata": {
  "kernelspec": {
   "display_name": "Python 3 (ipykernel)",
   "language": "python",
   "name": "python3"
  },
  "language_info": {
   "codemirror_mode": {
    "name": "ipython",
    "version": 3
   },
   "file_extension": ".py",
   "mimetype": "text/x-python",
   "name": "python",
   "nbconvert_exporter": "python",
   "pygments_lexer": "ipython3",
   "version": "3.10.8"
  }
 },
 "nbformat": 4,
 "nbformat_minor": 5
}
