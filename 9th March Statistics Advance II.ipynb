{
 "cells": [
  {
   "cell_type": "markdown",
   "id": "0ddeffdb-c4d0-47eb-8845-3d4410802428",
   "metadata": {},
   "source": [
    "Q1: What are the Probability Mass Function (PMF) and Probability Density Function (PDF)? Explain with\n",
    "an example."
   ]
  },
  {
   "cell_type": "markdown",
   "id": "bc8daee2-f08e-4fe3-8c3b-b3c72a5017c7",
   "metadata": {},
   "source": [
    "Answer 1: Probability Mass Function (PMF) and Probability Density Function (PDF) are mathematical functions that are used to describe the probability distribution of a random variable.\n",
    "\n",
    "(1) The Probability Mass Function (PMF) is used for discrete random variables. It gives the probability that a discrete random variable takes a specific value. The PMF is defined as follows:\n",
    "\n",
    "PMF(x) = P(X = x)\n",
    "\n",
    "Here, X is the discrete random variable, and x is a specific value that X can take. The PMF gives the probability that X takes the value x.\n",
    "\n",
    "For example, consider a random variable X that represents the number of heads in two coin tosses. X can take the values 0, 1, or 2. The PMF of X is:\n",
    "\n",
    "PMF(0) = P(X = 0) = 1/4\n",
    "PMF(1) = P(X = 1) = 1/2\n",
    "PMF(2) = P(X = 2) = 1/4\n",
    "\n",
    "(2) Probability Density Function (PDF) is used for continuous random variables. It gives the probability density of a continuous random variable at a specific value. The PDF is defined as follows:\n",
    "\n",
    "PDF(x) = dF(x) / dx\n",
    "\n",
    "Here, F(x) is the cumulative distribution function of the continuous random variable, and dx is an infinitesimal change in the variable x.\n",
    "\n",
    "For example, consider a continuous random variable X that represents the heights of people in a population. The PDF of X is a function that gives the probability density of the heights of people. The PDF can be used to find the probability that a person's height falls within a certain range.\n",
    "\n",
    "As an example, suppose the PDF of X is a normal distribution with mean μ = 170 cm and standard deviation σ = 10 cm. The PDF of X can be expressed as follows:\n",
    "\n",
    "PDF(x) = (1 / (σ * sqrt(2 * pi))) * exp(-(x - μ)^2 / (2 * σ^2))\n",
    "\n",
    "Here, the PDF gives the probability density of the heights of people in the population. The probability of a person's height falling within a certain range can be calculated by integrating the PDF over that range."
   ]
  },
  {
   "cell_type": "markdown",
   "id": "b743a2a4-0e03-4884-b717-1dd8c1ae5a4a",
   "metadata": {},
   "source": [
    "Q2: What is Cumulative Density Function (CDF)? Explain with an example. Why CDF is used?"
   ]
  },
  {
   "cell_type": "markdown",
   "id": "663c35df-e275-4050-91fc-61db576dd2fb",
   "metadata": {},
   "source": [
    "Answer 2: The Cumulative Density Function (CDF) is a function that gives the probability that a random variable X takes a value less than or equal to a specified value x. In other words, it gives the cumulative distribution of the random variable.\n",
    "\n",
    "The CDF of a random variable X is defined as follows:\n",
    "\n",
    "CDF(x) = P(X <= x)\n",
    "\n",
    "Here, X is the random variable, and x is a specific value that X can take. The CDF gives the probability that X takes a value less than or equal to x.\n",
    "\n",
    "For example, consider a random variable X that represents the number of people who buy a product in a store during a certain time period. X can take any non-negative integer value. Suppose the probability mass function (PMF) of X is as follows:\n",
    "\n",
    "PMF(0) = 0.4\n",
    "PMF(1) = 0.3\n",
    "PMF(2) = 0.2\n",
    "PMF(3) = 0.1\n",
    "\n",
    "The CDF of X can be calculated as follows:\n",
    "\n",
    "CDF(0) = P(X <= 0) = 0.4\n",
    "CDF(1) = P(X <= 1) = 0.4 + 0.3 = 0.7\n",
    "CDF(2) = P(X <= 2) = 0.4 + 0.3 + 0.2 = 0.9\n",
    "CDF(3) = P(X <= 3) = 0.4 + 0.3 + 0.2 + 0.1 = 1.0\n",
    "\n",
    "The CDF is used to find the probability of a random variable taking a value within a certain range. For example, the probability of X taking a value between 1 and 2 can be calculated as follows:\n",
    "P(1 <= X <= 2) = CDF(2) - CDF(0) = 0.9 - 0.4 = 0.5\n",
    "\n",
    "The CDF is also used to calculate percentiles of a distribution. "
   ]
  },
  {
   "cell_type": "markdown",
   "id": "3454b4fd-d6eb-42f9-96d0-9419b677fed8",
   "metadata": {},
   "source": [
    "Q3: What are some examples of situations where the normal distribution might be used as a model?\n",
    "Explain how the parameters of the normal distribution relate to the shape of the distribution."
   ]
  },
  {
   "cell_type": "markdown",
   "id": "687f4db1-a919-4ed0-9edb-a2fb5f733dc0",
   "metadata": {},
   "source": [
    "Answer 3: Some examples of situations where the normal distribution might be used as a model include:\n",
    "\n",
    "(1) Heights of people in a population\n",
    "(2) Weights of objects produced by a manufacturing process\n",
    "(3) Scores on a standardized test\n",
    "(4) Blood pressure readings of a population\n",
    "(5) IQ scores of a population\n",
    "\n",
    "The parameters of the normal distribution are the mean (μ) and the standard deviation (σ). The mean is the central value around which the data is distributed, and the standard deviation is a measure of the spread of the data.\n",
    "\n",
    "The shape of the normal distribution is symmetric and bell-shaped, with the majority of the data clustered around the mean. The mean is also the point of maximum probability, and the probability decreases as the distance from the mean increases.\n",
    "\n",
    "The standard deviation of the normal distribution determines the width of the bell-shaped curve. A smaller standard deviation results in a narrower and taller curve, while a larger standard deviation results in a wider and flatter curve."
   ]
  },
  {
   "cell_type": "markdown",
   "id": "88378d63-4b4b-420c-9782-57bb6132a1ef",
   "metadata": {},
   "source": [
    "Q4: Explain the importance of Normal Distribution. Give a few real-life examples of Normal\n",
    "Distribution."
   ]
  },
  {
   "cell_type": "markdown",
   "id": "8759c453-8a69-4964-8c73-2a9d4336e7d9",
   "metadata": {},
   "source": [
    "Answer 4: Some of the important properties of the normal distribution include:\n",
    "\n",
    "(1) The normal distribution is symmetric and bell-shaped, with the majority of the data clustered around the mean. This makes it a good model for many real-world phenomena where the data is concentrated around a central value.\n",
    "\n",
    "(2) The normal distribution is well-understood and has many mathematical properties that make it easy to work with. This makes it a popular choice for modeling and analyzing data in many fields.\n",
    "\n",
    "(3) The central limit theorem states that the sum of a large number of independent and identically distributed random variables will be approximately normally distributed, regardless of the distribution of the individual variables. This theorem is important because it allows us to use the normal distribution to model many real-world phenomena where the underlying distribution is unknown or difficult to model.\n",
    "\n",
    "(4) Useful for hypothesis testing: The normal distribution is commonly used in hypothesis testing because it is easy to work with and has many well-understood properties. This makes it a powerful tool for statistical inference.\n",
    "\n",
    "Some real-life examples of normal distribution include:\n",
    "\n",
    "(1) Heights of people in a population\n",
    "(2) Weights of objects produced by a manufacturing process\n",
    "(3) Scores on a standardized test\n",
    "(4) Blood pressure readings of a population\n",
    "(5) IQ scores of a population"
   ]
  },
  {
   "cell_type": "markdown",
   "id": "2af60e75-be49-4160-a6de-902f24ba964c",
   "metadata": {},
   "source": [
    "Q5: What is Bernaulli Distribution? Give an Example. What is the difference between Bernoulli\n",
    "Distribution and Binomial Distribution?"
   ]
  },
  {
   "cell_type": "markdown",
   "id": "33f9c01b-eec8-4489-bb6d-f7f80bb717f3",
   "metadata": {},
   "source": [
    "Answer 5: The Bernoulli distribution is a discrete probability distribution that describes the outcomes of a single experiment that can have only two possible outcomes, usually referred to as success and failure.\n",
    "\n",
    "The Bernoulli distribution has one parameter, which is the probability of success, denoted by p. The probability mass function (PMF) of a Bernoulli distribution is given by:\n",
    "\n",
    "P(X = 1) = p\n",
    "P(X = 0) = 1 - p\n",
    "\n",
    "where X is the random variable that takes the value 1 for success and 0 for failure.\n",
    "\n",
    "Example of the Bernoulli distribution is the flip of a coin.\n",
    "\n",
    "The Binomial distribution, on the other hand, is a discrete probability distribution that describes the number of successes in a fixed number of independent and identical Bernoulli trials. The Binomial distribution has two parameters, n and p, where n is the number of trials and p is the probability of success in each trial. The probability mass function (PMF) of a Binomial distribution is given by:\n",
    "\n",
    "P(X = k) = (n choose k) * p^k * (1-p)^(n-k)\n",
    "\n",
    "where X is the random variable that takes the value k for k successes out of n trials.\n",
    "\n",
    "The main difference between the Bernoulli distribution and the Binomial distribution is that the Bernoulli distribution describes the outcomes of a single experiment, while the Binomial distribution describes the number of successes in a fixed number of independent and identical Bernoulli trials."
   ]
  },
  {
   "cell_type": "markdown",
   "id": "ec857869-16d1-4b97-930a-5075b5cdf7b9",
   "metadata": {},
   "source": [
    "Q6. Consider a dataset with a mean of 50 and a standard deviation of 10. If we assume that the dataset\n",
    "is normally distributed, what is the probability that a randomly selected observation will be greater\n",
    "than 60? Use the appropriate formula and show your calculations."
   ]
  },
  {
   "cell_type": "markdown",
   "id": "1cf48013-98b7-4f2a-87e3-a70699011620",
   "metadata": {},
   "source": [
    "Answer 6: We can use the formula for the standard normal distribution:\n",
    "\n",
    "P(Z > 1) = 1 - P(Z < 1) = 1 - 0.8413 = 0.1587\n",
    "\n",
    "where Z is a standard normal random variable. \n",
    "\n",
    "Therefore, the probability that a randomly selected observation from a dataset with a mean of 50 and a standard deviation of 10 will be greater than 60 is approximately 0.1587 or 15.87%."
   ]
  },
  {
   "cell_type": "markdown",
   "id": "437bf495-d3b9-46ec-b0be-77b5a60c3a9f",
   "metadata": {},
   "source": [
    "Q7: Explain uniform Distribution with an example."
   ]
  },
  {
   "cell_type": "markdown",
   "id": "d0e987e8-a21c-4931-af83-e315041c407b",
   "metadata": {},
   "source": [
    "Answer 7: Uniform distribution is a continuous probability distribution in which all outcomes are equally likely over a specified range.\n",
    "\n",
    "An example of a situation where a uniform distribution might be used is the rolling of a fair six-sided die. Each outcome (1, 2, 3, 4, 5, or 6) is equally likely, and the probability of rolling any one of these outcomes is 1/6 or approximately 0.1667.\n",
    "\n",
    "The probability density function (PDF) of a uniform distribution is given by:\n",
    "\n",
    "f(x) = 1 / (b - a) for a ≤ x ≤ b\n",
    "\n",
    "where a and b are the lower and upper bounds of the range. The mean of a uniform distribution is (a + b) / 2, and the variance is (b - a)^2 / 12."
   ]
  },
  {
   "cell_type": "markdown",
   "id": "b6a06314-a26d-485f-89f6-d080a61e9d64",
   "metadata": {},
   "source": [
    "Q8: What is the z score? State the importance of the z score."
   ]
  },
  {
   "cell_type": "markdown",
   "id": "ffd641eb-5bb0-43dc-80d3-c1686fbe19f6",
   "metadata": {},
   "source": [
    "Answer 8: A z-score, also known as a standard score, is a measure of how many standard deviations an observation or data point is above or below the mean of a normal distribution. It is a way of standardizing a distribution by converting it into a standard normal distribution with a mean of 0 and a standard deviation of 1.\n",
    "\n",
    "The formula for calculating the z-score of a data point x with a mean of μ and a standard deviation of σ is:\n",
    "\n",
    "z = (x - μ) / σ\n",
    "\n",
    "The z-score indicates how far the data point is from the mean in terms of standard deviations. A positive z-score means that the data point is above the mean, while a negative z-score means that the data point is below the mean.\n",
    "\n",
    "The importance of the z-score lies in its usefulness in comparing observations from different normal distributions. By converting the observations into z-scores, we can compare them directly, regardless of the means and standard deviations of the original distributions. Z-scores are also used to calculate probabilities of observing a certain value or range of values in a normal distribution."
   ]
  },
  {
   "cell_type": "markdown",
   "id": "094a5dea-5dc6-4285-88b4-07fdc2e38367",
   "metadata": {},
   "source": [
    "Q9: What is Central Limit Theorem? State the significance of the Central Limit Theorem."
   ]
  },
  {
   "cell_type": "markdown",
   "id": "d20ee0b8-045f-4493-874a-d34610ba05af",
   "metadata": {},
   "source": [
    "Answer 9: The Central Limit Theorem (CLT) is a fundamental concept in statistics that describes the behavior of sample means or sample sums of a sufficiently large number of independent and identically distributed random variables. It states that if we take repeated samples of size n from any population with a finite mean and variance, then the distribution of the sample means will tend to be normal as the sample size increases, even if the population distribution is not normal. Furthermore, the mean of the sample means will be equal to the population mean, and the standard deviation of the sample means will be equal to the population standard deviation divided by the square root of n.\n",
    "\n",
    "The significance of the Central Limit Theorem lies in its wide-ranging applications in statistics and data analysis. The CLT provides a theoretical basis for many statistical methods that assume normally distributed data, such as hypothesis testing, confidence interval estimation, and linear regression. It also explains why the normal distribution is so prevalent in real-world data, as it is often the result of many independent and random factors. Additionally, the CLT enables us to make statistical inferences about populations even when the sample size is small, provided that certain assumptions are met."
   ]
  },
  {
   "cell_type": "markdown",
   "id": "7428f711-9aea-44bf-9758-b70d24c22d0b",
   "metadata": {},
   "source": [
    "Q10: State the assumptions of the Central Limit Theorem."
   ]
  },
  {
   "cell_type": "markdown",
   "id": "2d494e01-800a-476b-a3c2-976a9627aedd",
   "metadata": {},
   "source": [
    "Answer 10: Some assumptions of the Central Limit Theorem are:\n",
    "\n",
    "(i) Random Sampling: The sample should be randomly selected from the population of interest.\n",
    "\n",
    "(ii) Independence: The observations in the sample should be independent of each other. That is, the value of one observation should not be related to the value of another observation.\n",
    "\n",
    "(iii) Finite Population or Large Sample: The population should be finite, or the sample size should be sufficiently large. A rule of thumb is that the sample size should be at least 30.\n",
    "\n",
    "(iv) Identical Distribution: The random variables in the population should have the same distribution. This assumption is not necessary if the sample size is large enough."
   ]
  }
 ],
 "metadata": {
  "kernelspec": {
   "display_name": "Python 3 (ipykernel)",
   "language": "python",
   "name": "python3"
  },
  "language_info": {
   "codemirror_mode": {
    "name": "ipython",
    "version": 3
   },
   "file_extension": ".py",
   "mimetype": "text/x-python",
   "name": "python",
   "nbconvert_exporter": "python",
   "pygments_lexer": "ipython3",
   "version": "3.10.8"
  }
 },
 "nbformat": 4,
 "nbformat_minor": 5
}
