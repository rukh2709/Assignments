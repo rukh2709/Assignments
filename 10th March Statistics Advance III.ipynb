{
 "cells": [
  {
   "cell_type": "markdown",
   "id": "0861a9fa-362d-47ed-ace3-1e9e48e1b486",
   "metadata": {},
   "source": [
    "Q1: What is Estimation Statistics? Explain point estimate and interval estimate."
   ]
  },
  {
   "cell_type": "markdown",
   "id": "a5d6109a-b830-4970-90f9-e99f78db274b",
   "metadata": {},
   "source": [
    "Answer 1: Estimation statistics is a branch of statistics that involves using sample data to make inferences about population parameters. It involves estimating population parameters, such as the mean or standard deviation, from sample data.\n",
    "\n",
    "There are two types of estimation in statistics: point estimation and interval estimation.\n",
    "\n",
    "Point estimation: Point estimation involves using a single value to estimate the population parameter. For example, if we wanted to estimate the average height of all students in a school, we could take a sample of students and calculate the average height of that sample. This average height would be our point estimate of the population parameter.\n",
    "\n",
    "Interval estimation: Interval estimation involves calculating a range of values that we believe the population parameter falls within. For example, if we wanted to estimate the average height of all students in a school, we could take a sample of students and calculate the average height of that sample, along with a margin of error. This margin of error would be used to create an interval estimate, which is a range of values that we believe the population parameter falls within."
   ]
  },
  {
   "cell_type": "code",
   "execution_count": null,
   "id": "f0de1ff0-ae92-49c4-8fc4-bf3315c17c39",
   "metadata": {},
   "outputs": [],
   "source": [
    "Q2. Write a Python function to estimate the population mean using a sample mean and standard\n",
    "deviation."
   ]
  },
  {
   "cell_type": "code",
   "execution_count": 1,
   "id": "2a380a71-a6b9-4b3a-90bf-9070edc38c9f",
   "metadata": {},
   "outputs": [],
   "source": [
    "# Answer 2\n",
    "import math\n",
    "\n",
    "def estimate_population_mean(sample_mean, sample_std, sample_size):\n",
    "    # Calculate the standard error of the mean\n",
    "    std_error = sample_std / math.sqrt(sample_size)\n",
    "    \n",
    "    # Calculate the margin of error (using a 95% confidence level)\n",
    "    margin_error = 1.96 * std_error\n",
    "    \n",
    "    # Calculate the lower and upper bounds of the confidence interval\n",
    "    lower_bound = sample_mean - margin_error\n",
    "    upper_bound = sample_mean + margin_error\n",
    "    \n",
    "    # Return the estimated population mean and confidence interval\n",
    "    return (sample_mean, lower_bound, upper_bound)"
   ]
  },
  {
   "cell_type": "markdown",
   "id": "04442d13-4fe0-4f10-91e0-c6719cf26256",
   "metadata": {},
   "source": [
    "Q3: What is Hypothesis testing? Why is it used? State the importance of Hypothesis testing."
   ]
  },
  {
   "cell_type": "markdown",
   "id": "d2c97451-0b4d-40cd-9334-4a0912190777",
   "metadata": {},
   "source": [
    "Answer 3: Hypothesis testing is a statistical method used to determine whether a certain hypothesis about a population parameter is supported by sample data. It involves testing two competing hypotheses: the null hypothesis and the alternative hypothesis. The null hypothesis is the hypothesis that there is no significant difference between a population parameter and a specific value or between two population parameters. The alternative hypothesis is the hypothesis that there is a significant difference between a population parameter and a specific value or between two population parameters.\n",
    "\n",
    "Hypothesis testing is used to make decisions based on sample data. It can be used to determine whether a new product or treatment is effective, whether a marketing campaign has a significant impact on sales, or whether a change in manufacturing processes has a significant impact on product quality.\n",
    "\n",
    "The importance of hypothesis testing lies in its ability to help make informed decisions based on data. Without hypothesis testing, decisions would be based solely on intuition or guesswork, which can lead to costly mistakes. Hypothesis testing allows us to make decisions based on evidence, which can help reduce the risk of making incorrect decisions."
   ]
  },
  {
   "cell_type": "markdown",
   "id": "6cdafffd-0417-4421-a0d2-3d0e8d05ea69",
   "metadata": {},
   "source": [
    "Q4. Create a hypothesis that states whether the average weight of male college students is greater than\n",
    "the average weight of female college students."
   ]
  },
  {
   "cell_type": "markdown",
   "id": "cc27d37f-2d69-40a0-b4bc-40a029feebaa",
   "metadata": {},
   "source": [
    "Answer 4: The null hypothesis would be:\n",
    "\n",
    "The average weight of male college students is equal to or less than the average weight of female college students.\n",
    "\n",
    "The alternative hypothesis would be:\n",
    "\n",
    "The average weight of male college students is greater than the average weight of female college students."
   ]
  },
  {
   "cell_type": "markdown",
   "id": "8225eb39-3c1f-4c60-b97c-4bfef844726c",
   "metadata": {},
   "source": [
    "Q5. Write a Python script to conduct a hypothesis test on the difference between two population means,\n",
    "given a sample from each population."
   ]
  },
  {
   "cell_type": "code",
   "execution_count": 1,
   "id": "004651c0-c2be-4df1-8b82-2e77c1c3a775",
   "metadata": {},
   "outputs": [
    {
     "name": "stdout",
     "output_type": "stream",
     "text": [
      "We reject the null hypothesis. There is evidence to suggest that the population means are different.\n"
     ]
    }
   ],
   "source": [
    "# Answer 5:\n",
    "import numpy as np\n",
    "from scipy.stats import ttest_ind\n",
    "\n",
    "# Generate two random samples with different means and variances\n",
    "sample1 = np.random.normal(loc=10, scale=2, size=100)\n",
    "sample2 = np.random.normal(loc=12, scale=3, size=100)\n",
    "\n",
    "# Conduct a two-sample t-test assuming equal variances\n",
    "t_stat, p_value = ttest_ind(sample1, sample2, equal_var=True)\n",
    "\n",
    "# Set the significance level (alpha)\n",
    "alpha = 0.05\n",
    "\n",
    "# Determine if the null hypothesis should be rejected\n",
    "if p_value < alpha:\n",
    "    print(\"We reject the null hypothesis. There is evidence to suggest that the population means are different.\")\n",
    "else:\n",
    "    print(\"We fail to reject the null hypothesis. There is not enough evidence to suggest that the population means are different.\")"
   ]
  },
  {
   "cell_type": "markdown",
   "id": "75c89ab9-b01a-4c66-a93a-3d133f95a13c",
   "metadata": {},
   "source": [
    "Q6: What is a null and alternative hypothesis? Give some examples."
   ]
  },
  {
   "cell_type": "markdown",
   "id": "1dc8fc7f-1265-47ba-9d54-8ce00c742d8b",
   "metadata": {},
   "source": [
    "Answer 6: The null hypothesis (H0) is the statement that there is no significant difference between a population parameter and a specific value or between two population parameters. In other words, it is the default assumption that nothing interesting or unusual is happening in the data. The null hypothesis is often denoted with the symbol μ0 for a population mean, p0 for a population proportion, or σ0 for a population standard deviation.\n",
    "\n",
    "The alternative hypothesis (Ha) is the statement that there is a significant difference between a population parameter and a specific value or between two population parameters. It is the hypothesis that the researcher wants to support by rejecting the null hypothesis. The alternative hypothesis can take one of three forms: one-tailed (directional), two-tailed (non-directional), or not-equal. The alternative hypothesis is often denoted with the symbol μ1 for a population mean, p1 for a population proportion, or σ1 for a population standard deviation.\n",
    "\n",
    "Here are some examples of null and alternative hypotheses:\n",
    "\n",
    "A study wants to determine if a new weight loss drug is effective in reducing weight.\n",
    "Null hypothesis: The weight loss drug has no significant effect on weight loss.\n",
    "Alternative hypothesis: The weight loss drug has a significant effect on weight loss.\n",
    "\n",
    "A researcher wants to determine if there is a difference in average income between two groups of employees in a company.\n",
    "Null hypothesis: The average income of the two groups is the same.\n",
    "Alternative hypothesis: The average income of the two groups is different.\n",
    "\n",
    "A study wants to determine if there is a difference in satisfaction ratings between two customer service representatives.\n",
    "Null hypothesis: There is no significant difference in satisfaction ratings between the two customer service representatives.\n",
    "Alternative hypothesis: There is a significant difference in satisfaction ratings between the two customer service representatives.\n",
    "\n",
    "A researcher wants to determine if a new teaching method improves test scores.\n",
    "Null hypothesis: The new teaching method has no significant effect on test scores.\n",
    "Alternative hypothesis: The new teaching method has a significant effect on test scores."
   ]
  },
  {
   "cell_type": "code",
   "execution_count": null,
   "id": "e912d01e-c453-42fb-befa-b7c9ca58f4ce",
   "metadata": {},
   "outputs": [],
   "source": [
    "Q7: Write down the steps involved in hypothesis testing."
   ]
  },
  {
   "cell_type": "markdown",
   "id": "e1b567e0-6862-4da9-9fd8-052d8e02db1d",
   "metadata": {},
   "source": [
    "Answer 7: The following are the steps involved in hypothesis testing:\n",
    "\n",
    "Define the null hypothesis (H0) and alternative hypothesis (Ha):\n",
    "The null hypothesis represents the default assumption and the alternative hypothesis is the opposite of the null hypothesis. They are both stated in terms of the population parameters being tested.\n",
    "\n",
    "Determine the appropriate test statistic and level of significance:\n",
    "The test statistic is a measure that summarizes the evidence provided by the sample data about the population parameters. The level of significance (alpha) is the probability of making a Type I error, which is the probability of rejecting the null hypothesis when it is actually true.\n",
    "\n",
    "Specify the critical region:\n",
    "The critical region is the set of values of the test statistic that lead to rejection of the null hypothesis at the given level of significance. It is determined by the choice of the test statistic and the level of significance.\n",
    "\n",
    "Collect and analyze the data:\n",
    "Collect a sample of data and calculate the test statistic. The test statistic is calculated from the sample data and is used to determine whether or not the null hypothesis should be rejected.\n",
    "\n",
    "Compute the p-value:\n",
    "The p-value is the probability of obtaining a test statistic as extreme as the observed one, assuming the null hypothesis is true. It is used to make a decision about whether or not to reject the null hypothesis.\n",
    "\n",
    "Make a decision:\n",
    "If the calculated p-value is less than the level of significance, reject the null hypothesis. If the p-value is greater than or equal to the level of significance, fail to reject the null hypothesis.\n",
    "\n",
    "Interpret the results:\n",
    "Interpret the results of the hypothesis test in the context of the research question. If the null hypothesis is rejected, it can be concluded that there is evidence to support the alternative hypothesis. If the null hypothesis is not rejected, it can be concluded that there is not enough evidence to support the alternative hypothesis."
   ]
  },
  {
   "cell_type": "markdown",
   "id": "4dac1808-12d3-429a-8a88-d030f7652188",
   "metadata": {},
   "source": [
    "Q8. Define p-value and explain its significance in hypothesis testing."
   ]
  },
  {
   "cell_type": "markdown",
   "id": "89a6c0cd-eaa0-456a-af67-d37f11130657",
   "metadata": {},
   "source": [
    "Answer 8: In statistical hypothesis testing, the p-value is a measure of the strength of evidence against the null hypothesis. The p-value is the probability of obtaining a test statistic as extreme as or more extreme than the one observed, assuming that the null hypothesis is true. \n",
    "\n",
    "The significance of the p-value in hypothesis testing is that it helps us make a decision about whether to reject or fail to reject the null hypothesis. Generally, if the p-value is less than or equal to the significance level (alpha), we reject the null hypothesis and conclude that the alternative hypothesis is supported by the evidence. If the p-value is greater than the significance level, we fail to reject the null hypothesis.\n",
    "\n",
    "For example, suppose we want to test the hypothesis that the mean weight of a sample of apples is equal to 100 grams. We collect a sample of apples and calculate the sample mean weight and standard deviation. We then perform a hypothesis test and calculate the p-value. If the p-value is less than or equal to the significance level (e.g., 0.05), we can conclude that there is strong evidence that the mean weight of the apples is not equal to 100 grams. If the p-value is greater than the significance level, we cannot conclude that the mean weight is different from 100 grams."
   ]
  },
  {
   "cell_type": "markdown",
   "id": "30a991d2-4772-4385-aff1-7569a2df2303",
   "metadata": {},
   "source": [
    "Q9. Generate a Student's t-distribution plot using Python's matplotlib library, with the degrees of freedom\n",
    "parameter set to 10."
   ]
  },
  {
   "cell_type": "code",
   "execution_count": 1,
   "id": "371ac65b-9a49-4e83-b01f-daff10789b9f",
   "metadata": {},
   "outputs": [
    {
     "data": {
      "image/png": "[encoded data removed]",
      "text/plain": [
       "<Figure size 640x480 with 1 Axes>"
      ]
     },
     "metadata": {},
     "output_type": "display_data"
    }
   ],
   "source": [
    "# Answer 9:\n",
    "import matplotlib.pyplot as plt\n",
    "import numpy as np\n",
    "from scipy.stats import t\n",
    "\n",
    "# Generate data\n",
    "x = np.linspace(-4, 4, 1000)\n",
    "df = 10\n",
    "y = t.pdf(x, df)\n",
    "\n",
    "# Plot the t-distribution\n",
    "plt.plot(x, y, label='t-distribution (df=10)')\n",
    "plt.legend()\n",
    "plt.title('Student\\'s t-distribution (df=10)')\n",
    "plt.xlabel('x')\n",
    "plt.ylabel('Probability density')\n",
    "plt.show()"
   ]
  },
  {
   "cell_type": "markdown",
   "id": "bf56ca14-8775-4a74-b18c-c94d36fc52e2",
   "metadata": {},
   "source": [
    "Q10. Write a Python program to calculate the two-sample t-test for independent samples, given two\n",
    "random samples of equal size and a null hypothesis that the population means are equal."
   ]
  },
  {
   "cell_type": "code",
   "execution_count": 2,
   "id": "57056524-c4ba-47c3-a3b3-b8750cf46498",
   "metadata": {},
   "outputs": [
    {
     "name": "stdout",
     "output_type": "stream",
     "text": [
      "t-statistic: 2.26\n",
      "p-value: 0.0402\n"
     ]
    }
   ],
   "source": [
    "# Answer 10:\n",
    "import scipy.stats as stats\n",
    "\n",
    "# Define two random samples\n",
    "sample1 = [10.2, 9.8, 10.5, 11.0, 10.1, 10.6, 10.4, 9.9]\n",
    "sample2 = [9.5, 10.0, 9.8, 10.1, 9.9, 10.3, 9.6, 10.2]\n",
    "\n",
    "# Calculate the t-statistic and p-value\n",
    "t_stat, p_value = stats.ttest_ind(sample1, sample2)\n",
    "\n",
    "# Print the results\n",
    "print(\"t-statistic: {:.2f}\".format(t_stat))\n",
    "print(\"p-value: {:.4f}\".format(p_value))"
   ]
  },
  {
   "cell_type": "markdown",
   "id": "cc029a36-9949-4806-9478-0443989fc3a6",
   "metadata": {},
   "source": [
    "Q11: What is Student’s t distribution? When to use the t-Distribution."
   ]
  },
  {
   "cell_type": "markdown",
   "id": "43dd3645-cdf5-4481-a3a6-6691e8a01e60",
   "metadata": {},
   "source": [
    "Answer 11: The Student's t-distribution (also known as the t-distribution) is a probability distribution used in statistical inference to make inferences about the mean of a normally distributed population when the sample size is small and the population standard deviation is unknown.\n",
    "\n",
    "The t-distribution is similar to the standard normal distribution, but has heavier tails and a flatter peak. The shape of the t-distribution depends on the sample size and the degrees of freedom (df), which is equal to n-1 for a sample of size n. As the sample size increases, the t-distribution becomes closer to the standard normal distribution.\n",
    "\n",
    "The t-distribution is used in situations where the sample size is small (n<30) and/or the population standard deviation is unknown. It is commonly used in hypothesis testing, confidence interval estimation, and other statistical procedures."
   ]
  },
  {
   "cell_type": "markdown",
   "id": "40a6fed0-f956-4467-9270-d5781968eaae",
   "metadata": {},
   "source": [
    "Q12: What is t-statistic? State the formula for t-statistic."
   ]
  },
  {
   "cell_type": "markdown",
   "id": "428d15c3-6998-42dc-b432-28a9c75db90e",
   "metadata": {},
   "source": [
    "Answer 12: The t-statistic is a test statistic used in hypothesis testing to assess whether the difference between the sample mean and the hypothesized population mean is statistically significant. The t-statistic is calculated by dividing the difference between the sample mean and the hypothesized population mean by the standard error of the sample mean.\n",
    "\n",
    "The formula for the t-statistic is:\n",
    "\n",
    "t = (x̄ - μ) / (s / √n) where:\n",
    "\n",
    "x̄ is the sample mean\n",
    "μ is the hypothesized population mean\n",
    "s is the sample standard deviation\n",
    "n is the sample size"
   ]
  },
  {
   "cell_type": "markdown",
   "id": "550fc988-1c7f-410c-b0b3-08b1d5c581ae",
   "metadata": {},
   "source": [
    "Q13. A coffee shop owner wants to estimate the average daily revenue for their shop. They take a random\n",
    "sample of 50 days and find the sample mean revenue to be $500 with a standard deviation of $50.\n",
    "Estimate the population mean revenue with a 95% confidence interval."
   ]
  },
  {
   "cell_type": "markdown",
   "id": "cd96e863-8312-4d3d-85b9-50d8c7c6c5ba",
   "metadata": {},
   "source": [
    "Answer 13: To estimate the population mean revenue with a 95% confidence interval, we can use the following formula:\n",
    "\n",
    "CI = x̄ ± t*(s/√n)\n",
    "\n",
    "where:\n",
    "\n",
    "x̄ is the sample mean revenue ($500)\n",
    "s is the sample standard deviation ($50)\n",
    "n is the sample size (50)\n",
    "t is the critical t-value for a 95% confidence interval with n-1 degrees of freedom.\n",
    "\n",
    "We can find the critical t-value using a t-distribution table or a statistical software. For a 95% confidence interval with 49 degrees of freedom, the critical t-value is approximately 2.009. So we get,\n",
    "\n",
    "CI = 500 ± 2.009*(50/√50) = (485.78, 514.22)\n",
    "\n",
    "Therefore, we can say with 95% confidence that the true population mean revenue for the coffee shop falls within the range of $485.78 to $514.22 based on the sample data."
   ]
  },
  {
   "cell_type": "markdown",
   "id": "563211d9-df5a-4629-bac8-a9b74a49727c",
   "metadata": {},
   "source": [
    "Q14. A researcher hypothesizes that a new drug will decrease blood pressure by 10 mmHg. They conduct a\n",
    "clinical trial with 100 patients and find that the sample mean decrease in blood pressure is 8 mmHg with a\n",
    "standard deviation of 3 mmHg. Test the hypothesis with a significance level of 0.05."
   ]
  },
  {
   "cell_type": "markdown",
   "id": "fdc946b1-f2ba-4860-9e1c-defbf16bb830",
   "metadata": {},
   "source": [
    "Answer 14: To test the hypothesis that the new drug will decrease blood pressure by 10 mmHg with a significance level of 0.05, we can use a one-sample t-test. The null hypothesis is that the true mean decrease in blood pressure is not different from 10 mmHg, and the alternative hypothesis is that the true mean decrease is less than 10 mmHg.\n",
    "\n",
    "The test statistic for a one-sample t-test is:\n",
    "\n",
    "t = (x̄ - μ) / (s / √n)\n",
    "\n",
    "where:\n",
    "\n",
    "x̄ is the sample mean decrease in blood pressure (8 mmHg)\n",
    "μ is the hypothesized population mean decrease in blood pressure (10 mmHg)\n",
    "s is the sample standard deviation (3 mmHg)\n",
    "n is the sample size (100)\n",
    "We get:\n",
    "\n",
    "t = (8 - 10) / (3 / √100) = -6.67\n",
    "\n",
    "The degrees of freedom for the t-distribution is n-1 = 99. Using a t-distribution table, we find the critical t-value for a one-tailed test with 99 degrees of freedom and a significance level of 0.05 is approximately -1.66.\n",
    "\n",
    "Since the calculated t-value (-6.67) is less than the critical t-value (-1.66), we can reject the null hypothesis and conclude that the new drug decreases blood pressure by more than 10 mmHg at a significance level of 0.05."
   ]
  },
  {
   "cell_type": "markdown",
   "id": "55847509-1089-49a5-87cd-baffe04d724c",
   "metadata": {},
   "source": [
    "Q15. An electronics company produces a certain type of product with a mean weight of 5 pounds and a\n",
    "standard deviation of 0.5 pounds. A random sample of 25 products is taken, and the sample mean weight\n",
    "is found to be 4.8 pounds. Test the hypothesis that the true mean weight of the products is less than 5\n",
    "pounds with a significance level of 0.01."
   ]
  },
  {
   "cell_type": "markdown",
   "id": "bae0d2df-7c60-4ae9-adf0-4e74bf82404e",
   "metadata": {},
   "source": [
    "Answer 15: To test the hypothesis that the true mean weight of the products is less than 5 pounds with a significance level of 0.01, we can use a one-sample t-test. The null hypothesis is that the true mean weight is equal to 5 pounds, and the alternative hypothesis is that the true mean weight is less than 5 pounds.\n",
    "\n",
    "The test statistic for a one-sample t-test is:\n",
    "\n",
    "t = (x̄ - μ) / (s / √n)\n",
    "\n",
    "where:\n",
    "\n",
    "x̄ is the sample mean weight (4.8 pounds)\n",
    "μ is the hypothesized population mean weight (5 pounds)\n",
    "s is the sample standard deviation (0.5 pounds)\n",
    "n is the sample size (25)\n",
    "Plugging in the values, we get:\n",
    "\n",
    "t = (4.8 - 5) / (0.5 / √25) = -2\n",
    "\n",
    "The degrees of freedom for the t-distribution is n-1 = 24. Using a t-distribution table, we find the critical t-value for a one-tailed test with 24 degrees of freedom and a significance level of 0.01 is approximately -2.\n",
    "\n",
    "Since the calculated t-value (-2) is greater than the critical t-value (-2.492), we fail to reject the null hypothesis and conclude that there is not enough evidence to support the claim that the true mean weight of the products is less than 5 pounds at a significance level of 0.01."
   ]
  },
  {
   "cell_type": "markdown",
   "id": "b20da692-4e34-444b-8300-13443f0aaa16",
   "metadata": {},
   "source": [
    "Q16. Two groups of students are given different study materials to prepare for a test. The first group (n1 =\n",
    "30) has a mean score of 80 with a standard deviation of 10, and the second group (n2 = 40) has a mean\n",
    "score of 75 with a standard deviation of 8. Test the hypothesis that the population means for the two\n",
    "groups are equal with a significance level of 0.01."
   ]
  },
  {
   "cell_type": "markdown",
   "id": "de66df3c-f77f-4075-b0e4-7839afa31a47",
   "metadata": {},
   "source": [
    "Answer 16: To test the hypothesis that the population means for the two groups are equal with a significance level of 0.01, we can use a two-sample t-test for independent samples. The null hypothesis is that the population means are equal, and the alternative hypothesis is that they are not equal.\n",
    "\n",
    "The test statistic for a two-sample t-test is:\n",
    "\n",
    "t = (x̄1 - x̄2) / (sqrt((s1^2 / n1) + (s2^2 / n2)))\n",
    "\n",
    "where:\n",
    "\n",
    "x̄1 and x̄2 are the sample means for group 1 and group 2, respectively\n",
    "s1 and s2 are the sample standard deviations for group 1 and group 2, respectively\n",
    "n1 and n2 are the sample sizes for group 1 and group 2, respectively\n",
    "Plugging in the values, we get:\n",
    "\n",
    "t = (80 - 75) / (sqrt((10^2 / 30) + (8^2 / 40))) = 2.11\n",
    "\n",
    "The degrees of freedom for the t-distribution is:\n",
    "\n",
    "df = (s1^2 / n1 + s2^2 / n2)^2 / ( ((s1^2 / n1)^2 / (n1-1)) + ((s2^2 / n2)^2 / (n2-1)) )\n",
    "\n",
    "Substituting the values, we get:\n",
    "\n",
    "df = ((10^2 / 30) + (8^2 / 40))^2 / ( ((10^2 / 30)^2 / 29) + ((8^2 / 40)^2 / 39) ) = 65.86\n",
    "\n",
    "Using a t-distribution table or a statistical software, we find the critical t-value for a two-tailed test with 65 degrees of freedom and a significance level of 0.01 is approximately ±2.660.\n",
    "\n",
    "Since the calculated t-value (2.11) is less than the critical t-value (±2.660), we fail to reject the null hypothesis and conclude that there is not enough evidence to support the claim that the population means for the two groups are not equal at a significance level of 0.01."
   ]
  },
  {
   "cell_type": "markdown",
   "id": "be5ff300-6afd-42f2-901e-e3ec92967448",
   "metadata": {},
   "source": [
    "Q17. A marketing company wants to estimate the average number of ads watched by viewers during a TV\n",
    "program. They take a random sample of 50 viewers and find that the sample mean is 4 with a standard\n",
    "deviation of 1.5. Estimate the population mean with a 99% confidence interval."
   ]
  },
  {
   "cell_type": "markdown",
   "id": "fac96ca6-eccb-4a33-a427-5069b7099fce",
   "metadata": {},
   "source": [
    "Answer 17: To estimate the population mean with a 99% confidence interval, we can use the t-distribution since the sample size is small (n < 30) and the population standard deviation is unknown. The formula for the confidence interval is:\n",
    "\n",
    "CI = x̄ ± t*(s / sqrt(n))\n",
    "\n",
    "where:\n",
    "\n",
    "x̄ is the sample mean\n",
    "t is the critical t-value from the t-distribution with (n-1) degrees of freedom and a significance level of 0.01/2 (since this is a two-tailed test)\n",
    "s is the sample standard deviation\n",
    "n is the sample size\n",
    "\n",
    "Substituting the values, we get:\n",
    "\n",
    "CI = 4 ± t*(1.5 / sqrt(50))\n",
    "\n",
    "The critical t-value can be found using a t-distribution table. For a 99% confidence level and 49 degrees of freedom, the critical t-value is approximately 2.68. Therefore:\n",
    "\n",
    "CI = 4 ± 2.68*(1.5 / sqrt(50))\n",
    "CI = 4 ± 0.63\n",
    "\n",
    "The 99% confidence interval for the population mean is (3.37, 4.63)."
   ]
  }
 ],
 "metadata": {
  "kernelspec": {
   "display_name": "Python 3 (ipykernel)",
   "language": "python",
   "name": "python3"
  },
  "language_info": {
   "codemirror_mode": {
    "name": "ipython",
    "version": 3
   },
   "file_extension": ".py",
   "mimetype": "text/x-python",
   "name": "python",
   "nbconvert_exporter": "python",
   "pygments_lexer": "ipython3",
   "version": "3.10.8"
  }
 },
 "nbformat": 4,
 "nbformat_minor": 5
}
