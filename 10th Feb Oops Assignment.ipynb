{
 "cells": [
  {
   "cell_type": "markdown",
   "id": "e3448e36-4251-4fb2-a359-299bdbd2597f",
   "metadata": {},
   "source": [
    "Q1. Which function is used to open a file? What are the different modes of opening a file? Explain each mode\n",
    "of file opening.\n",
    "Answer 1: open() function is used to open a file.\n",
    "There are 6 access modes in python.\n",
    "r - open a file in read mode\n",
    "w - opens or create a text file in write mode\n",
    "a - opens a file in append mode\n",
    "r+ - opens a file in both read and write mode\n",
    "a+ - opens a file in both read and write mode\n",
    "w+ - opens a file in both read and write mode\n",
    "\n",
    "Explanation:\n",
    "Read Only (‘r’) : Open text file for reading. The handle is positioned at the beginning of the file. If the file does not exists, raises the I/O error. This is also the default mode in which a file is opened.\n",
    "Read and Write (‘r+’): Open the file for reading and writing. The handle is positioned at the beginning of the file. Raises I/O error if the file does not exist.\n",
    "Write Only (‘w’) : Open the file for writing. For the existing files, the data is truncated and over-written. The handle is positioned at the beginning of the file. Creates the file if the file does not exist.\n",
    "Write and Read (‘w+’) : Open the file for reading and writing. For an existing file, data is truncated and over-written. The handle is positioned at the beginning of the file.\n",
    "Append Only (‘a’): Open the file for writing. The file is created if it does not exist. The handle is positioned at the end of the file. The data being written will be inserted at the end, after the existing data.\n",
    "Append and Read (‘a+’) : Open the file for reading and writing. The file is created if it does not exist. The handle is positioned at the end of the file. The data being written will be inserted at the end, after the existing data."
   ]
  },
  {
   "cell_type": "markdown",
   "id": "4f277ee9-b23a-4d4b-baea-d1bdb230f409",
   "metadata": {},
   "source": [
    "Q2. Why close() function is used? Why is it important to close a file?\n",
    "Answer 2: The close() function closes an open file. We should always close our files, in some cases, due to buffering, changes made to a file may not show until we close the file.\n",
    "It is important to close a file after reading from or writing to it because open files consume system resources, such as memory and file descriptors. If you don't close a file, the system resources that were allocated to it will not be freed up, and this can lead to resource leaks and other problems."
   ]
  },
  {
   "cell_type": "markdown",
   "id": "536ed800-899a-409b-ac31-71cb989cad52",
   "metadata": {},
   "source": [
    "Q3. Write a python program to create a text file. Write ‘I want to become a Data Scientist’ in that file. Then close the file. Open this file and read the content of the file."
   ]
  },
  {
   "cell_type": "code",
   "execution_count": 1,
   "id": "fcd9ffcf-c8e8-44d5-80ee-b78fc6f06588",
   "metadata": {},
   "outputs": [
    {
     "data": {
      "text/plain": [
       "33"
      ]
     },
     "execution_count": 1,
     "metadata": {},
     "output_type": "execute_result"
    }
   ],
   "source": [
    "#Answer 3:\n",
    "file =open(\"rukh.txt\", \"w\")\n",
    "file.write(\"I want to become a Data Scientist\")"
   ]
  },
  {
   "cell_type": "code",
   "execution_count": 2,
   "id": "fd169625-28b5-4482-b76b-7601f58f9811",
   "metadata": {},
   "outputs": [],
   "source": [
    "file.close()"
   ]
  },
  {
   "cell_type": "code",
   "execution_count": 6,
   "id": "76c47615-36da-43fa-bb49-ae9874e475b8",
   "metadata": {},
   "outputs": [
    {
     "data": {
      "text/plain": [
       "'I want to become a Data Scientist'"
      ]
     },
     "execution_count": 6,
     "metadata": {},
     "output_type": "execute_result"
    }
   ],
   "source": [
    "file=open(\"rukh.txt\", \"r\")\n",
    "file.read()"
   ]
  },
  {
   "cell_type": "markdown",
   "id": "e5aac519-2bf9-4b6f-a586-ad8119c25654",
   "metadata": {},
   "source": [
    "Q4. Explain the following with python code: read(), readline() and readlines().\n",
    "Answer 4:\n",
    "read(): The read() method returns the specified number of bytes from the file. Default is -1 which means the whole file."
   ]
  },
  {
   "cell_type": "code",
   "execution_count": 73,
   "id": "01ebd524-c939-40f8-822e-8cd971e5260f",
   "metadata": {},
   "outputs": [
    {
     "data": {
      "text/plain": [
       "48"
      ]
     },
     "execution_count": 73,
     "metadata": {},
     "output_type": "execute_result"
    }
   ],
   "source": [
    "# Writing the paragraph in a file\n",
    "file=open(\"rukh1.txt\",\"w\")\n",
    "file.write(\"My name is xyz.\\n I am x years old.\\n I am a girl.\")"
   ]
  },
  {
   "cell_type": "code",
   "execution_count": 74,
   "id": "46201ff2-1d05-431b-803e-496f667f6e87",
   "metadata": {},
   "outputs": [],
   "source": [
    "file.close()"
   ]
  },
  {
   "cell_type": "code",
   "execution_count": 75,
   "id": "e3432ea4-48f0-4dfe-9dce-d42d43d6009e",
   "metadata": {},
   "outputs": [
    {
     "data": {
      "text/plain": [
       "'M'"
      ]
     },
     "execution_count": 75,
     "metadata": {},
     "output_type": "execute_result"
    }
   ],
   "source": [
    "# Program to demonstrate read() function\n",
    "file=open(\"rukh1.txt\",\"r\")\n",
    "file.read(1)  # read one character from the file"
   ]
  },
  {
   "cell_type": "code",
   "execution_count": 77,
   "id": "da8ec974-8f07-48db-b26c-d9dd4d2f0f6c",
   "metadata": {},
   "outputs": [
    {
     "data": {
      "text/plain": [
       "'My na'"
      ]
     },
     "execution_count": 77,
     "metadata": {},
     "output_type": "execute_result"
    }
   ],
   "source": [
    "file=open(\"rukh1.txt\",\"r\")\n",
    "file.read(5)  # read five characters from the file"
   ]
  },
  {
   "cell_type": "code",
   "execution_count": 78,
   "id": "75fcb6c1-1190-4e1e-8599-ce8ab328e85c",
   "metadata": {},
   "outputs": [
    {
     "data": {
      "text/plain": [
       "'My name is xyz.\\n I am x years old.\\n I am a girl.'"
      ]
     },
     "execution_count": 78,
     "metadata": {},
     "output_type": "execute_result"
    }
   ],
   "source": [
    "file=open(\"rukh1.txt\",\"r\")\n",
    "file.read(-1)  # read all characters from the file. Its default value is -1. We can write file.read() as well"
   ]
  },
  {
   "cell_type": "code",
   "execution_count": 79,
   "id": "515d329e-973f-4c04-9e55-10f932b2c7c4",
   "metadata": {},
   "outputs": [
    {
     "name": "stdout",
     "output_type": "stream",
     "text": [
      "My na\n",
      "me i\n"
     ]
    }
   ],
   "source": [
    "file=open(\"rukh1.txt\",\"r\")\n",
    "f1=file.read(5)   # print the first 5 characters from the file\n",
    "f2=file.read(4)   # print the next 4 characters from the file\n",
    "print(f1)  \n",
    "print(f2)"
   ]
  },
  {
   "cell_type": "markdown",
   "id": "ae83d191-0e33-49c8-bfeb-efe8c1844b90",
   "metadata": {},
   "source": [
    "readline(): The readline() method returns one line from the file. We can also specified how many bytes from the line to return, by using the size parameter."
   ]
  },
  {
   "cell_type": "code",
   "execution_count": 85,
   "id": "1d39954b-d720-423f-942b-0caf2cb22a36",
   "metadata": {},
   "outputs": [
    {
     "data": {
      "text/plain": [
       "'My name is xyz.\\n'"
      ]
     },
     "execution_count": 85,
     "metadata": {},
     "output_type": "execute_result"
    }
   ],
   "source": [
    "# Program to demonstrate readline() function\n",
    "file=open(\"rukh1.txt\",\"r\")  # read the first line only as it reads line by line.\n",
    "file.readline()"
   ]
  },
  {
   "cell_type": "code",
   "execution_count": 82,
   "id": "1357113e-9f7b-43ee-ae98-4a79d8f3a4ac",
   "metadata": {},
   "outputs": [
    {
     "name": "stdout",
     "output_type": "stream",
     "text": [
      "My name is xyz.\n",
      "\n",
      " I am x years old.\n",
      "\n",
      " I am a girl.\n"
     ]
    }
   ],
   "source": [
    "# Program to demonstrate readline() function\n",
    "file=open(\"rukh1.txt\",\"r\")\n",
    "f1=file.readline()  # read one line from the file\n",
    "print(f1)\n",
    "f2=file.readline()  # read next line from the file\n",
    "print(f2)\n",
    "f3=file.readline()  # read again next line from the file\n",
    "print(f3)"
   ]
  },
  {
   "cell_type": "markdown",
   "id": "7ebd0a54-39dd-4bd1-a66e-fb17a0b4f398",
   "metadata": {},
   "source": [
    "readlines(): readlines() function helps us read all the lines simultaneously and return them as a string element."
   ]
  },
  {
   "cell_type": "code",
   "execution_count": 72,
   "id": "31ca9a24-c8c8-4a72-ad14-65b420bc4008",
   "metadata": {},
   "outputs": [
    {
     "data": {
      "text/plain": [
       "['My name is xyz.\\n', ' I am x years old.\\n', ' I am a girl.']"
      ]
     },
     "execution_count": 72,
     "metadata": {},
     "output_type": "execute_result"
    }
   ],
   "source": [
    "# Program to demonstrate readlines() function\n",
    "file=open(\"rukh1.txt\",\"r\")\n",
    "file.readlines()  # read all the lines from the file"
   ]
  },
  {
   "cell_type": "markdown",
   "id": "7ce9fecd-2f31-4bbb-983e-0a2a3fc05c73",
   "metadata": {},
   "source": [
    "Q5. Explain why with statement is used with open(). What is the advantage of using with statement and\n",
    "open() together?\n",
    "Answer 5: \n",
    "The with statement in Python is used with the open() function to handle file I/O operations. It provides a convenient and safe way to open, read from, and write to files.\n",
    "\n",
    "When you use open() to access a file, the file remains open until you explicitly close it using the close() method. If you forget to close the file, or an error occurs before you can close it, the file remains open and can cause problems.\n",
    "\n",
    "The with statement automatically takes care of closing the file once it is no longer needed, even if an error occurs while the file is being processed. This helps to avoid resource leaks, file corruption, and other problems that can result from leaving files open for too long.\n",
    "\n",
    "Using the with statement with open() also ensures that the file is properly opened in the appropriate mode (e.g. read mode, write mode, binary mode, etc.), and that the file is available only within the scope of the with block. Once the with block is exited, the file is automatically closed and any resources associated with it are freed.\n",
    "\n",
    "Overall, using the with statement with open() is considered best practice for working with files in Python, and can help to improve the safety and reliability of your code."
   ]
  },
  {
   "cell_type": "markdown",
   "id": "88d9f592-557d-4d39-98da-0a844c8d10a8",
   "metadata": {},
   "source": [
    "Q6. Explain the write() and writelines() functions. Give a suitable example.\n",
    "Answer 5: \n",
    "The write() method writes a specified text to the file. \n",
    "The writelines() method writes the items of a list to the file. "
   ]
  },
  {
   "cell_type": "code",
   "execution_count": 105,
   "id": "9dcc28f1-e262-41a0-9c0e-beaaf0718230",
   "metadata": {},
   "outputs": [
    {
     "name": "stdout",
     "output_type": "stream",
     "text": [
      "See you soon!\n"
     ]
    }
   ],
   "source": [
    "#Example for write()\n",
    "f = open(\"demofile2.txt\", \"w\")\n",
    "f.write(\"See you soon!\")\n",
    "f.close()\n",
    "\n",
    "#open and read the file after writing:\n",
    "f = open(\"demofile2.txt\", \"r\")\n",
    "print(f.read())"
   ]
  },
  {
   "cell_type": "code",
   "execution_count": 103,
   "id": "57902f96-9985-44ba-abc4-c7c5816e7ab6",
   "metadata": {},
   "outputs": [
    {
     "name": "stdout",
     "output_type": "stream",
     "text": [
      "See you soon!\n",
      "Over and out.\n"
     ]
    }
   ],
   "source": [
    "#Example for writelines()\n",
    "f = open(\"demofile1.txt\", \"w\")\n",
    "f.writelines([\"See you soon!\", \"\\nOver and out.\"])\n",
    "f.close()\n",
    "\n",
    "#open and read the file after writing:\n",
    "f = open(\"demofile1.txt\", \"r\")\n",
    "print(f.read())"
   ]
  },
  {
   "cell_type": "code",
   "execution_count": null,
   "id": "fc78766a-8d75-4a62-acd7-16f867b33050",
   "metadata": {},
   "outputs": [],
   "source": []
  }
 ],
 "metadata": {
  "kernelspec": {
   "display_name": "Python 3 (ipykernel)",
   "language": "python",
   "name": "python3"
  },
  "language_info": {
   "codemirror_mode": {
    "name": "ipython",
    "version": 3
   },
   "file_extension": ".py",
   "mimetype": "text/x-python",
   "name": "python",
   "nbconvert_exporter": "python",
   "pygments_lexer": "ipython3",
   "version": "3.10.8"
  }
 },
 "nbformat": 4,
 "nbformat_minor": 5
}
