{
 "cells": [
  {
   "cell_type": "markdown",
   "id": "084378cc-24a0-4be2-96ad-7604eee6e02d",
   "metadata": {},
   "source": [
    "Q1. What is Abstraction in OOps? Explain with an example.\n",
    "Answer 1: Abstraction is the concept of object-oriented programming that \"shows\" only essential attributes and \"hides\" unnecessary information. The main purpose of abstraction is hiding the unnecessary details from the users. It helps in reducing programming complexity and efforts. Abstraction is used for security.\n",
    "\n",
    "Example: Our car is a great example of abstraction. We can start a car by turning the key or pressing the start button. We don't need to know how the engine is getting started, what all components our car has. The car internal implementation and complex logic is completely hidden from the user."
   ]
  },
  {
   "cell_type": "markdown",
   "id": "62666953-07cc-4331-89d8-e10e04f720b7",
   "metadata": {},
   "source": [
    "Q2. Differentiate between Abstraction and Encapsulation. Explain with an example.\n",
    "Answer 2: To achieve an abstraction we do encapculation. \n",
    "Abstraction hides the data from the user at design level. It aims what things get viewed by the user. Encapculation hide the data at implementation level. It aims what logics get hide from the user.\n",
    "I can think of the interaction between a user and a mobile phone as an example of encapsulation. The user does not need to understand the internal workings of the phone in order to utilise it, which is referred to as abstraction"
   ]
  },
  {
   "cell_type": "markdown",
   "id": "59717daf-d6a0-413c-9758-fe54e7c81b97",
   "metadata": {},
   "source": [
    "Q3. What is abc module in python? Why is it used?\n",
    "Answer 3: An abstract base class is a class that is used as a blueprint for other classes. Abstract base classes are a powerful feature in Python since they help you define a blueprint for other classes that may have something in common.\n",
    "The 'abc' module in the Python library provides the infrastructure for defining custom abstract base classes. Abstract class cannot be instantiated in python. An Abstract method can be call by its subclasses."
   ]
  },
  {
   "cell_type": "markdown",
   "id": "910d86fc-2792-4876-bc9e-54ac78cdd3f8",
   "metadata": {},
   "source": [
    "Q4. How can we achieve data abstraction?\n",
    "Answer 4: Data Abstraction in Python can be achieved through creating abstract classes and inheriting them later. "
   ]
  },
  {
   "cell_type": "markdown",
   "id": "38d22331-f16a-49e7-ab01-03283279786b",
   "metadata": {},
   "source": [
    "Q5. Can we create an instance of an abstract class? Explain your answer.\n",
    "Answer 5: Abstract classes cannot be instantiated, but they can be subclassed. When an abstract class is subclassed, the subclass usually provides implementations for all of the abstract methods in its parent class. However, if it does not, then the subclass must also be declared abstract ."
   ]
  }
 ],
 "metadata": {
  "kernelspec": {
   "display_name": "Python 3 (ipykernel)",
   "language": "python",
   "name": "python3"
  },
  "language_info": {
   "codemirror_mode": {
    "name": "ipython",
    "version": 3
   },
   "file_extension": ".py",
   "mimetype": "text/x-python",
   "name": "python",
   "nbconvert_exporter": "python",
   "pygments_lexer": "ipython3",
   "version": "3.10.8"
  }
 },
 "nbformat": 4,
 "nbformat_minor": 5
}
