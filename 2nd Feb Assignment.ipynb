{
 "cells": [
  {
   "cell_type": "markdown",
   "id": "8510e22e-93fd-4c47-8c2b-7d16db840493",
   "metadata": {},
   "source": [
    "Answer1:\n",
    "For Loop: A for loop is an iteration method that is best used when we know the number of iterations ahead of time. \n",
    "While Loop: A while loop is an iteration method that is best used when we don't know the number of iterations ahead of time."
   ]
  },
  {
   "cell_type": "code",
   "execution_count": 23,
   "id": "91988921-34f9-4191-bbac-21789035e705",
   "metadata": {},
   "outputs": [
    {
     "name": "stdin",
     "output_type": "stream",
     "text": [
      "Enter the number 6\n"
     ]
    },
    {
     "name": "stdout",
     "output_type": "stream",
     "text": [
      "6 * 1 = 6\n",
      "6 * 2 = 12\n",
      "6 * 3 = 18\n",
      "6 * 4 = 24\n",
      "6 * 5 = 30\n",
      "6 * 6 = 36\n",
      "6 * 7 = 42\n",
      "6 * 8 = 48\n",
      "6 * 9 = 54\n",
      "6 * 10 = 60\n"
     ]
    }
   ],
   "source": [
    "n=int(input(\"Enter the number\"))\n",
    "for i in range(1,11):\n",
    "    product=n*i\n",
    "    print(n,'*',i,'=',product)"
   ]
  },
  {
   "cell_type": "code",
   "execution_count": 16,
   "id": "301c792c-7ec0-4aad-8b42-b87512e50519",
   "metadata": {},
   "outputs": [
    {
     "name": "stdin",
     "output_type": "stream",
     "text": [
      "Enter the number 7\n"
     ]
    },
    {
     "name": "stdout",
     "output_type": "stream",
     "text": [
      "7 * 1 = 7\n",
      "7 * 2 = 14\n",
      "7 * 3 = 21\n",
      "7 * 4 = 28\n",
      "7 * 5 = 35\n",
      "7 * 6 = 42\n",
      "7 * 7 = 49\n",
      "7 * 8 = 56\n",
      "7 * 9 = 63\n",
      "7 * 10 = 70\n"
     ]
    }
   ],
   "source": [
    "n=int(input(\"Enter the number\"))\n",
    "count=1\n",
    "while(count<=10):\n",
    "    product=n*count\n",
    "    print(n,'*',count,'=',product)\n",
    "    count+=1"
   ]
  },
  {
   "cell_type": "markdown",
   "id": "8b6091e2-e6a4-4cbe-8fa1-47c6f2072a42",
   "metadata": {},
   "source": [
    "Answer2: "
   ]
  },
  {
   "cell_type": "code",
   "execution_count": 17,
   "id": "f831e658-d27c-4da0-a0f5-65d1405800b8",
   "metadata": {},
   "outputs": [
    {
     "name": "stdout",
     "output_type": "stream",
     "text": [
      "Sum: 55 Product: 3628800\n"
     ]
    }
   ],
   "source": [
    "# sum and product of first 10 natural numbers using for loop\n",
    "sum=0\n",
    "product=1\n",
    "for i in range(1,11):\n",
    "    sum+=i\n",
    "    product*=i\n",
    "print(\"Sum:\",sum, \"Product:\",product)"
   ]
  },
  {
   "cell_type": "code",
   "execution_count": 18,
   "id": "d2d2eed0-cd9d-4458-a775-bd3957fea785",
   "metadata": {},
   "outputs": [
    {
     "name": "stdout",
     "output_type": "stream",
     "text": [
      "Sum: 55 Product: 3628800\n"
     ]
    }
   ],
   "source": [
    "# sum and product of first 10 natural numbers using while loop\n",
    "i=1\n",
    "sum=0\n",
    "product=1\n",
    "while(i<11):\n",
    "    sum+=i\n",
    "    product*=i\n",
    "    i=i+1\n",
    "print(\"Sum:\",sum, \"Product:\",product)"
   ]
  },
  {
   "cell_type": "markdown",
   "id": "4471f45c-2348-41bb-9887-65db6df11159",
   "metadata": {},
   "source": [
    "Answer3:"
   ]
  },
  {
   "cell_type": "code",
   "execution_count": 26,
   "id": "448a2c50-702c-4021-a91a-3204b83503c2",
   "metadata": {},
   "outputs": [
    {
     "name": "stdin",
     "output_type": "stream",
     "text": [
      "Enter the number of units consumed 310\n"
     ]
    },
    {
     "name": "stdout",
     "output_type": "stream",
     "text": [
      "The total electricity bill in Rs is: 2250.0\n"
     ]
    }
   ],
   "source": [
    "num_units=int(input(\"Enter the number of units consumed\"))\n",
    "charge=100*4.5 + 100*6 + 100*10 + (num_units-300)*20\n",
    "print(\"The total electricity bill in Rs is:\", charge)"
   ]
  },
  {
   "cell_type": "markdown",
   "id": "1e2c8e30-19d9-42f0-b690-6afe880a0d26",
   "metadata": {},
   "source": [
    "Answer4:"
   ]
  },
  {
   "cell_type": "code",
   "execution_count": 19,
   "id": "6f7a26d3-7011-4104-bc86-4223de2ec751",
   "metadata": {},
   "outputs": [
    {
     "name": "stdout",
     "output_type": "stream",
     "text": [
      "[8, 64, 125, 216, 512, 1000, 1728, 2744, 3375, 4096, 5832, 8000, 10648, 13824, 15625, 17576, 21952, 27000, 32768, 39304, 42875, 46656, 54872, 64000, 74088, 85184, 91125, 97336, 110592, 125000, 140608, 157464, 166375, 175616, 195112, 216000, 238328, 262144, 274625, 287496, 314432, 343000, 373248, 405224, 421875, 438976, 474552, 512000, 551368, 592704, 614125, 636056, 681472, 729000, 778688, 830584, 857375, 884736, 941192, 1000000]\n"
     ]
    }
   ],
   "source": [
    "# created list of numbers from 1 to 100\n",
    "l=list(range(1,101))\n",
    "l1=[]\n",
    "for i in l:\n",
    "    cube=i**3 # using for loop calculated cube of each number\n",
    "    if cube%4==0 or cube%5==0: # checked the cube of the number is divisible by 4 or 5\n",
    "        l1.append(cube) # appended the number in a list l1\n",
    "print(l1) # printed the list"
   ]
  },
  {
   "cell_type": "code",
   "execution_count": 20,
   "id": "90b58186-0b65-4a9a-860f-db53ba5595cb",
   "metadata": {},
   "outputs": [
    {
     "name": "stdout",
     "output_type": "stream",
     "text": [
      "[8, 64, 125, 216, 512, 1000, 1728, 2744, 3375, 4096, 5832, 8000, 10648, 13824, 15625, 17576, 21952, 27000, 32768, 39304, 42875, 46656, 54872, 64000, 74088, 85184, 91125, 97336, 110592, 125000, 140608, 157464, 166375, 175616, 195112, 216000, 238328, 262144, 274625, 287496, 314432, 343000, 373248, 405224, 421875, 438976, 474552, 512000, 551368, 592704, 614125, 636056, 681472, 729000, 778688, 830584, 857375, 884736, 941192, 1000000]\n"
     ]
    }
   ],
   "source": [
    "# created list of numbers from 1 to 100\n",
    "i=1\n",
    "l=[]\n",
    "while(i<=100):\n",
    "    cube=i**3 # using while loop calculated cube of each number\n",
    "    if cube%4==0 or cube%5==0: # checked the cube of the number is divisible by 4 or 5\n",
    "        l.append(cube) # appended the number in a list l1\n",
    "    i=i+1\n",
    "print(l) # printed the list      \n",
    "    "
   ]
  },
  {
   "cell_type": "markdown",
   "id": "ddb0dc49-5a52-44fe-a731-e1593df18e8e",
   "metadata": {},
   "source": [
    "Answer5:"
   ]
  },
  {
   "cell_type": "code",
   "execution_count": 21,
   "id": "91dfda72-8188-4d98-ac97-49d6331e26db",
   "metadata": {},
   "outputs": [
    {
     "name": "stdout",
     "output_type": "stream",
     "text": [
      "I a o e o e a a a i e i "
     ]
    }
   ],
   "source": [
    "# program to filter vowels in the below-given string.\n",
    "string = \"I want to become a data scientist\"\n",
    "for i in range(0,len(string)):\n",
    "    if string[i].lower() in ['a','e','i','o','u']:\n",
    "        print(string[i], end=' ')"
   ]
  },
  {
   "cell_type": "code",
   "execution_count": 22,
   "id": "78b4e384-61e2-4ac2-a7d5-4de40ff4b7e3",
   "metadata": {},
   "outputs": [
    {
     "name": "stdout",
     "output_type": "stream",
     "text": [
      "12\n"
     ]
    }
   ],
   "source": [
    "# program to count vowels in the below-given string.\n",
    "string = \"I want to become a data scientist\"\n",
    "count=0\n",
    "for i in range(0,len(string)):\n",
    "    if string[i].lower() in ['a','e','i','o','u']:\n",
    "        count+=1\n",
    "print(count)"
   ]
  }
 ],
 "metadata": {
  "kernelspec": {
   "display_name": "Python 3 (ipykernel)",
   "language": "python",
   "name": "python3"
  },
  "language_info": {
   "codemirror_mode": {
    "name": "ipython",
    "version": 3
   },
   "file_extension": ".py",
   "mimetype": "text/x-python",
   "name": "python",
   "nbconvert_exporter": "python",
   "pygments_lexer": "ipython3",
   "version": "3.10.8"
  }
 },
 "nbformat": 4,
 "nbformat_minor": 5
}
