{
 "cells": [
  {
   "cell_type": "markdown",
   "id": "34fb02bd-82f3-4a90-a339-f123d9813549",
   "metadata": {},
   "source": [
    "Q1. What is multithreading in python? Why is it used? Name the module used to handle threads in python."
   ]
  },
  {
   "cell_type": "markdown",
   "id": "594f84f8-aaa2-4993-abbe-af918d0d3f19",
   "metadata": {},
   "source": [
    "Answer 1: A process of running multiple threads simultaneously within a single process.\n",
    "Multithreading in Python allows the concurrent and parallel occurrence of various tasks. It causes a reduction in time consumption or response time, thereby increasing the performance.\n",
    "threading module(multithreading) is used to handle threads in python."
   ]
  },
  {
   "cell_type": "markdown",
   "id": "49c2d6ab-b9d0-448d-9793-7808f12545f6",
   "metadata": {},
   "source": [
    "Q2. Why threading module used? Write the use of the following functions:\n",
    "(1) activeCount()\n",
    "(2) currentThread()\n",
    "(3) enumerate()"
   ]
  },
  {
   "cell_type": "markdown",
   "id": "19b9e4a2-bc62-4e83-850f-636ab8d4af6f",
   "metadata": {},
   "source": [
    "Answer 2: threading module is used to create and manage threads in Python and improve the performance of a program by using multiple CPUs or CPU cores.\n",
    "(1) activeCount(): activeCount() method returns the number of active threads in the current thread's thread group.\n",
    "(2) currentThread(): The currentThread() method of thread class is used to return a reference to the currently executing thread object.\n",
    "(3) enumerate(): The module function enumerate() returns a list of all alive threads."
   ]
  },
  {
   "cell_type": "markdown",
   "id": "0680027f-d240-406c-b2a2-a0dc67d9ed49",
   "metadata": {},
   "source": [
    "3. Explain the following functions:\n",
    "(1) run()\n",
    "(2) start()\n",
    "(3) join()\n",
    "(4) isAlive()"
   ]
  },
  {
   "cell_type": "markdown",
   "id": "cbe36fc4-a966-44cf-bb8f-1095a3059e38",
   "metadata": {},
   "source": [
    "(1) run(): run() method is an inbuilt method of the Thread class of the threading module in Python. This method is used to represent a thread's activity. It calls the method expressed as the target argument in the Thread object along with the positional and keyword arguments taken from the args and kwargs arguments, respectively. This method can also be overridden in the subclass.\n",
    "(2) start(): start() method is an inbuilt method of the Thread class of the threading module in Python. It is used to start a thread's activity. This method calls the run() method internally which then executes the target method. This method must be called at most one time for one thread.\n",
    "(3) join(): The join() method delays a program's flow of execution until the target thread has been completely read.\n",
    "(4) isAlive(): The isAlive() method checks whether a thread is still executing."
   ]
  },
  {
   "cell_type": "markdown",
   "id": "e3d9cf25-2a3a-4168-9bc1-f1047412a77b",
   "metadata": {},
   "source": [
    "Q4. Write a python program to create two threads. Thread one must print the list of squares and thread\n",
    "two must print the list of cubes."
   ]
  },
  {
   "cell_type": "code",
   "execution_count": 4,
   "id": "99e2da8e-ee24-4fbb-96b1-55d513cf50f9",
   "metadata": {},
   "outputs": [
    {
     "name": "stdout",
     "output_type": "stream",
     "text": [
      "List of Squares:  [1, 4, 9, 16, 25, 36, 49, 64, 81, 100]\n",
      "List of Cubes:  [1, 8, 27, 64, 125, 216, 343, 512, 729, 1000]\n"
     ]
    }
   ],
   "source": [
    "#Answer 4: \n",
    "import threading\n",
    "\n",
    "def print_squares():\n",
    "    squares = [x**2 for x in range(1, 11)]\n",
    "    print(\"List of Squares: \", squares)\n",
    "\n",
    "def print_cubes():\n",
    "    cubes = [x**3 for x in range(1, 11)]\n",
    "    print(\"List of Cubes: \", cubes)\n",
    "\n",
    "if __name__ == '__main__':\n",
    "    t1 = threading.Thread(target=print_squares)\n",
    "    t2 = threading.Thread(target=print_cubes)\n",
    "    t1.start()\n",
    "    t2.start()\n",
    "    t1.join()\n",
    "    t2.join()"
   ]
  },
  {
   "cell_type": "markdown",
   "id": "2531b8bf-cf0a-45c1-adab-45f67c84ad55",
   "metadata": {},
   "source": [
    "Q5. State advantages and disadvantages of multithreading.\n",
    "Answer 5: \n",
    "Advantages:\n",
    "(1) Enhanced performance by decreased development time\n",
    "(2) Simplified and streamlined program coding\n",
    "(3) Improvised GUI responsiveness\n",
    "(4) Simultaneous and parallelized occurrence of tasks\n",
    "(5) Better use of cache storage by utilization of resources\n",
    "(6) Decreased cost of maintenance\n",
    "(7) Better use of CPU resource\n",
    "Disadvantages:\n",
    "(1) Complex debugging and testing processes.\n",
    "(2) Overhead switching of context.\n",
    "(3) Increased potential for deadlock occurrence.\n",
    "(4) Increased difficulty level in writing a program.\n",
    "(5) Unpredictable results."
   ]
  },
  {
   "cell_type": "markdown",
   "id": "d1e8cc6f-e392-438c-b5b4-f649f7740187",
   "metadata": {},
   "source": [
    "Q6. Explain deadlocks and race conditions."
   ]
  },
  {
   "cell_type": "markdown",
   "id": "8a07f284-b293-4ec2-8f97-1f88128b7112",
   "metadata": {},
   "source": [
    "Answer 6:\n",
    "Deadlock: A deadlock is a situation that occurs when two or more processes are unable to proceed because each is waiting for the other to release a resource or data item. In other words, each process is stuck in a loop, waiting for the other process to finish, while neither process can continue until the other one does. This can result in a system-wide freeze or crash. For example, If thread T1 acquired resource R1 and it also needs resource R2 for it to accomplish its task. But the resource R2 is acquired by thread T2 which is waiting for resource R1(which is acquired by T1). Neither of them will be able to accomplish its task, as they keep waiting for the other resources they need.\n",
    "\n",
    "Race condition: A race condition is a situation that occurs when the outcome of a program depends on the order in which different threads or processes execute. Specifically, a race condition can occur when two or more threads or processes access a shared resource or data item at the same time, and the order in which they access it affects the final result.\n",
    "\n",
    "For example, imagine two processes are accessing a shared variable that starts at 0. One process reads the variable, adds 1, and writes the new value back. The other process reads the variable, subtracts 1, and writes the new value back. If the processes access the variable simultaneously, the final value of the variable will depend on the order in which the processes execute their operations.\n",
    "\n",
    "Race conditions can be avoided by using synchronization mechanisms such as locks, semaphores, and mutexes, which ensure that only one thread or process can access the shared resource at a time."
   ]
  }
 ],
 "metadata": {
  "kernelspec": {
   "display_name": "Python 3 (ipykernel)",
   "language": "python",
   "name": "python3"
  },
  "language_info": {
   "codemirror_mode": {
    "name": "ipython",
    "version": 3
   },
   "file_extension": ".py",
   "mimetype": "text/x-python",
   "name": "python",
   "nbconvert_exporter": "python",
   "pygments_lexer": "ipython3",
   "version": "3.10.8"
  }
 },
 "nbformat": 4,
 "nbformat_minor": 5
}
