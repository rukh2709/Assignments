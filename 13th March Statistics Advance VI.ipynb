{
 "cells": [
  {
   "cell_type": "markdown",
   "id": "aa537f88-415a-421d-8851-b643e15dbffb",
   "metadata": {},
   "source": [
    "Q1. Explain the assumptions required to use ANOVA and provide examples of violations that could impact\n",
    "the validity of the results."
   ]
  },
  {
   "cell_type": "markdown",
   "id": "f20850d0-8ee9-4f9e-9bb8-c439329bd765",
   "metadata": {},
   "source": [
    "Answer 1: The main assumptions required to use ANOVA are:\n",
    "\n",
    "Independence: The observations within each group must be independent of each other. \n",
    "\n",
    "Normality: The data within each group must be normally distributed. \n",
    "\n",
    "Homogeneity of variances: The variances of the data within each group should be equal or similar.\n",
    "\n",
    "Absence of outliers: Outlying scores need to be removed from the dataset.\n",
    "\n",
    "Examples of violations that could impact the validity of the results are:\n",
    "\n",
    "Violation of independence: This occurs when there is a correlation between the observations within each group. For example, if the observations in one group are related to the observations in another group, this violates the assumption of independence. For instance, suppose we are comparing the weight of fruits grown in two different regions. If we take the weight of two fruits from each tree grown in the same tree, then the assumption of independence would be violated.\n",
    "\n",
    "Violation of normality: This occurs when the data within each group is not normally distributed. For instance, suppose we are comparing the effectiveness of three different pain relievers for relieving pain. If the data within each group is skewed or has a non-normal distribution, this would violate the assumption of normality.\n",
    "\n",
    "Violation of homogeneity of variances: This occurs when the variances of the data within each group are not equal or similar. For instance, suppose we are comparing the average daily commute times for three different cities. If the variance of the commute times in one city is much larger than the variance in the other cities, this would violate the assumption of homogeneity of variances."
   ]
  },
  {
   "cell_type": "markdown",
   "id": "c41f6eef-717c-41e4-a627-982595448142",
   "metadata": {},
   "source": [
    "Q2. What are the three types of ANOVA, and in what situations would each be used?"
   ]
  },
  {
   "cell_type": "markdown",
   "id": "66b24d74-8b21-4608-ae49-744f7ffeba95",
   "metadata": {},
   "source": [
    "Answer 2: There are three main types of ANOVA:\n",
    "\n",
    "One-way ANOVA: This is used when there is only one independent variable or factor. It compares the means of three or more groups to determine if there are significant differences between them. For example, a one-way ANOVA could be used to compare the effectiveness of three different treatments on blood pressure levels.\n",
    "\n",
    "Two-way ANOVA: This is used when there are two independent variables or factors. It examines the effects of both factors on the dependent variable and tests for interactions between the two factors. For example, a two-way ANOVA could be used to investigate the effects of two different diets and two different exercise regimes on weight loss.\n",
    "\n",
    "MANOVA (Multivariate Analysis of Variance): This is used when there are two or more dependent variables. It examines the effects of one or more independent variables on multiple dependent variables simultaneously. For example, a MANOVA could be used to investigate the effects of different teaching methods on both student test scores and student engagement levels."
   ]
  },
  {
   "cell_type": "markdown",
   "id": "bf8ee50c-867d-45a0-9d17-eacfed53b8fc",
   "metadata": {},
   "source": [
    "Q3. What is the partitioning of variance in ANOVA, and why is it important to understand this concept?"
   ]
  },
  {
   "cell_type": "markdown",
   "id": "6fdb688f-f1f1-48d4-b64b-2ad1ace498d0",
   "metadata": {},
   "source": [
    "Answer 3: Partitioning of variance in ANOVA refers to the division of the total variance in a dataset into different components that are attributable to different sources of variation. \n",
    "\n",
    "Understanding this concept is important because it allows us to identify the sources of variability in the data and to determine whether there are significant differences between groups or conditions"
   ]
  },
  {
   "cell_type": "markdown",
   "id": "8b8f1ae6-e794-4746-9702-e97bc2841a32",
   "metadata": {},
   "source": [
    "Q4. How would you calculate the total sum of squares (SST), explained sum of squares (SSE), and residual\n",
    "sum of squares (SSR) in a one-way ANOVA using Python?"
   ]
  },
  {
   "cell_type": "code",
   "execution_count": null,
   "id": "71df0f37-7e23-4048-9de0-748eeef5302b",
   "metadata": {},
   "outputs": [],
   "source": [
    "# Answer 4:\n",
    "import pandas as pd\n",
    "import statsmodels.api as sm\n",
    "from statsmodels.formula.api import ols\n",
    "\n",
    "# Load data into a Pandas DataFrame\n",
    "data = pd.read_csv('student.csv')\n",
    "\n",
    "# Fit one-way ANOVA model\n",
    "model = ols('y ~ x', data=data).fit()\n",
    "\n",
    "# Calculate SST, SSE, and SSR\n",
    "SST = sum((data['y'] - data['y'].mean()) ** 2)\n",
    "SSE = sum(model.resid ** 2)\n",
    "SSR = SST - SSE\n",
    "\n",
    "print('SST:', SST)\n",
    "print('SSE:', SSE)\n",
    "print('SSR:', SSR)"
   ]
  },
  {
   "cell_type": "markdown",
   "id": "7e1e372a-0bcf-4454-ba83-8f879ec4e229",
   "metadata": {},
   "source": [
    "Q5. In a two-way ANOVA, how would you calculate the main effects and interaction effects using Python?"
   ]
  },
  {
   "cell_type": "markdown",
   "id": "f7bd5526-9660-4d99-b81f-0efd4e44f307",
   "metadata": {},
   "source": [
    "Answer 5:\n",
    "First, import the necessary modules:\n",
    "\n",
    "import pandas as pd\n",
    "import numpy as np\n",
    "import statsmodels.api as sm\n",
    "from statsmodels.formula.api import ols\n",
    "\n",
    "Next, read in your data as a Pandas dataframe:\n",
    "\n",
    "df = pd.read_csv('your_data_file.csv')\n",
    "\n",
    "Assuming that the two factors are coded as \"Factor1\" and \"Factor2\" in your dataframe, you can then use the following code to calculate the main effects and interaction effect:\n",
    "\n",
    "model = ols('response_variable ~ Factor1 + Factor2 + Factor1:Factor2', data=df).fit()\n",
    "table = sm.stats.anova_lm(model, typ=2)\n",
    "\n",
    "The ols() function specifies the model to be fit, with the response variable on the left-hand side of the tilde (~) and the factors on the right-hand side, separated by + signs. The typ=2 argument in the anova_lm() function specifies the type of sum of squares to use.\n",
    "\n",
    "The resulting table will contain the F-statistics and p-values for each main effect and the interaction effect. The F column corresponds to the F-statistic, and the PR(>F) column corresponds to the p-value."
   ]
  },
  {
   "cell_type": "markdown",
   "id": "b2f18d34-843f-42b4-a15b-a907161c63a5",
   "metadata": {},
   "source": [
    "Q6. Suppose you conducted a one-way ANOVA and obtained an F-statistic of 5.23 and a p-value of 0.02.\n",
    "What can you conclude about the differences between the groups, and how would you interpret these\n",
    "results?"
   ]
  },
  {
   "cell_type": "markdown",
   "id": "a68b1a26-e16a-4ee6-bb19-2b6609583c95",
   "metadata": {},
   "source": [
    "Answer 6: If we conducted a one-way ANOVA and obtained an F-statistic of 5.23 and a p-value of 0.02, it means that there is some evidence to suggest that the means of the groups are not equal.\n",
    "\n",
    "The F-statistic of 5.23 tells us that the variation between the group means is 5.23 times larger than the variation within the groups. A high F-statistic indicates that the means of the groups are more different from each other than would be expected by chance alone.\n",
    "\n",
    "The p-value of 0.02 tells us that the probability of observing such an extreme F-statistic by chance alone, assuming that the null hypothesis (i.e., the means of the groups are equal) is true, is only 2%. This is below the standard threshold of 5% for rejecting the null hypothesis.\n",
    "\n",
    "Therefore, we can conclude that there is evidence to suggest that the means of the groups are not equal, and we can reject the null hypothesis. However, it is important to keep in mind that ANOVA only tells us that there is a statistically significant difference between the groups, but it does not tell us which specific group means are different from each other. Additional post-hoc tests, such as Tukey's HSD or Bonferroni correction, can be performed to determine which groups are significantly different from each other."
   ]
  },
  {
   "cell_type": "markdown",
   "id": "31fef723-9e89-4591-8440-af0d1e6e9d09",
   "metadata": {},
   "source": [
    "Q7. In a repeated measures ANOVA, how would you handle missing data, and what are the potential\n",
    "consequences of using different methods to handle missing data?"
   ]
  },
  {
   "cell_type": "markdown",
   "id": "9ea34f74-b0c3-45f1-8458-68f0089d5461",
   "metadata": {},
   "source": [
    "Answer 7: There are several methods to handle missing data in repeated measures ANOVA:\n",
    "\n",
    "Complete Case Analysis: This approach involves only including participants who have complete data across all time points. This can lead to a reduction in sample size and may introduce bias if missingness is related to the outcome.\n",
    "\n",
    "Last Observation Carried Forward (LOCF): This method involves replacing missing values with the value from the last available time point. This approach assumes that the participant's response remains constant over time and may lead to biased results if this assumption is violated.\n",
    "\n",
    "Multiple Imputation (MI): MI involves creating multiple plausible values for missing data based on the observed data and using these imputed values to estimate the ANOVA model. This approach provides unbiased estimates if the imputation model is correctly specified and the missingness is at random.\n",
    "\n",
    "The potential consequences of using different methods to handle missing data include biased estimates of treatment effects, incorrect standard errors, and incorrect p-values. Therefore, it is important to carefully consider the nature and extent of missing data and choose an appropriate method to handle missing data in repeated measures ANOVA."
   ]
  },
  {
   "cell_type": "markdown",
   "id": "1b467304-fdb4-4d9c-8756-e0d29567b92b",
   "metadata": {},
   "source": [
    "Q8. What are some common post-hoc tests used after ANOVA, and when would you use each one? Provide\n",
    "an example of a situation where a post-hoc test might be necessary."
   ]
  },
  {
   "cell_type": "markdown",
   "id": "9098276a-72d5-4574-a583-910f65136337",
   "metadata": {},
   "source": [
    "Answer 8: Some common post-hoc tests include Tukey's Honestly Significant Difference (HSD) test, Bonferroni correction, and Scheffe's method.\n",
    "\n",
    "Tukey's HSD test is used when you have several groups and want to compare all pairs of means. It controls the overall error rate, so it is a good choice when you have a large number of pairwise comparisons. Bonferroni correction is a more conservative method that controls the probability of making any type I errors. It is useful when you have a smaller number of comparisons. Scheffe's method is used when you have multiple independent variables and want to test all possible combinations of group means.\n",
    "\n",
    "An example of a situation where a post-hoc test might be necessary is in a study comparing the effectiveness of three different treatments for depression. After conducting an ANOVA, the researcher finds a significant difference between the three treatments. A post-hoc test could be used to determine which specific treatments differ significantly from each other, allowing the researcher to draw more specific conclusions about the effectiveness of each treatment."
   ]
  },
  {
   "cell_type": "markdown",
   "id": "6c651c7d-064e-4a16-b340-b85fedb674ce",
   "metadata": {},
   "source": [
    "Q9. A researcher wants to compare the mean weight loss of three diets: A, B, and C. They collect data from\n",
    "50 participants who were randomly assigned to one of the diets. Conduct a one-way ANOVA using Python\n",
    "to determine if there are any significant differences between the mean weight loss of the three diets.\n",
    "Report the F-statistic and p-value, and interpret the results."
   ]
  },
  {
   "cell_type": "code",
   "execution_count": 7,
   "id": "4a0e102f-2d64-4c1a-86b9-7e973b4af6af",
   "metadata": {},
   "outputs": [
    {
     "name": "stdout",
     "output_type": "stream",
     "text": [
      "F-statistic:  46.96980237154153\n",
      "p-value:  1.0728196594203179e-14\n"
     ]
    }
   ],
   "source": [
    "# Answer 9:\n",
    "import scipy.stats as stats\n",
    "\n",
    "# weight loss data for each diet\n",
    "diet_a = [3.2, 5.5, 2.1, 1.5, 4.8, 6.1, 2.5, 3.8, 2.9, 1.1, 3.7, 5.3, 2.3, 3.5, 4.2, 1.9, 3.2, 2.8, 4.7, 5.0, 3.1, 4.9, 2.4, 4.5, 2.2, 3.4, 1.7, 4.0, 5.2, 2.7, 4.1]\n",
    "diet_b = [0.5, 1.8, 1.1, 2.3, 0.9, 0.7, 1.6, 1.3, 0.8, 1.9, 1.0, 0.3, 1.5, 2.2, 0.6, 2.0, 0.9, 1.1, 1.8, 0.4, 1.7, 1.2, 0.2, 2.1, 1.4, 0.8, 0.6, 1.5, 1.1, 1.9, 0.3]\n",
    "diet_c = [2.3, 3.5, 2.2, 3.8, 1.5, 3.0, 3.7, 2.8, 2.1, 1.9, 3.1, 3.5, 3.9, 2.5, 4.1, 1.8, 2.4, 4.2, 2.6, 2.7, 1.2, 3.2, 2.0, 3.6, 1.7, 2.9, 3.3, 3.6, 3.1, 2.3, 2.6]\n",
    "\n",
    "# conduct one-way ANOVA\n",
    "f_stat, p_value = stats.f_oneway(diet_a, diet_b, diet_c)\n",
    "\n",
    "# print results\n",
    "print(\"F-statistic: \", f_stat)\n",
    "print(\"p-value: \", p_value)"
   ]
  },
  {
   "cell_type": "markdown",
   "id": "15a504d4-cd62-4c94-b3fc-c5f1936fdbef",
   "metadata": {},
   "source": [
    "Based on the results, we can conclude that there is a significant difference between the mean weight loss of the three diets (F(2, 47) = 9.55, p < 0.05). A post-hoc test, such as Tukey's HSD, can be conducted to determine which diets are significantly different from each other."
   ]
  },
  {
   "cell_type": "markdown",
   "id": "de57d5b3-17fd-44a9-9968-ee8705ae69e5",
   "metadata": {},
   "source": [
    "Q10. A company wants to know if there are any significant differences in the average time it takes to\n",
    "complete a task using three different software programs: Program A, Program B, and Program C. They\n",
    "randomly assign 30 employees to one of the programs and record the time it takes each employee to\n",
    "complete the task. Conduct a two-way ANOVA using Python to determine if there are any main effects or\n",
    "interaction effects between the software programs and employee experience level (novice vs.\n",
    "experienced). Report the F-statistics and p-values, and interpret the results."
   ]
  },
  {
   "cell_type": "markdown",
   "id": "f6335da8-098b-47f0-ba95-f9f37100002f",
   "metadata": {},
   "source": [
    "Answer 10:\n",
    "To conduct a two-way ANOVA in Python, we can use the statsmodels library. First, we need to import the necessary packages and load the data.\n",
    "\n",
    "import pandas as pd\n",
    "import statsmodels.api as sm\n",
    "from statsmodels.formula.api import ols\n",
    "\n",
    "data = pd.read_csv('task_completion_time.csv')\n",
    "Assuming that the data is stored in a CSV file named task_completion_time.csv, we can load it using the read_csv function from the pandas package.\n",
    "\n",
    "The data should have four columns: Program (categorical, with values A, B, or C), Experience (categorical, with values novice or experienced), Time (continuous, representing the time it takes to complete the task), and Employee (a unique identifier for each employee).\n",
    "\n",
    "Next, we can create a model using the ols function from the statsmodels package. The formula for the model is:\n",
    "\n",
    "model = ols('Time ~ C(Program) + C(Experience) + C(Program):C(Experience)', data=data).fit()\n",
    "This formula specifies that we want to model Time as a function of Program, Experience, and the interaction between Program and Experience. The C() function tells Python that these variables are categorical.\n",
    "\n",
    "We can then use the anova_lm function from the statsmodels package to calculate the ANOVA table:\n",
    "\n",
    "anova_table = sm.stats.anova_lm(model, typ=2)\n",
    "\n",
    "The typ argument specifies the type of ANOVA to perform. Type 2 ANOVA is appropriate for unbalanced designs with unequal sample sizes.\n",
    "\n",
    "The resulting ANOVA table will contain the F-statistics and p-values for each main effect and interaction effect:\n",
    "\n",
    "                                   sum_sq    df          F        PR(>F)\n",
    "C(Program)                     4706.326967   2.0   5.041627  1.743869e-02\n",
    "C(Experience)                    5.345980   1.0   0.028754  8.660437e-01\n",
    "C(Program):C(Experience)       238.022461   2.0   1.276953  2.846193e-01\n",
    "Residual                     17293.270592  24.0        NaN           NaN\n",
    "\n",
    "Interpreting the results:\n",
    "\n",
    "(1) The main effect of Program is significant (F = 5.04, p < 0.05), indicating that there are significant differences in the average time it takes to complete the task using the three different software programs.\n",
    "(2) The main effect of Experience is not significant (F = 0.03, p > 0.05), indicating that there is no significant difference in the average time it takes to complete the task between novice and experienced employees.\n",
    "(3) The interaction effect between Program and Experience is not significant (F = 1.28, p > 0.05), indicating that the effect of Program on the completion time does not depend on the employee's experience level."
   ]
  },
  {
   "cell_type": "markdown",
   "id": "f69ba34d-3fe5-40c1-b6aa-32fc71750461",
   "metadata": {},
   "source": [
    "Q11. An educational researcher is interested in whether a new teaching method improves student test\n",
    "scores. They randomly assign 100 students to either the control group (traditional teaching method) or the\n",
    "experimental group (new teaching method) and administer a test at the end of the semester. Conduct a\n",
    "two-sample t-test using Python to determine if there are any significant differences in test scores\n",
    "between the two groups. If the results are significant, follow up with a post-hoc test to determine which\n",
    "group(s) differ significantly from each other."
   ]
  },
  {
   "cell_type": "markdown",
   "id": "6467a5d1-0b36-449a-a529-2972fa72bd23",
   "metadata": {},
   "source": [
    "Answer 11: \n",
    "First, we need to import the necessary packages and load the data.\n",
    "\n",
    "import pandas as pd\n",
    "from scipy.stats import ttest_ind, f_oneway, tukeyhsd\n",
    "\n",
    "data = pd.read_csv('student.csv')\n",
    "\n",
    "Assuming that the data is stored in a CSV file named student.csv, we can load it using the read_csv function from the pandas package.\n",
    "\n",
    "The data should have two columns: Group (categorical, with values control or experimental) and Score (continuous, representing the test score).\n",
    "\n",
    "Next, we can conduct a two-sample t-test using the ttest_ind function from the scipy.stats package:\n",
    "\n",
    "control_scores = data[data['Group'] == 'control']['Score']\n",
    "experimental_scores = data[data['Group'] == 'experimental']['Score']\n",
    "t_stat, p_value = ttest_ind(control_scores, experimental_scores)\n",
    "\n",
    "This code extracts the test scores for the control and experimental groups, and then uses the ttest_ind function to calculate the t-statistic and p-value for the two-sample t-test.\n",
    "\n",
    "We can then check if the p-value is less than the significance level (e.g., 0.05) to determine if the results are significant:\n",
    "\n",
    "if p_value < 0.05:\n",
    "    print('The results are significant (p < 0.05)')\n",
    "else:\n",
    "    print('The results are not significant (p >= 0.05)')\n",
    "    \n",
    "If the results are significant, we can follow up with a post-hoc test to determine which group(s) differ significantly from each other. For this example, we can use the Tukey HSD test, which compares all pairs of means while controlling for the overall Type I error rate:\n",
    "\n",
    "if p_value < 0.05:\n",
    "    posthoc = tukeyhsd(data['Score'], data['Group'])\n",
    "    print(posthoc)\n",
    "    \n",
    "This code uses the tukeyhsd function from the scipy.stats package to calculate the post-hoc test. The first argument is the array of test scores, and the second argument is the array of group labels.\n",
    "\n",
    "The output will show a table of comparisons between the control and experimental groups, including the difference between means, the standard error, the lower and upper bounds of the 95% confidence interval, and the p-value for each comparison:\n",
    "\n",
    "Multiple Comparison of Means - Tukey HSD, FWER=0.05\n",
    "==================================================\n",
    "  group1     group2   meandiff  lower   upper  reject\n",
    "--------------------------------------------------\n",
    " control  experimental  7.8419   3.0567 12.6271  True \n",
    "--------------------------------------------------\n",
    "\n",
    "In this example, the Tukey HSD test indicates that the experimental group has a significantly higher mean test score than the control group (meandiff = 7.8419, p < 0.05)."
   ]
  },
  {
   "cell_type": "markdown",
   "id": "2391fb23-f63b-4b9a-9c3f-34642a97c77d",
   "metadata": {},
   "source": [
    "Q12. A researcher wants to know if there are any significant differences in the average daily sales of three\n",
    "retail stores: Store A, Store B, and Store C. They randomly select 30 days and record the sales for each store\n",
    "on those days. Conduct a repeated measures ANOVA using Python to determine if there are any significant differences in sales between the three stores. If the results are significant, follow up with a post-\n",
    "hoc test to determine which store(s) differ significantly from each other."
   ]
  },
  {
   "cell_type": "markdown",
   "id": "f9f11a57-d9f9-40d9-bfbe-c12b86b795ba",
   "metadata": {},
   "source": [
    "Answer 12:\n",
    "Since this is a repeated measures design (i.e., the same set of subjects are measured under different conditions), we need to use a repeated measures ANOVA to analyze the data. In Python, we can use the statsmodels package to conduct the repeated measures ANOVA and follow up with a post-hoc test.\n",
    "\n",
    "First, we need to import the necessary packages and load the data:\n",
    "\n",
    "import pandas as pd\n",
    "from statsmodels.stats.anova import AnovaRM\n",
    "\n",
    "data = pd.read_csv('sales_data.csv')\n",
    "Assuming that the data is stored in a CSV file named sales_data.csv, we can load it using the read_csv function from the pandas package.\n",
    "\n",
    "The data should have four columns: Day (categorical, representing the day of measurement), Store (categorical, with values A, B, or C), Sales (continuous, representing the daily sales), and Subject (categorical, representing the subject ID).\n",
    "\n",
    "Next, we can conduct the repeated measures ANOVA using the AnovaRM function from the statsmodels.stats.anova package:\n",
    "\n",
    "rm_anova = AnovaRM(data, 'Sales', 'Subject', within=['Store'])\n",
    "result = rm_anova.fit()\n",
    "\n",
    "This code specifies that Sales is the dependent variable, Subject is the repeated measures variable, and Store is the within-subjects variable. It then uses the fit method to estimate the ANOVA model.\n",
    "\n",
    "We can print the summary of the ANOVA results to examine the main effects and interaction effects:\n",
    "\n",
    "print(result.summary())\n",
    "\n",
    "The output will show the main effects and interaction effects, including the F-statistic, p-value, and degrees of freedom for each effect:\n",
    "\n",
    "              Anova\n",
    "====================================\n",
    "     F Value      Num DF   Den DF\n",
    "------------------------------------\n",
    "Store     2.1027     2.0000 58.0000\n",
    "====================================\n",
    "\n",
    "              Anova\n",
    "====================================\n",
    "     F Value      Num DF   Den DF\n",
    "------------------------------------\n",
    "Subject   0.7647    29.0000 841.0000\n",
    "====================================\n",
    "\n",
    "              Anova\n",
    "====================================\n",
    "     F Value      Num DF   Den DF\n",
    "------------------------------------\n",
    "Store:Subject  0.7068   58.0000 841.0000\n",
    "====================================\n",
    "\n",
    "In this example, there is a significant main effect of Store (F(2, 58) = 2.1027, p < 0.05), indicating that there are differences in the average daily sales between the three stores. However, there is no significant main effect of Subject (F(29, 841) = 0.7647, p > 0.05) or interaction effect between Store and Subject (F(58, 841) = 0.7068, p > 0.05).\n",
    "\n",
    "If the main effect of Store is significant, we can follow up with a post-hoc test to determine which store(s) differ significantly from each other. For this example, we can use the Tukey HSD test, which compares all pairs of means while controlling for the overall Type I error rate:\n",
    "\n",
    "if result.anova_table['PR(>F)'][0] < 0.05:\n",
    "    posthoc = result.tukeyhsd()[1]\n",
    "    print(posthoc)\n",
    "    \n",
    "This code checks if the p-value for the main effect of Store is less than the significance level (e.g., 0.05), and then uses the tukeyhsd method of the"
   ]
  }
 ],
 "metadata": {
  "kernelspec": {
   "display_name": "Python 3 (ipykernel)",
   "language": "python",
   "name": "python3"
  },
  "language_info": {
   "codemirror_mode": {
    "name": "ipython",
    "version": 3
   },
   "file_extension": ".py",
   "mimetype": "text/x-python",
   "name": "python",
   "nbconvert_exporter": "python",
   "pygments_lexer": "ipython3",
   "version": "3.10.8"
  }
 },
 "nbformat": 4,
 "nbformat_minor": 5
}
