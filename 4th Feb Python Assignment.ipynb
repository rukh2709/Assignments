{
 "cells": [
  {
   "cell_type": "markdown",
   "id": "479a3fec-0232-4416-a3f3-b8e30c992bc1",
   "metadata": {},
   "source": [
    "Q1. Create a python program to sort the given list of tuples based on integer value using a\n",
    "lambda function.   "
   ]
  },
  {
   "cell_type": "code",
   "execution_count": 86,
   "id": "036a4846-b6ab-467a-8ce1-8e867f5dbc98",
   "metadata": {},
   "outputs": [
    {
     "name": "stdout",
     "output_type": "stream",
     "text": [
      "[('Virat Kohli', 24936), ('Jack Kallis', 25534), ('Ricky Ponting', 27483), ('Sachin Tendulkar', 34357)]\n"
     ]
    }
   ],
   "source": [
    "list=[('Sachin Tendulkar', 34357), ('Ricky Ponting', 27483), ('Jack Kallis', 25534), ('Virat Kohli', 24936)]\n",
    "list.sort(key = lambda x: x[1])                     \n",
    "print(list)"
   ]
  },
  {
   "cell_type": "code",
   "execution_count": 85,
   "id": "1ae62a26-3314-4b01-a2e0-6c401994fee8",
   "metadata": {},
   "outputs": [
    {
     "name": "stdout",
     "output_type": "stream",
     "text": [
      "[(24936, 'Virat Kohli'), (25534, 'Jack Kallis'), (27483, 'Ricky Ponting'), (34357, 'Sachin Tendulkar')]\n"
     ]
    }
   ],
   "source": [
    "list=[(34357,'Sachin Tendulkar'), (27483,'Ricky Ponting'), (25534,'Jack Kallis'), (24936,'Virat Kohli')]\n",
    "list.sort(key = lambda x: x[0])                     \n",
    "print(list)"
   ]
  },
  {
   "cell_type": "markdown",
   "id": "39ff4092-d3c9-4886-84fa-dbd638e8c628",
   "metadata": {},
   "source": [
    "Q2. Write a Python Program to find the squares of all the numbers in the given list of integers using\n",
    "lambda and map functions.\n",
    "[1, 2, 3, 4, 5, 6, 7, 8, 9, 10]"
   ]
  },
  {
   "cell_type": "code",
   "execution_count": 4,
   "id": "04089c94-0214-4785-9bbb-39cdf994b040",
   "metadata": {},
   "outputs": [
    {
     "name": "stdout",
     "output_type": "stream",
     "text": [
      "1 4 9 16 25 36 49 64 81 100 "
     ]
    }
   ],
   "source": [
    "# Using lambda function\n",
    "l= [1, 2, 3, 4, 5, 6, 7, 8, 9, 10]\n",
    "c=lambda x:x**2\n",
    "for i in l:\n",
    "    print(c(i), end=' ')"
   ]
  },
  {
   "cell_type": "code",
   "execution_count": 6,
   "id": "18ae2b14-db0b-4cdf-ae08-d5fc26fa257e",
   "metadata": {},
   "outputs": [
    {
     "data": {
      "text/plain": [
       "[1, 4, 9, 16, 25, 36, 49, 64, 81, 100]"
      ]
     },
     "execution_count": 6,
     "metadata": {},
     "output_type": "execute_result"
    }
   ],
   "source": [
    "# Using map function\n",
    "l= [1, 2, 3, 4, 5, 6, 7, 8, 9, 10]\n",
    "list(map(lambda x:x**2, l))"
   ]
  },
  {
   "cell_type": "markdown",
   "id": "f4ae81c3-407b-4a02-a543-81f8ef890a9e",
   "metadata": {},
   "source": [
    "Q3. Write a python program to convert the given list of integers into a tuple of strings. Use map and\n",
    "lambda functions\n",
    "Given String: [1, 2, 3, 4, 5, 6, 7, 8, 9, 10]\n",
    "Expected output: ('1', '2', '3', '4', '5', '6', '7', '8', '9', '10')"
   ]
  },
  {
   "cell_type": "code",
   "execution_count": 49,
   "id": "ca9ca7f5-63a2-4357-b147-a0c31038b32c",
   "metadata": {},
   "outputs": [
    {
     "data": {
      "text/plain": [
       "('1', '2', '3', '4', '5', '6', '7', '8', '9', '10')"
      ]
     },
     "execution_count": 49,
     "metadata": {},
     "output_type": "execute_result"
    }
   ],
   "source": [
    "# Using map and lambda functions\n",
    "l=[1, 2, 3, 4, 5, 6, 7, 8, 9, 10]\n",
    "tuple((map(lambda x:str(x), l)))"
   ]
  },
  {
   "cell_type": "code",
   "execution_count": 37,
   "id": "3e164e63-36d1-4f9e-aa21-31465452e297",
   "metadata": {},
   "outputs": [
    {
     "name": "stdout",
     "output_type": "stream",
     "text": [
      "('1', '2', '3', '4', '5', '6', '7', '8', '9', '10')\n"
     ]
    }
   ],
   "source": [
    "# Using lambda function only\n",
    "l=[1, 2, 3, 4, 5, 6, 7, 8, 9, 10]\n",
    "c=lambda x:tuple(str(x) for x in l) \n",
    "print(c(l))"
   ]
  },
  {
   "cell_type": "markdown",
   "id": "3ac34aad-7bb0-48a0-80b6-78893b569e57",
   "metadata": {},
   "source": [
    "Q4. Write a python program using reduce function to compute the product of a list containing numbers\n",
    "from 1 to 25."
   ]
  },
  {
   "cell_type": "code",
   "execution_count": 57,
   "id": "306a21e9-e82b-4129-8ae6-20e252409902",
   "metadata": {},
   "outputs": [
    {
     "name": "stdout",
     "output_type": "stream",
     "text": [
      "[1, 2, 3, 4, 5, 6, 7, 8, 9, 10, 11, 12, 13, 14, 15, 16, 17, 18, 19, 20, 21, 22, 23, 24, 25]\n"
     ]
    },
    {
     "data": {
      "text/plain": [
       "15511210043330985984000000"
      ]
     },
     "execution_count": 57,
     "metadata": {},
     "output_type": "execute_result"
    }
   ],
   "source": [
    "from functools import reduce\n",
    "l=[]\n",
    "for i in range(1,26):\n",
    "    l.append(i)\n",
    "print(l)\n",
    "reduce(lambda x,y:x*y, l)"
   ]
  },
  {
   "cell_type": "markdown",
   "id": "385cc3d8-ae27-47bf-abb1-031a9e8f42b4",
   "metadata": {},
   "source": [
    "Q5. Write a python program to filter the numbers in a given list that are divisible by 2 and 3 using the\n",
    "filter function.\n",
    "[2, 3, 6, 9, 27, 60, 90, 120, 55, 46]"
   ]
  },
  {
   "cell_type": "code",
   "execution_count": 60,
   "id": "7f05c16c-d8f9-44e5-9615-617e1b3dbd1a",
   "metadata": {},
   "outputs": [
    {
     "data": {
      "text/plain": [
       "[6, 60, 90, 120]"
      ]
     },
     "execution_count": 60,
     "metadata": {},
     "output_type": "execute_result"
    }
   ],
   "source": [
    "l=[2, 3, 6, 9, 27, 60, 90, 120, 55, 46]\n",
    "list(filter(lambda x:x%2==0 and x%3==0, l))"
   ]
  },
  {
   "cell_type": "markdown",
   "id": "d1bc8fe1-bc7b-45a3-9a4b-dec119f9f6ab",
   "metadata": {},
   "source": [
    "Q6. Write a python program to find palindromes in the given list of strings using lambda and filter\n",
    "function.\n",
    "['python', 'php', 'aba', 'radar', 'level']"
   ]
  },
  {
   "cell_type": "code",
   "execution_count": 76,
   "id": "1e927260-225d-4370-9fd4-5d6c9c822eae",
   "metadata": {},
   "outputs": [
    {
     "data": {
      "text/plain": [
       "['php', 'aba', 'radar', 'level']"
      ]
     },
     "execution_count": 76,
     "metadata": {},
     "output_type": "execute_result"
    }
   ],
   "source": [
    "l=['python', 'php', 'aba', 'radar', 'level']\n",
    "list(filter(lambda x: (x == \"\".join(reversed(x))), l))"
   ]
  },
  {
   "cell_type": "code",
   "execution_count": null,
   "id": "3ae58aa2-770b-4051-aae3-d9d8c13e05ca",
   "metadata": {},
   "outputs": [],
   "source": []
  }
 ],
 "metadata": {
  "kernelspec": {
   "display_name": "Python 3 (ipykernel)",
   "language": "python",
   "name": "python3"
  },
  "language_info": {
   "codemirror_mode": {
    "name": "ipython",
    "version": 3
   },
   "file_extension": ".py",
   "mimetype": "text/x-python",
   "name": "python",
   "nbconvert_exporter": "python",
   "pygments_lexer": "ipython3",
   "version": "3.10.8"
  }
 },
 "nbformat": 4,
 "nbformat_minor": 5
}
