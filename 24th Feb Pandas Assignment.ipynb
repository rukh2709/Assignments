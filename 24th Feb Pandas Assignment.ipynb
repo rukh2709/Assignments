{
 "cells": [
  {
   "cell_type": "markdown",
   "id": "06fc91a7-fa26-44fa-b67e-7f9e558b871b",
   "metadata": {},
   "source": [
    "Q1. List any five functions of the pandas library with execution."
   ]
  },
  {
   "cell_type": "markdown",
   "id": "b74c55f8-c586-4801-bdce-7aa553a30937",
   "metadata": {},
   "source": [
    "Answer 1:\n",
    "1. head()\n",
    "2. tail()\n",
    "3. describe()\n",
    "4. info()\n",
    "5. max()"
   ]
  },
  {
   "cell_type": "code",
   "execution_count": 32,
   "id": "7be428c3-8472-4bae-a0d3-d1cec41cb28f",
   "metadata": {},
   "outputs": [],
   "source": [
    "# Consider a titanic dataset\n",
    "import pandas as pd\n",
    "df = pd.read_csv(\"https://raw.githubusercontent.com/datasciencedojo/datasets/master/titanic.csv\")"
   ]
  },
  {
   "cell_type": "code",
   "execution_count": 4,
   "id": "037490c9-fe59-4a0c-b667-76f8cc053352",
   "metadata": {},
   "outputs": [
    {
     "data": {
      "text/html": [
       "<div>\n",
       "<style scoped>\n",
       "    .dataframe tbody tr th:only-of-type {\n",
       "        vertical-align: middle;\n",
       "    }\n",
       "\n",
       "    .dataframe tbody tr th {\n",
       "        vertical-align: top;\n",
       "    }\n",
       "\n",
       "    .dataframe thead th {\n",
       "        text-align: right;\n",
       "    }\n",
       "</style>\n",
       "<table border=\"1\" class=\"dataframe\">\n",
       "  <thead>\n",
       "    <tr style=\"text-align: right;\">\n",
       "      <th></th>\n",
       "      <th>PassengerId</th>\n",
       "      <th>Survived</th>\n",
       "      <th>Pclass</th>\n",
       "      <th>Name</th>\n",
       "      <th>Sex</th>\n",
       "      <th>Age</th>\n",
       "      <th>SibSp</th>\n",
       "      <th>Parch</th>\n",
       "      <th>Ticket</th>\n",
       "      <th>Fare</th>\n",
       "      <th>Cabin</th>\n",
       "      <th>Embarked</th>\n",
       "    </tr>\n",
       "  </thead>\n",
       "  <tbody>\n",
       "    <tr>\n",
       "      <th>0</th>\n",
       "      <td>1</td>\n",
       "      <td>0</td>\n",
       "      <td>3</td>\n",
       "      <td>Braund, Mr. Owen Harris</td>\n",
       "      <td>male</td>\n",
       "      <td>22.0</td>\n",
       "      <td>1</td>\n",
       "      <td>0</td>\n",
       "      <td>A/5 21171</td>\n",
       "      <td>7.2500</td>\n",
       "      <td>NaN</td>\n",
       "      <td>S</td>\n",
       "    </tr>\n",
       "    <tr>\n",
       "      <th>1</th>\n",
       "      <td>2</td>\n",
       "      <td>1</td>\n",
       "      <td>1</td>\n",
       "      <td>Cumings, Mrs. John Bradley (Florence Briggs Th...</td>\n",
       "      <td>female</td>\n",
       "      <td>38.0</td>\n",
       "      <td>1</td>\n",
       "      <td>0</td>\n",
       "      <td>PC 17599</td>\n",
       "      <td>71.2833</td>\n",
       "      <td>C85</td>\n",
       "      <td>C</td>\n",
       "    </tr>\n",
       "    <tr>\n",
       "      <th>2</th>\n",
       "      <td>3</td>\n",
       "      <td>1</td>\n",
       "      <td>3</td>\n",
       "      <td>Heikkinen, Miss. Laina</td>\n",
       "      <td>female</td>\n",
       "      <td>26.0</td>\n",
       "      <td>0</td>\n",
       "      <td>0</td>\n",
       "      <td>STON/O2. 3101282</td>\n",
       "      <td>7.9250</td>\n",
       "      <td>NaN</td>\n",
       "      <td>S</td>\n",
       "    </tr>\n",
       "    <tr>\n",
       "      <th>3</th>\n",
       "      <td>4</td>\n",
       "      <td>1</td>\n",
       "      <td>1</td>\n",
       "      <td>Futrelle, Mrs. Jacques Heath (Lily May Peel)</td>\n",
       "      <td>female</td>\n",
       "      <td>35.0</td>\n",
       "      <td>1</td>\n",
       "      <td>0</td>\n",
       "      <td>113803</td>\n",
       "      <td>53.1000</td>\n",
       "      <td>C123</td>\n",
       "      <td>S</td>\n",
       "    </tr>\n",
       "    <tr>\n",
       "      <th>4</th>\n",
       "      <td>5</td>\n",
       "      <td>0</td>\n",
       "      <td>3</td>\n",
       "      <td>Allen, Mr. William Henry</td>\n",
       "      <td>male</td>\n",
       "      <td>35.0</td>\n",
       "      <td>0</td>\n",
       "      <td>0</td>\n",
       "      <td>373450</td>\n",
       "      <td>8.0500</td>\n",
       "      <td>NaN</td>\n",
       "      <td>S</td>\n",
       "    </tr>\n",
       "  </tbody>\n",
       "</table>\n",
       "</div>"
      ],
      "text/plain": [
       "   PassengerId  Survived  Pclass  \\\n",
       "0            1         0       3   \n",
       "1            2         1       1   \n",
       "2            3         1       3   \n",
       "3            4         1       1   \n",
       "4            5         0       3   \n",
       "\n",
       "                                                Name     Sex   Age  SibSp  \\\n",
       "0                            Braund, Mr. Owen Harris    male  22.0      1   \n",
       "1  Cumings, Mrs. John Bradley (Florence Briggs Th...  female  38.0      1   \n",
       "2                             Heikkinen, Miss. Laina  female  26.0      0   \n",
       "3       Futrelle, Mrs. Jacques Heath (Lily May Peel)  female  35.0      1   \n",
       "4                           Allen, Mr. William Henry    male  35.0      0   \n",
       "\n",
       "   Parch            Ticket     Fare Cabin Embarked  \n",
       "0      0         A/5 21171   7.2500   NaN        S  \n",
       "1      0          PC 17599  71.2833   C85        C  \n",
       "2      0  STON/O2. 3101282   7.9250   NaN        S  \n",
       "3      0            113803  53.1000  C123        S  \n",
       "4      0            373450   8.0500   NaN        S  "
      ]
     },
     "execution_count": 4,
     "metadata": {},
     "output_type": "execute_result"
    }
   ],
   "source": [
    "# 1. head()\n",
    "df.head()"
   ]
  },
  {
   "cell_type": "code",
   "execution_count": 5,
   "id": "35be496e-f4cb-4d2c-adec-062ed249474d",
   "metadata": {},
   "outputs": [
    {
     "data": {
      "text/html": [
       "<div>\n",
       "<style scoped>\n",
       "    .dataframe tbody tr th:only-of-type {\n",
       "        vertical-align: middle;\n",
       "    }\n",
       "\n",
       "    .dataframe tbody tr th {\n",
       "        vertical-align: top;\n",
       "    }\n",
       "\n",
       "    .dataframe thead th {\n",
       "        text-align: right;\n",
       "    }\n",
       "</style>\n",
       "<table border=\"1\" class=\"dataframe\">\n",
       "  <thead>\n",
       "    <tr style=\"text-align: right;\">\n",
       "      <th></th>\n",
       "      <th>PassengerId</th>\n",
       "      <th>Survived</th>\n",
       "      <th>Pclass</th>\n",
       "      <th>Name</th>\n",
       "      <th>Sex</th>\n",
       "      <th>Age</th>\n",
       "      <th>SibSp</th>\n",
       "      <th>Parch</th>\n",
       "      <th>Ticket</th>\n",
       "      <th>Fare</th>\n",
       "      <th>Cabin</th>\n",
       "      <th>Embarked</th>\n",
       "    </tr>\n",
       "  </thead>\n",
       "  <tbody>\n",
       "    <tr>\n",
       "      <th>886</th>\n",
       "      <td>887</td>\n",
       "      <td>0</td>\n",
       "      <td>2</td>\n",
       "      <td>Montvila, Rev. Juozas</td>\n",
       "      <td>male</td>\n",
       "      <td>27.0</td>\n",
       "      <td>0</td>\n",
       "      <td>0</td>\n",
       "      <td>211536</td>\n",
       "      <td>13.00</td>\n",
       "      <td>NaN</td>\n",
       "      <td>S</td>\n",
       "    </tr>\n",
       "    <tr>\n",
       "      <th>887</th>\n",
       "      <td>888</td>\n",
       "      <td>1</td>\n",
       "      <td>1</td>\n",
       "      <td>Graham, Miss. Margaret Edith</td>\n",
       "      <td>female</td>\n",
       "      <td>19.0</td>\n",
       "      <td>0</td>\n",
       "      <td>0</td>\n",
       "      <td>112053</td>\n",
       "      <td>30.00</td>\n",
       "      <td>B42</td>\n",
       "      <td>S</td>\n",
       "    </tr>\n",
       "    <tr>\n",
       "      <th>888</th>\n",
       "      <td>889</td>\n",
       "      <td>0</td>\n",
       "      <td>3</td>\n",
       "      <td>Johnston, Miss. Catherine Helen \"Carrie\"</td>\n",
       "      <td>female</td>\n",
       "      <td>NaN</td>\n",
       "      <td>1</td>\n",
       "      <td>2</td>\n",
       "      <td>W./C. 6607</td>\n",
       "      <td>23.45</td>\n",
       "      <td>NaN</td>\n",
       "      <td>S</td>\n",
       "    </tr>\n",
       "    <tr>\n",
       "      <th>889</th>\n",
       "      <td>890</td>\n",
       "      <td>1</td>\n",
       "      <td>1</td>\n",
       "      <td>Behr, Mr. Karl Howell</td>\n",
       "      <td>male</td>\n",
       "      <td>26.0</td>\n",
       "      <td>0</td>\n",
       "      <td>0</td>\n",
       "      <td>111369</td>\n",
       "      <td>30.00</td>\n",
       "      <td>C148</td>\n",
       "      <td>C</td>\n",
       "    </tr>\n",
       "    <tr>\n",
       "      <th>890</th>\n",
       "      <td>891</td>\n",
       "      <td>0</td>\n",
       "      <td>3</td>\n",
       "      <td>Dooley, Mr. Patrick</td>\n",
       "      <td>male</td>\n",
       "      <td>32.0</td>\n",
       "      <td>0</td>\n",
       "      <td>0</td>\n",
       "      <td>370376</td>\n",
       "      <td>7.75</td>\n",
       "      <td>NaN</td>\n",
       "      <td>Q</td>\n",
       "    </tr>\n",
       "  </tbody>\n",
       "</table>\n",
       "</div>"
      ],
      "text/plain": [
       "     PassengerId  Survived  Pclass                                      Name  \\\n",
       "886          887         0       2                     Montvila, Rev. Juozas   \n",
       "887          888         1       1              Graham, Miss. Margaret Edith   \n",
       "888          889         0       3  Johnston, Miss. Catherine Helen \"Carrie\"   \n",
       "889          890         1       1                     Behr, Mr. Karl Howell   \n",
       "890          891         0       3                       Dooley, Mr. Patrick   \n",
       "\n",
       "        Sex   Age  SibSp  Parch      Ticket   Fare Cabin Embarked  \n",
       "886    male  27.0      0      0      211536  13.00   NaN        S  \n",
       "887  female  19.0      0      0      112053  30.00   B42        S  \n",
       "888  female   NaN      1      2  W./C. 6607  23.45   NaN        S  \n",
       "889    male  26.0      0      0      111369  30.00  C148        C  \n",
       "890    male  32.0      0      0      370376   7.75   NaN        Q  "
      ]
     },
     "execution_count": 5,
     "metadata": {},
     "output_type": "execute_result"
    }
   ],
   "source": [
    "# 2. tail()\n",
    "df.tail()"
   ]
  },
  {
   "cell_type": "code",
   "execution_count": 6,
   "id": "81d8c06f-a08a-45a0-aa65-2d09dcc96cdc",
   "metadata": {},
   "outputs": [
    {
     "data": {
      "text/html": [
       "<div>\n",
       "<style scoped>\n",
       "    .dataframe tbody tr th:only-of-type {\n",
       "        vertical-align: middle;\n",
       "    }\n",
       "\n",
       "    .dataframe tbody tr th {\n",
       "        vertical-align: top;\n",
       "    }\n",
       "\n",
       "    .dataframe thead th {\n",
       "        text-align: right;\n",
       "    }\n",
       "</style>\n",
       "<table border=\"1\" class=\"dataframe\">\n",
       "  <thead>\n",
       "    <tr style=\"text-align: right;\">\n",
       "      <th></th>\n",
       "      <th>PassengerId</th>\n",
       "      <th>Survived</th>\n",
       "      <th>Pclass</th>\n",
       "      <th>Age</th>\n",
       "      <th>SibSp</th>\n",
       "      <th>Parch</th>\n",
       "      <th>Fare</th>\n",
       "    </tr>\n",
       "  </thead>\n",
       "  <tbody>\n",
       "    <tr>\n",
       "      <th>count</th>\n",
       "      <td>891.000000</td>\n",
       "      <td>891.000000</td>\n",
       "      <td>891.000000</td>\n",
       "      <td>714.000000</td>\n",
       "      <td>891.000000</td>\n",
       "      <td>891.000000</td>\n",
       "      <td>891.000000</td>\n",
       "    </tr>\n",
       "    <tr>\n",
       "      <th>mean</th>\n",
       "      <td>446.000000</td>\n",
       "      <td>0.383838</td>\n",
       "      <td>2.308642</td>\n",
       "      <td>29.699118</td>\n",
       "      <td>0.523008</td>\n",
       "      <td>0.381594</td>\n",
       "      <td>32.204208</td>\n",
       "    </tr>\n",
       "    <tr>\n",
       "      <th>std</th>\n",
       "      <td>257.353842</td>\n",
       "      <td>0.486592</td>\n",
       "      <td>0.836071</td>\n",
       "      <td>14.526497</td>\n",
       "      <td>1.102743</td>\n",
       "      <td>0.806057</td>\n",
       "      <td>49.693429</td>\n",
       "    </tr>\n",
       "    <tr>\n",
       "      <th>min</th>\n",
       "      <td>1.000000</td>\n",
       "      <td>0.000000</td>\n",
       "      <td>1.000000</td>\n",
       "      <td>0.420000</td>\n",
       "      <td>0.000000</td>\n",
       "      <td>0.000000</td>\n",
       "      <td>0.000000</td>\n",
       "    </tr>\n",
       "    <tr>\n",
       "      <th>25%</th>\n",
       "      <td>223.500000</td>\n",
       "      <td>0.000000</td>\n",
       "      <td>2.000000</td>\n",
       "      <td>20.125000</td>\n",
       "      <td>0.000000</td>\n",
       "      <td>0.000000</td>\n",
       "      <td>7.910400</td>\n",
       "    </tr>\n",
       "    <tr>\n",
       "      <th>50%</th>\n",
       "      <td>446.000000</td>\n",
       "      <td>0.000000</td>\n",
       "      <td>3.000000</td>\n",
       "      <td>28.000000</td>\n",
       "      <td>0.000000</td>\n",
       "      <td>0.000000</td>\n",
       "      <td>14.454200</td>\n",
       "    </tr>\n",
       "    <tr>\n",
       "      <th>75%</th>\n",
       "      <td>668.500000</td>\n",
       "      <td>1.000000</td>\n",
       "      <td>3.000000</td>\n",
       "      <td>38.000000</td>\n",
       "      <td>1.000000</td>\n",
       "      <td>0.000000</td>\n",
       "      <td>31.000000</td>\n",
       "    </tr>\n",
       "    <tr>\n",
       "      <th>max</th>\n",
       "      <td>891.000000</td>\n",
       "      <td>1.000000</td>\n",
       "      <td>3.000000</td>\n",
       "      <td>80.000000</td>\n",
       "      <td>8.000000</td>\n",
       "      <td>6.000000</td>\n",
       "      <td>512.329200</td>\n",
       "    </tr>\n",
       "  </tbody>\n",
       "</table>\n",
       "</div>"
      ],
      "text/plain": [
       "       PassengerId    Survived      Pclass         Age       SibSp  \\\n",
       "count   891.000000  891.000000  891.000000  714.000000  891.000000   \n",
       "mean    446.000000    0.383838    2.308642   29.699118    0.523008   \n",
       "std     257.353842    0.486592    0.836071   14.526497    1.102743   \n",
       "min       1.000000    0.000000    1.000000    0.420000    0.000000   \n",
       "25%     223.500000    0.000000    2.000000   20.125000    0.000000   \n",
       "50%     446.000000    0.000000    3.000000   28.000000    0.000000   \n",
       "75%     668.500000    1.000000    3.000000   38.000000    1.000000   \n",
       "max     891.000000    1.000000    3.000000   80.000000    8.000000   \n",
       "\n",
       "            Parch        Fare  \n",
       "count  891.000000  891.000000  \n",
       "mean     0.381594   32.204208  \n",
       "std      0.806057   49.693429  \n",
       "min      0.000000    0.000000  \n",
       "25%      0.000000    7.910400  \n",
       "50%      0.000000   14.454200  \n",
       "75%      0.000000   31.000000  \n",
       "max      6.000000  512.329200  "
      ]
     },
     "execution_count": 6,
     "metadata": {},
     "output_type": "execute_result"
    }
   ],
   "source": [
    "# 3. describe()\n",
    "df.describe()"
   ]
  },
  {
   "cell_type": "code",
   "execution_count": 8,
   "id": "9ae0c99e-4c23-40f1-9061-b486668bd1f2",
   "metadata": {},
   "outputs": [
    {
     "name": "stdout",
     "output_type": "stream",
     "text": [
      "<class 'pandas.core.frame.DataFrame'>\n",
      "RangeIndex: 891 entries, 0 to 890\n",
      "Data columns (total 12 columns):\n",
      " #   Column       Non-Null Count  Dtype  \n",
      "---  ------       --------------  -----  \n",
      " 0   PassengerId  891 non-null    int64  \n",
      " 1   Survived     891 non-null    int64  \n",
      " 2   Pclass       891 non-null    int64  \n",
      " 3   Name         891 non-null    object \n",
      " 4   Sex          891 non-null    object \n",
      " 5   Age          714 non-null    float64\n",
      " 6   SibSp        891 non-null    int64  \n",
      " 7   Parch        891 non-null    int64  \n",
      " 8   Ticket       891 non-null    object \n",
      " 9   Fare         891 non-null    float64\n",
      " 10  Cabin        204 non-null    object \n",
      " 11  Embarked     889 non-null    object \n",
      "dtypes: float64(2), int64(5), object(5)\n",
      "memory usage: 83.7+ KB\n"
     ]
    }
   ],
   "source": [
    "# 4. info()\n",
    "df.info()"
   ]
  },
  {
   "cell_type": "code",
   "execution_count": 9,
   "id": "23b62dbb-558e-4098-96b0-16091d78e6b8",
   "metadata": {},
   "outputs": [
    {
     "data": {
      "text/plain": [
       "80.0"
      ]
     },
     "execution_count": 9,
     "metadata": {},
     "output_type": "execute_result"
    }
   ],
   "source": [
    "# 5. max()\n",
    "df['Age'].max()"
   ]
  },
  {
   "cell_type": "markdown",
   "id": "ea8a7d11-4433-464e-bb9e-fb1e18ffb4c2",
   "metadata": {},
   "source": [
    "Q2. Given a Pandas DataFrame df with columns 'A', 'B', and 'C', write a Python function to re-index the\n",
    "DataFrame with a new index that starts from 1 and increments by 2 for each row."
   ]
  },
  {
   "cell_type": "code",
   "execution_count": 31,
   "id": "076abde2-d6dc-414b-b982-5a7e71359490",
   "metadata": {},
   "outputs": [
    {
     "name": "stdout",
     "output_type": "stream",
     "text": [
      "           A   B   C\n",
      "1     Rohita  16  11\n",
      "3  Meenakshi   7   2\n",
      "5      Reema   9   4\n",
      "7       Lata  10   5\n"
     ]
    }
   ],
   "source": [
    "#Answer 2: \n",
    "import pandas as pd\n",
    "# Created a DataFrame with columns 'A', 'B', and 'C'\n",
    "df = pd.DataFrame({'A': [\"Rohita\", \"Meenakshi\", \"Reema\", \"Lata\"],\n",
    "'B': [16, 7, 9, 10],\n",
    "'C': [11, 2, 4, 5]})\n",
    "#print(df)\n",
    "\n",
    "# Re-indexed the DataFrame df \n",
    "def reindex_dataframe(df):\n",
    "    new_index = pd.RangeIndex(start=1, stop=len(df)*2, step=2)\n",
    "    return df.set_index(new_index)\n",
    "\n",
    "reindexed_df = reindex_dataframe(df)\n",
    "print(reindexed_df)"
   ]
  },
  {
   "cell_type": "markdown",
   "id": "03421683-a17c-4106-9905-fbb3aaff1ee6",
   "metadata": {},
   "source": [
    "Q3. You have a Pandas DataFrame df with a column named 'Values'. Write a Python function that\n",
    "iterates over the DataFrame and calculates the sum of the first three values in the 'Values' column. The\n",
    "function should print the sum to the console."
   ]
  },
  {
   "cell_type": "code",
   "execution_count": 4,
   "id": "e4ad8f72-3458-4688-8c23-b569f3618f5b",
   "metadata": {},
   "outputs": [
    {
     "data": {
      "text/plain": [
       "60"
      ]
     },
     "execution_count": 4,
     "metadata": {},
     "output_type": "execute_result"
    }
   ],
   "source": [
    "#Answer 3: \n",
    "import pandas as pd\n",
    "data=[[10],[20],[30],[40],[50]]\n",
    "df=pd.DataFrame(data, columns=['Values'])\n",
    "#print(df)\n",
    "def new_dataframe():\n",
    "    sum = 0\n",
    "    for i in df.iloc[0:3,0]:\n",
    "        sum=sum+i\n",
    "    return sum\n",
    "df=new_dataframe()\n",
    "df"
   ]
  },
  {
   "cell_type": "markdown",
   "id": "66342ac6-9884-4971-8170-b00c70bbcd9e",
   "metadata": {},
   "source": [
    "Q4. Given a Pandas DataFrame df with a column 'Text', write a Python function to create a new column\n",
    "'Word_Count' that contains the number of words in each row of the 'Text' column."
   ]
  },
  {
   "cell_type": "code",
   "execution_count": 5,
   "id": "ddad687b-ecbc-4685-af90-7a65495551bc",
   "metadata": {},
   "outputs": [
    {
     "name": "stdout",
     "output_type": "stream",
     "text": [
      "                                     Text  Word_Count\n",
      "0                          My name is xyz           4\n",
      "1                    I love to read books           5\n",
      "2  In my free time I play with my brother           9\n",
      "3                                   Hello           1\n",
      "4                           Who is there?           3\n"
     ]
    }
   ],
   "source": [
    "# Answer 4: \n",
    "import pandas as pd\n",
    "data=[[\"My name is xyz\"],[\"I love to read books\"],[\"In my free time I play with my brother\"],[\"Hello\"],[\"Who is there?\"]]\n",
    "df=pd.DataFrame(data, columns=['Text'])\n",
    "#print(df)\n",
    "# function to create a new column 'Word_Count' that contains the number of words in each row of the 'Text' column.\n",
    "def count_words(df):\n",
    "    words = df['Text'].str.split()\n",
    "    word_count = words.apply(len)\n",
    "    df['Word_Count'] = word_count\n",
    "    return df\n",
    "# Calling the funtion\n",
    "df=count_words(df)\n",
    "print(df)"
   ]
  },
  {
   "cell_type": "markdown",
   "id": "86bf4dd3-2d10-42a0-a368-c6b0c4185c2e",
   "metadata": {},
   "source": [
    "Q5. How are DataFrame.size() and DataFrame.shape() different?"
   ]
  },
  {
   "cell_type": "markdown",
   "id": "1355a154-c254-49a6-9dbd-a9863a830656",
   "metadata": {},
   "source": [
    "Answer 5: DataFrame.shape() returns a tuple of the number of rows and columns, while DataFrame.size() returns the total number of elements in the DataFrame.\n",
    "\n",
    "For example: If a DataFrame has 5 rows and 3 columns, DataFrame.shape() will return (5, 3) whereas DataFrame.size() will return 5*3=15."
   ]
  },
  {
   "cell_type": "markdown",
   "id": "85d92c7b-368c-4746-a65b-8f6038f20f3a",
   "metadata": {},
   "source": [
    "Q6. Which function of pandas do we use to read an excel file?"
   ]
  },
  {
   "cell_type": "markdown",
   "id": "ae2ba68e-1342-47a3-aaa1-df18cf97eb19",
   "metadata": {},
   "source": [
    "Answer 6: We use read_excel() to read an excel file."
   ]
  },
  {
   "cell_type": "markdown",
   "id": "4517dadf-1d48-4043-8b86-4affb9694cd1",
   "metadata": {},
   "source": [
    "Q7. You have a Pandas DataFrame df that contains a column named 'Email' that contains email\n",
    "addresses in the format 'username@domain.com'. Write a Python function that creates a new column\n",
    "'Username' in df that contains only the username part of each email address."
   ]
  },
  {
   "cell_type": "code",
   "execution_count": 29,
   "id": "a9a6184a-d659-416b-97bd-8e8e21aa0663",
   "metadata": {},
   "outputs": [
    {
     "name": "stdout",
     "output_type": "stream",
     "text": [
      "                 Email   Username\n",
      "0     Rohita@gmail.com     Rohita\n",
      "1  Meenakshi@gmail.com  Meenakshi\n",
      "2      Reema@gmail.com      Reema\n",
      "3       Lata@yahoo.com       Lata\n"
     ]
    }
   ],
   "source": [
    "#Answer 7:\n",
    "import pandas as pd\n",
    "\n",
    "# Create a DataFrame with column 'Email'\n",
    "data=[\"Rohita@gmail.com\", \"Meenakshi@gmail.com\", \"Reema@gmail.com\", \"Lata@yahoo.com\"]\n",
    "df = pd.DataFrame(data, columns=['Email'])\n",
    "#print(df)\n",
    "# function that creates a new column 'Username' in df that contains only the username part of each email address.\n",
    "def extract_username(df):\n",
    "    df[['Username', 'Domain']] = df['Email'].str.split('@', expand=True)\n",
    "    df.drop(columns=['Domain'], inplace=True)\n",
    "    return df\n",
    "# Calling the funtion\n",
    "df = extract_username(df)\n",
    "print(df)"
   ]
  },
  {
   "cell_type": "markdown",
   "id": "d5271a8c-7b9f-4898-bf5e-b686597d62e4",
   "metadata": {},
   "source": [
    "Q8. You have a Pandas DataFrame df with columns 'A', 'B', and 'C'. Write a Python function that selects\n",
    "all rows where the value in column 'A' is greater than 5 and the value in column 'B' is less than 10. The\n",
    "function should return a new DataFrame that contains only the selected rows."
   ]
  },
  {
   "cell_type": "code",
   "execution_count": 45,
   "id": "1513ff59-2149-4fff-bc73-c6342af841df",
   "metadata": {},
   "outputs": [
    {
     "data": {
      "text/html": [
       "<div>\n",
       "<style scoped>\n",
       "    .dataframe tbody tr th:only-of-type {\n",
       "        vertical-align: middle;\n",
       "    }\n",
       "\n",
       "    .dataframe tbody tr th {\n",
       "        vertical-align: top;\n",
       "    }\n",
       "\n",
       "    .dataframe thead th {\n",
       "        text-align: right;\n",
       "    }\n",
       "</style>\n",
       "<table border=\"1\" class=\"dataframe\">\n",
       "  <thead>\n",
       "    <tr style=\"text-align: right;\">\n",
       "      <th></th>\n",
       "      <th>A</th>\n",
       "      <th>B</th>\n",
       "      <th>C</th>\n",
       "    </tr>\n",
       "  </thead>\n",
       "  <tbody>\n",
       "    <tr>\n",
       "      <th>1</th>\n",
       "      <td>7</td>\n",
       "      <td>7</td>\n",
       "      <td>2</td>\n",
       "    </tr>\n",
       "  </tbody>\n",
       "</table>\n",
       "</div>"
      ],
      "text/plain": [
       "   A  B  C\n",
       "1  7  7  2"
      ]
     },
     "execution_count": 45,
     "metadata": {},
     "output_type": "execute_result"
    }
   ],
   "source": [
    "#Answer 8: \n",
    "import pandas as pd\n",
    "# Created a DataFrame with columns 'A', 'B', and 'C'\n",
    "df = pd.DataFrame({'A': [3, 7, 4, 9],\n",
    "'B': [16, 7, 9, 10],\n",
    "'C': [11, 2, 4, 5]})\n",
    "#print(df)\n",
    "# function that selects all rows where the value in column 'A' is greater than 5 and the value in column 'B' is less than 10.\n",
    "def new_dataframe(df):\n",
    "    selected_rows=(df['A']>5) & (df['B']<10)\n",
    "    return df[selected_rows]\n",
    "# Calling the function\n",
    "df=new_dataframe(df)\n",
    "df"
   ]
  },
  {
   "cell_type": "markdown",
   "id": "725b4106-4de2-4525-900e-6df849187f07",
   "metadata": {},
   "source": [
    "Q9. Given a Pandas DataFrame df with a column 'Values', write a Python function to calculate the mean,\n",
    "median, and standard deviation of the values in the 'Values' column."
   ]
  },
  {
   "cell_type": "code",
   "execution_count": 47,
   "id": "25835920-82ef-4c5e-a6f7-0b72abb8563e",
   "metadata": {},
   "outputs": [
    {
     "name": "stdout",
     "output_type": "stream",
     "text": [
      "{'mean': 30.0, 'median': 30.0, 'standard_deviation': 15.811388300841896}\n"
     ]
    }
   ],
   "source": [
    "#Answer 9: \n",
    "import pandas as pd\n",
    "data=[[10],[20],[30],[40],[50]]\n",
    "df=pd.DataFrame(data, columns=['Values'])\n",
    "#print(df)\n",
    "def stats_info(df):\n",
    "    mean=df['Values'].mean()\n",
    "    median=df['Values'].median()\n",
    "    standard_deviation=df['Values'].std()\n",
    "    stats_dict={\"mean\":mean, \"median\":median, \"standard_deviation\":standard_deviation}\n",
    "    return stats_dict\n",
    "# Calling the funtion\n",
    "df=stats_info(df)\n",
    "print(df)"
   ]
  },
  {
   "cell_type": "markdown",
   "id": "fa5ea8ed-84d7-40cc-9aea-e6079dcd96cd",
   "metadata": {},
   "source": [
    "Q10. Given a Pandas DataFrame df with a column 'Sales' and a column 'Date', write a Python function to\n",
    "create a new column 'MovingAverage' that contains the moving average of the sales for the past 7 days\n",
    "for each row in the DataFrame. The moving average should be calculated using a window of size 7 and\n",
    "should include the current day."
   ]
  },
  {
   "cell_type": "code",
   "execution_count": 4,
   "id": "253c5310-ad7c-4894-89a9-635af9d6d5dd",
   "metadata": {},
   "outputs": [
    {
     "name": "stdout",
     "output_type": "stream",
     "text": [
      "         Date  Sales  MovingAverage\n",
      "0  2023-01-01     10      10.000000\n",
      "1  2023-01-02     15      12.500000\n",
      "2  2023-01-03      8      11.000000\n",
      "3  2023-01-04     12      11.250000\n",
      "4  2023-01-05     16      12.200000\n",
      "5  2023-01-06     20      13.500000\n",
      "6  2023-01-07     18      14.142857\n",
      "7  2023-01-08     14      14.714286\n",
      "8  2023-01-09     12      14.285714\n",
      "9  2023-01-10     16      15.428571\n",
      "10 2023-01-11     17      16.142857\n",
      "11 2023-01-12     14      15.857143\n",
      "12 2023-01-13     13      14.857143\n",
      "13 2023-01-14     19      15.000000\n",
      "14 2023-01-15     22      16.142857\n"
     ]
    }
   ],
   "source": [
    "#Answer 10: \n",
    "# Created a DataFrame df with a column 'Sales' and a column 'Date'\n",
    "import pandas as pd\n",
    "df = pd.DataFrame({'Date': ['2023-01-01', '2023-01-02', '2023-01-03', '2023-01-04', '2023-01-05', '2023-01-06', '2023-01-07', '2023-01-08', '2023-01-09', '2023-01-10', '2023-01-11', '2023-01-12', '2023-01-13', '2023-01-14', '2023-01-15'], 'Sales': [10, 15, 8, 12, 16, 20, 18, 14, 12, 16, 17, 14, 13, 19, 22]})\n",
    "\n",
    "# function to create a new column 'MovingAverage' that contains the moving average of the sales for the past 7 days for each row in the DataFrame.\n",
    "def cal_moving_avg(df):\n",
    "    # Convert the 'Date' column to a datetime object\n",
    "    df['Date'] = pd.to_datetime(df['Date'])\n",
    "    # Sort the DataFrame by the 'Date' column\n",
    "    df = df.sort_values(by='Date')\n",
    "    # Calculate the moving average using a rolling window of size 7\n",
    "    moving_avg = df['Sales'].rolling(window=7, min_periods=1).mean()\n",
    "    # Add the moving average as a new column to the DataFrame\n",
    "    df['MovingAverage'] = moving_avg\n",
    "    # Return the new DataFrame\n",
    "    return df\n",
    "\n",
    "# Calling the function to calculate the moving average of sales for the past 7 days\n",
    "new_df = cal_moving_avg(df)\n",
    "\n",
    "# Print the new DataFrame\n",
    "print(new_df)"
   ]
  },
  {
   "cell_type": "markdown",
   "id": "2d8400c4-f6e1-4e4d-82e5-50290c1370ba",
   "metadata": {},
   "source": [
    "Q11. You have a Pandas DataFrame df with a column 'Date'. Write a Python function that creates a new\n",
    "column 'Weekday' in the DataFrame. The 'Weekday' column should contain the weekday name (e.g.\n",
    "Monday, Tuesday) corresponding to each date in the 'Date' column."
   ]
  },
  {
   "cell_type": "code",
   "execution_count": 9,
   "id": "f552b07c-779b-49a0-9b61-049b79e75114",
   "metadata": {},
   "outputs": [
    {
     "name": "stdout",
     "output_type": "stream",
     "text": [
      "        Date    Weekday\n",
      "0 2023-01-01     Sunday\n",
      "1 2023-01-02     Monday\n",
      "2 2023-01-03    Tuesday\n",
      "3 2023-01-04  Wednesday\n",
      "4 2023-01-05   Thursday\n"
     ]
    }
   ],
   "source": [
    "# Answer 11:\n",
    "import pandas as pd\n",
    "# Created a DataFrame with a column 'Date' that contains timestamps\n",
    "df = pd.DataFrame({'Date': ['2023-01-01', '2023-01-02', '2023-01-03', '2023-1-04', '2023-01-05']})\n",
    "#print(df)\n",
    "# function that creates a new column 'Weekday' in the DataFrame. The 'Weekday' column should contain the weekday name (e.g. Monday, Tuesday) corresponding to each date in the 'Date' column.\n",
    "def new_dataframe(df):\n",
    "    # Convert the 'Date' column to a datetime object\n",
    "    df['Date'] = pd.to_datetime(df['Date'])\n",
    "    df['Weekday'] = df['Date'].dt.day_name()\n",
    "    return df\n",
    "# Calling the function\n",
    "df2 = new_dataframe(df)\n",
    "print(df2)"
   ]
  },
  {
   "cell_type": "markdown",
   "id": "ac694025-3a2d-475b-9408-5666240b76f4",
   "metadata": {},
   "source": [
    "Q12. Given a Pandas DataFrame df with a column 'Date' that contains timestamps, write a Python\n",
    "function to select all rows where the date is between '2023-01-01' and '2023-01-31'."
   ]
  },
  {
   "cell_type": "code",
   "execution_count": 3,
   "id": "06165be5-8a61-4f08-b30f-9ed1a97c6b26",
   "metadata": {},
   "outputs": [
    {
     "name": "stdout",
     "output_type": "stream",
     "text": [
      "        Date\n",
      "1 2023-01-02\n",
      "2 2023-01-03\n",
      "3 2023-01-04\n",
      "4 2023-01-05\n"
     ]
    }
   ],
   "source": [
    "# Answer 12:\n",
    "import pandas as pd\n",
    "# Created a DataFrame with a column 'Date' that contains timestamps\n",
    "df = pd.DataFrame({'Date': ['2023-01-01', '2023-01-02', '2023-01-03', '2023-1-04', '2023-01-05']})\n",
    "#print(df)\n",
    "# created a function to select all rows where the date is between '2023-01-01' and '2023-01-31'.\n",
    "def new_dataframe(df):\n",
    "    # Convert the 'Date' column to a datetime object\n",
    "    df['Date'] = pd.to_datetime(df['Date'])\n",
    "    selected_rows=(df['Date'] > '2023-01-01') & (df['Date']<'2023-01-31')\n",
    "    return df[selected_rows]\n",
    "# Calling the function\n",
    "df = new_dataframe(df)\n",
    "print(df)"
   ]
  },
  {
   "cell_type": "markdown",
   "id": "89ab5fe9-3249-41ba-8f71-8d73dd5e037e",
   "metadata": {},
   "source": [
    "Q13. To use the basic functions of pandas, what is the first and foremost necessary library that needs to\n",
    "be imported?"
   ]
  },
  {
   "cell_type": "markdown",
   "id": "b02197ef-fdcf-4db5-9821-9ac3413c1634",
   "metadata": {},
   "source": [
    "Answer 13: To use the basic functions of pandas, 'pandas' library needs to be imported."
   ]
  }
 ],
 "metadata": {
  "kernelspec": {
   "display_name": "Python 3 (ipykernel)",
   "language": "python",
   "name": "python3"
  },
  "language_info": {
   "codemirror_mode": {
    "name": "ipython",
    "version": 3
   },
   "file_extension": ".py",
   "mimetype": "text/x-python",
   "name": "python",
   "nbconvert_exporter": "python",
   "pygments_lexer": "ipython3",
   "version": "3.10.8"
  }
 },
 "nbformat": 4,
 "nbformat_minor": 5
}
