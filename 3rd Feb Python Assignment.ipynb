{
 "cells": [
  {
   "cell_type": "markdown",
   "id": "c5cf31a0-4657-41dc-970b-84dd817c58a1",
   "metadata": {},
   "source": [
    "Answer1: def keyword is used to create a function."
   ]
  },
  {
   "cell_type": "code",
   "execution_count": 30,
   "id": "06066ff8-8c41-4e6b-a082-5609cadb50c0",
   "metadata": {},
   "outputs": [
    {
     "data": {
      "text/plain": [
       "[1, 3, 5, 7, 9, 11, 13, 15, 17, 19, 21, 23, 25]"
      ]
     },
     "execution_count": 30,
     "metadata": {},
     "output_type": "execute_result"
    }
   ],
   "source": [
    "#Created a function to return a list of odd numbers in the range of 1 to 25.\n",
    "def func1(n):\n",
    "    l=[]\n",
    "    for x in range(n+1):\n",
    "        if x%2!=0:\n",
    "            l.append(x)\n",
    "    return l\n",
    "\n",
    "# Calling the function\n",
    "func1(25)"
   ]
  },
  {
   "cell_type": "code",
   "execution_count": 31,
   "id": "2d485b52-c885-4b65-bfa3-a9289d492ee2",
   "metadata": {},
   "outputs": [
    {
     "data": {
      "text/plain": [
       "[1, 3, 5, 7, 9, 11, 13, 15, 17, 19, 21, 23, 25]"
      ]
     },
     "execution_count": 31,
     "metadata": {},
     "output_type": "execute_result"
    }
   ],
   "source": [
    "# #Created a function to return a list of odd numbers in the range of 1 to 25 using list comprehension\n",
    "def func(n):\n",
    "    return [x for x in range(n+1) if x%2!=0]  \n",
    "\n",
    "# Calling the function\n",
    "func1(25)"
   ]
  },
  {
   "cell_type": "markdown",
   "id": "dda7c3a6-983f-4ddc-9daa-cf9e7e801ffb",
   "metadata": {},
   "source": [
    "Answer 2: We use *args and **kwargs as arguments of a function when you are not sure about the number of arguments to pass in the functions."
   ]
  },
  {
   "cell_type": "code",
   "execution_count": 32,
   "id": "35467564-c701-4f58-b7dd-f7da81b5a545",
   "metadata": {},
   "outputs": [
    {
     "data": {
      "text/plain": [
       "17"
      ]
     },
     "execution_count": 32,
     "metadata": {},
     "output_type": "execute_result"
    }
   ],
   "source": [
    "# Created a function to sum up the numbers passed as the arguments using *args\n",
    "def func1(*num):\n",
    "    sum = 0    \n",
    "    for n in num:\n",
    "        sum = sum + n\n",
    "    return sum\n",
    "\n",
    "# Calling the function\n",
    "func1(1,2,3,5,6) # 5 parameters are passed here because of *args"
   ]
  },
  {
   "cell_type": "code",
   "execution_count": 33,
   "id": "5b547fd9-ce97-4f1a-a3b7-9a8594855b99",
   "metadata": {},
   "outputs": [
    {
     "data": {
      "text/plain": [
       "{'Firstname': 'Rukhsana', 'Lastname': 'Shehla', 'Age': '**', 'Phone': 45363674}"
      ]
     },
     "execution_count": 33,
     "metadata": {},
     "output_type": "execute_result"
    }
   ],
   "source": [
    "# Created a function to sum up the numbers passed as the arguments using **kwargs\n",
    "def func2(**list):\n",
    "    return {key:value for key, value in list.items()}        \n",
    "\n",
    "# Calling the function\n",
    "func2(Firstname=\"Rukhsana\", Lastname=\"Shehla\", Age= \"**\", Phone=45363674) # 4 parameters are passed here because of **kwargs"
   ]
  },
  {
   "cell_type": "markdown",
   "id": "7039904d-6081-4c35-9659-c6088f5635e6",
   "metadata": {},
   "source": [
    "Answer 3: Iterator in Python is an object that is used to iterate over iterable objects like lists, tuples, dicts, and sets. iter() is used to initialize the iterator object. next() method is used for iteration."
   ]
  },
  {
   "cell_type": "code",
   "execution_count": 11,
   "id": "920a3404-3d9b-4a2c-b0f1-f7abcabd29ce",
   "metadata": {},
   "outputs": [],
   "source": [
    "# To print the first five elements of the given list [2, 4, 6, 8, 10, 12, 14, 16, 18, 20]\n",
    "l=[2, 4, 6, 8, 10, 12, 14, 16, 18, 20]\n",
    "n=iter(l)\n",
    "# print(type(n))\n",
    "# list(n)"
   ]
  },
  {
   "cell_type": "code",
   "execution_count": 15,
   "id": "bdc0cb55-a8c8-4359-bc4d-e4c5f7c429ff",
   "metadata": {},
   "outputs": [
    {
     "data": {
      "text/plain": [
       "8"
      ]
     },
     "execution_count": 15,
     "metadata": {},
     "output_type": "execute_result"
    }
   ],
   "source": [
    "next(n) # Running 5 times the cell will give the first five numbers one by one from the list iterator n "
   ]
  },
  {
   "cell_type": "markdown",
   "id": "fe1f3285-f09d-45e7-b5e4-c40eba853f3b",
   "metadata": {},
   "source": [
    "Answer 4: A generator is a function that returns an iterator that produces a sequence of values when iterated over. Generators are useful when we want to produce a large sequence of values, but we don't want to store all of them in memory at once.\n",
    "yield keyword is used to create a generator function."
   ]
  },
  {
   "cell_type": "code",
   "execution_count": 4,
   "id": "5ada6e67-399c-4c1d-9ebe-6b89578c467a",
   "metadata": {},
   "outputs": [
    {
     "name": "stdout",
     "output_type": "stream",
     "text": [
      "1\n",
      "2\n",
      "3\n",
      "4\n",
      "5\n",
      "6\n",
      "7\n",
      "8\n",
      "9\n",
      "10\n"
     ]
    }
   ],
   "source": [
    "# An example of a generator function that produces a sequence of 10 numbers\n",
    "def my_generator(n):\n",
    "    i = 1\n",
    "    while i <= n:\n",
    "        yield i\n",
    "        i += 1\n",
    "        \n",
    "# Calling the generator        \n",
    "c=my_generator(10)\n",
    "\n",
    "# list the output\n",
    "# list(my_generator(6))\n",
    "\n",
    "for x in c:\n",
    "    print(x)"
   ]
  },
  {
   "cell_type": "markdown",
   "id": "3d796752-a71e-431d-ab8c-59fd1f86f568",
   "metadata": {},
   "source": [
    "Answer 5:"
   ]
  },
  {
   "cell_type": "code",
   "execution_count": 70,
   "id": "3c1b0345-54cc-4055-bc38-516c971dc9ef",
   "metadata": {},
   "outputs": [],
   "source": [
    "#Created a generator function for prime numbers less than 1000.\n",
    "def func_prime(number): \n",
    "    l1=[]\n",
    "    i=3\n",
    "    while i<number:  \n",
    "        for x in range(2, i):  \n",
    "            if (i % x) == 0:  \n",
    "                break  \n",
    "        else:  \n",
    "            \n",
    "            l1.append(i)\n",
    "        i+=1\n",
    "    yield l1"
   ]
  },
  {
   "cell_type": "code",
   "execution_count": 71,
   "id": "1e0b701b-c68a-4dea-850b-592bba3e6ae5",
   "metadata": {},
   "outputs": [
    {
     "data": {
      "text/plain": [
       "generator"
      ]
     },
     "execution_count": 71,
     "metadata": {},
     "output_type": "execute_result"
    }
   ],
   "source": [
    "c=func_prime(1000)\n",
    "type(c)"
   ]
  },
  {
   "cell_type": "code",
   "execution_count": 72,
   "id": "f415406e-afb8-466c-8c39-d2e305cbea58",
   "metadata": {},
   "outputs": [
    {
     "name": "stdout",
     "output_type": "stream",
     "text": [
      "[3, 5, 7, 11, 13, 17, 19, 23, 29, 31, 37, 41, 43, 47, 53, 59, 61, 67, 71, 73, 79, 83, 89, 97, 101, 103, 107, 109, 113, 127, 131, 137, 139, 149, 151, 157, 163, 167, 173, 179, 181, 191, 193, 197, 199, 211, 223, 227, 229, 233, 239, 241, 251, 257, 263, 269, 271, 277, 281, 283, 293, 307, 311, 313, 317, 331, 337, 347, 349, 353, 359, 367, 373, 379, 383, 389, 397, 401, 409, 419, 421, 431, 433, 439, 443, 449, 457, 461, 463, 467, 479, 487, 491, 499, 503, 509, 521, 523, 541, 547, 557, 563, 569, 571, 577, 587, 593, 599, 601, 607, 613, 617, 619, 631, 641, 643, 647, 653, 659, 661, 673, 677, 683, 691, 701, 709, 719, 727, 733, 739, 743, 751, 757, 761, 769, 773, 787, 797, 809, 811, 821, 823, 827, 829, 839, 853, 857, 859, 863, 877, 881, 883, 887, 907, 911, 919, 929, 937, 941, 947, 953, 967, 971, 977, 983, 991, 997]\n"
     ]
    }
   ],
   "source": [
    "# calling the generator function\n",
    "for i in c:\n",
    "    print(i)"
   ]
  },
  {
   "cell_type": "code",
   "execution_count": 16,
   "id": "d04bf7f0-ca8f-47da-950c-0851585ab987",
   "metadata": {},
   "outputs": [
    {
     "name": "stdin",
     "output_type": "stream",
     "text": [
      "Enter the number: 20\n"
     ]
    },
    {
     "name": "stdout",
     "output_type": "stream",
     "text": [
      "[2, 3, 5, 7, 11, 13, 17, 19, 23, 29, 31, 37, 41, 43, 47, 53, 59, 61, 67, 71]\n"
     ]
    },
    {
     "ename": "StopIteration",
     "evalue": "",
     "output_type": "error",
     "traceback": [
      "\u001b[0;31m---------------------------------------------------------------------------\u001b[0m",
      "\u001b[0;31mStopIteration\u001b[0m                             Traceback (most recent call last)",
      "Cell \u001b[0;32mIn[16], line 33\u001b[0m\n\u001b[1;32m     31\u001b[0m c\u001b[38;5;241m=\u001b[39mprimelist(\u001b[38;5;241m20\u001b[39m)\n\u001b[1;32m     32\u001b[0m \u001b[38;5;28;01mfor\u001b[39;00m i \u001b[38;5;129;01min\u001b[39;00m \u001b[38;5;28mrange\u001b[39m(\u001b[38;5;241m20\u001b[39m):\n\u001b[0;32m---> 33\u001b[0m     \u001b[38;5;28mprint\u001b[39m(\u001b[38;5;28;43mnext\u001b[39;49m\u001b[43m(\u001b[49m\u001b[43mc\u001b[49m\u001b[43m)\u001b[49m)\n",
      "\u001b[0;31mStopIteration\u001b[0m: "
     ]
    }
   ],
   "source": [
    "def is_prime(x):\n",
    "    if x==1:\n",
    "        pass\n",
    "    elif x==2:\n",
    "        return 1\n",
    "    else:\n",
    "        for i in range(2,round(x/2)+1):\n",
    "            if x%i==0:\n",
    "                break\n",
    "            elif x%i!=0:\n",
    "                if i==round(x/2):\n",
    "                    return 1\n",
    "    \n",
    "n=int(input(\"Enter the number:\"))\n",
    "def primelist(n):\n",
    "    y=1\n",
    "    counter=0\n",
    "    yes_no_prime=0\n",
    "    list_of_primes=[]\n",
    "    while counter<n:\n",
    "        yes_no_prime=is_prime(y)\n",
    "        if yes_no_prime==1:\n",
    "            list_of_primes.append(y)\n",
    "            counter+=1            \n",
    "        y+=1\n",
    "    yield list_of_primes\n",
    "    # print(\"list of first n prime numbers:\",list_of_primes) \n",
    "# Calling the function to get first 20 prime numbers printed\n",
    "# primelist(20)\n",
    "# len(list_of_primes) \n",
    "c=primelist(20)\n",
    "for i in range(20):\n",
    "    print(next(c))"
   ]
  },
  {
   "cell_type": "markdown",
   "id": "90e47bc0-877a-4378-a8a1-f99fa08d19e9",
   "metadata": {},
   "source": [
    "Answer 6:"
   ]
  },
  {
   "cell_type": "code",
   "execution_count": 91,
   "id": "d9ded3a3-0756-40ea-bc6b-99fefe06fe78",
   "metadata": {},
   "outputs": [
    {
     "name": "stdout",
     "output_type": "stream",
     "text": [
      "0\n",
      "1\n",
      "1\n",
      "2\n",
      "3\n",
      "5\n",
      "8\n",
      "13\n",
      "21\n",
      "34\n"
     ]
    }
   ],
   "source": [
    "# Print first 10 Fibonacci nummbers using while loop\n",
    "a,b=0,1\n",
    "n=1\n",
    "while n<=10:\n",
    "    print(a)    \n",
    "    sum=a+b\n",
    "    a=b\n",
    "    b=sum\n",
    "    n+=1  \n",
    "    "
   ]
  },
  {
   "cell_type": "markdown",
   "id": "c350ffbb-be74-42f7-a1c2-1314cc4bf70c",
   "metadata": {},
   "source": [
    "Answer 7:"
   ]
  },
  {
   "cell_type": "code",
   "execution_count": 92,
   "id": "bbafd501-a915-4b16-b4fa-eeaa5879b69d",
   "metadata": {},
   "outputs": [
    {
     "data": {
      "text/plain": [
       "['p', 'w', 's', 'k', 'i', 'l', 'l', 's']"
      ]
     },
     "execution_count": 92,
     "metadata": {},
     "output_type": "execute_result"
    }
   ],
   "source": [
    "s='pwskills'\n",
    "s1=[x for x in s]\n",
    "s1"
   ]
  },
  {
   "cell_type": "markdown",
   "id": "8bc3a2cd-c876-4db4-8237-97bbf71bce4c",
   "metadata": {},
   "source": [
    "Answer 8:"
   ]
  },
  {
   "cell_type": "code",
   "execution_count": 93,
   "id": "611e4ec4-ee5c-4e7a-adcc-053616009e7d",
   "metadata": {},
   "outputs": [
    {
     "name": "stdin",
     "output_type": "stream",
     "text": [
      "Enter any number: 234\n"
     ]
    },
    {
     "name": "stdout",
     "output_type": "stream",
     "text": [
      "The number is not a palindrome\n"
     ]
    }
   ],
   "source": [
    "num=int(input(\"Enter any number:\"))\n",
    "temp=num\n",
    "rev=0\n",
    "while(num>0):\n",
    "    dig=num%10\n",
    "    rev=rev*10+dig\n",
    "    num=num//10\n",
    "if(temp==rev):\n",
    "    print(\"The given number is palindrome\")\n",
    "else:\n",
    "    print(\"The number is not a palindrome\")"
   ]
  },
  {
   "cell_type": "markdown",
   "id": "bf330c6d-5c80-4257-8acd-810f80696c72",
   "metadata": {},
   "source": [
    "Answer 9:"
   ]
  },
  {
   "cell_type": "code",
   "execution_count": 114,
   "id": "96b25e8f-193d-40df-a4c2-9a4423eb05cb",
   "metadata": {},
   "outputs": [
    {
     "name": "stdout",
     "output_type": "stream",
     "text": [
      "Numbers from 1 to 100 using list comprehension:\n",
      " [1, 2, 3, 4, 5, 6, 7, 8, 9, 10, 11, 12, 13, 14, 15, 16, 17, 18, 19, 20, 21, 22, 23, 24, 25, 26, 27, 28, 29, 30, 31, 32, 33, 34, 35, 36, 37, 38, 39, 40, 41, 42, 43, 44, 45, 46, 47, 48, 49, 50, 51, 52, 53, 54, 55, 56, 57, 58, 59, 60, 61, 62, 63, 64, 65, 66, 67, 68, 69, 70, 71, 72, 73, 74, 75, 76, 77, 78, 79, 80, 81, 82, 83, 84, 85, 86, 87, 88, 89, 90, 91, 92, 93, 94, 95, 96, 97, 98, 99, 100]\n",
      "Odd numbers from 1 to 100 using list comprehension:\n",
      " [1, 3, 5, 7, 9, 11, 13, 15, 17, 19, 21, 23, 25, 27, 29, 31, 33, 35, 37, 39, 41, 43, 45, 47, 49, 51, 53, 55, 57, 59, 61, 63, 65, 67, 69, 71, 73, 75, 77, 79, 81, 83, 85, 87, 89, 91, 93, 95, 97, 99]\n"
     ]
    }
   ],
   "source": [
    "# Print odd numbers from 1 to 100 using list comprehension\n",
    "l=[x for x in range(1,101)]\n",
    "print(\"Numbers from 1 to 100 using list comprehension:\\n\",l)\n",
    "l1=[x for x in range(1,100,2)]\n",
    "print(\"Odd numbers from 1 to 100 using list comprehension:\\n\",l1)"
   ]
  },
  {
   "cell_type": "code",
   "execution_count": null,
   "id": "8ef1c8c3-4583-4553-975b-779da2438cf8",
   "metadata": {},
   "outputs": [],
   "source": []
  }
 ],
 "metadata": {
  "kernelspec": {
   "display_name": "Python 3 (ipykernel)",
   "language": "python",
   "name": "python3"
  },
  "language_info": {
   "codemirror_mode": {
    "name": "ipython",
    "version": 3
   },
   "file_extension": ".py",
   "mimetype": "text/x-python",
   "name": "python",
   "nbconvert_exporter": "python",
   "pygments_lexer": "ipython3",
   "version": "3.10.8"
  }
 },
 "nbformat": 4,
 "nbformat_minor": 5
}
