{
 "cells": [
  {
   "cell_type": "markdown",
   "id": "a2c4de36-6012-4148-8b97-fe7cdf9d2717",
   "metadata": {},
   "source": [
    "Q1, Create a vehicle class with an init method having instance variables as name_of_vehicle, max_speed\n",
    "and average_of_vehicle."
   ]
  },
  {
   "cell_type": "code",
   "execution_count": 2,
   "id": "78cd533f-f6d8-4c22-8dff-71c538c7b729",
   "metadata": {},
   "outputs": [],
   "source": [
    "class vehicle:\n",
    "    def __init__(self, name_of_vehicle, max_speed, average_of_vehicle):\n",
    "        self.name_of_vehicle=name_of_vehicle\n",
    "        self.max_speed=max_speed\n",
    "        self.average_of_vehicle=average_of_vehicle"
   ]
  },
  {
   "cell_type": "markdown",
   "id": "3d10f037-7ca7-47b2-97be-98667d428b56",
   "metadata": {},
   "source": [
    "Q2. Create a child class car from the vehicle class created in Que 1, which will inherit the vehicle class.\n",
    "Create a method named seating_capacity which takes capacity as an argument and returns the name of\n",
    "the vehicle and its seating capacity."
   ]
  },
  {
   "cell_type": "code",
   "execution_count": 28,
   "id": "1bbd275a-16e7-4416-85a2-1b0e8988e5e3",
   "metadata": {},
   "outputs": [],
   "source": [
    "#Answer 2:\n",
    "class vehicle:    # Parent class\n",
    "    def __init__(self, name_of_vehicle, max_speed, average_of_vehicle):\n",
    "        self.name_of_vehicle = name_of_vehicle\n",
    "        self.max_speed = max_speed\n",
    "        self.average_of_vehicle = average_of_vehicle\n",
    "\n",
    "class car(vehicle):   #Child class that inherits parent class vehicle\n",
    "    def __init__(self, name_of_vehicle, max_speed, average_of_vehicle, capacity):\n",
    "        super().__init__(name_of_vehicle, max_speed, average_of_vehicle)  #it will call contructor of parent class\n",
    "        self.capacity = capacity\n",
    "\n",
    "    def seating_capacity(self):        \n",
    "        return self.name_of_vehicle, self.capacity"
   ]
  },
  {
   "cell_type": "code",
   "execution_count": 29,
   "id": "aa6d3fa4-1846-4e66-af84-a8f7cafc6b2b",
   "metadata": {},
   "outputs": [
    {
     "name": "stdout",
     "output_type": "stream",
     "text": [
      "('Toyota', 5)\n"
     ]
    }
   ],
   "source": [
    "car = car(\"Toyota\", 200, 20, 5)\n",
    "print(car.seating_capacity())  # output: \"Toyota has a seating capacity of 5 passengers\""
   ]
  },
  {
   "cell_type": "markdown",
   "id": "2460c50c-4a37-4c4e-a86c-b0629640b7e7",
   "metadata": {},
   "source": [
    "Q3. What is multiple inheritance? Write a python code to demonstrate multiple inheritance.\n",
    "Answer 3:Multiple inheritance is a feature of some object-oriented computer programming languages in which an object or class can inherit features from more than one parent object or parent class. "
   ]
  },
  {
   "cell_type": "code",
   "execution_count": 9,
   "id": "4ae77657-0084-4569-a8f2-17f6bfd511ab",
   "metadata": {},
   "outputs": [],
   "source": [
    "# Example of multiple classs\n",
    "class class1:\n",
    "    def test_class1(self):\n",
    "        print(\"This is class 1\")"
   ]
  },
  {
   "cell_type": "code",
   "execution_count": 10,
   "id": "58b4c510-3490-4ae0-9dd0-e76e39a0a15c",
   "metadata": {},
   "outputs": [],
   "source": [
    "class class2:\n",
    "    def test_class2(self):\n",
    "        print(\"This is class 2\")"
   ]
  },
  {
   "cell_type": "code",
   "execution_count": 11,
   "id": "cb9c5a85-441d-418b-ab3f-28f7895596df",
   "metadata": {},
   "outputs": [],
   "source": [
    "class class3(class1, class2):  \n",
    "    pass"
   ]
  },
  {
   "cell_type": "code",
   "execution_count": 12,
   "id": "ab5d48c8-b858-44b8-a644-a90aaff809bc",
   "metadata": {},
   "outputs": [],
   "source": [
    "obj_class3=class3()  # object of class 3 "
   ]
  },
  {
   "cell_type": "code",
   "execution_count": 13,
   "id": "7cdfc548-a20c-4d9d-9cc6-e2c48bf1f241",
   "metadata": {},
   "outputs": [
    {
     "name": "stdout",
     "output_type": "stream",
     "text": [
      "This is class 1\n"
     ]
    }
   ],
   "source": [
    "obj_class3.test_class1()  # object of class 3 inherits the property of parent class class1"
   ]
  },
  {
   "cell_type": "code",
   "execution_count": 14,
   "id": "95dae433-2002-45ca-830e-98ab724932fc",
   "metadata": {},
   "outputs": [
    {
     "name": "stdout",
     "output_type": "stream",
     "text": [
      "This is class 2\n"
     ]
    }
   ],
   "source": [
    "obj_class3.test_class2() # object of class 3 also inherits the property of parent class class2"
   ]
  },
  {
   "cell_type": "markdown",
   "id": "e74ca5dd-84ad-4ad3-ae22-900755bda3b3",
   "metadata": {},
   "source": [
    "Q4. What are getter and setter in python? Create a class and create a getter and a setter method in this\n",
    "class.\n",
    "Answer 4: \n",
    "Getter: These are the methods used in Object-Oriented Programming (OOPS) which helps to access the private attributes from a class. \n",
    "Setters: These are the methods used in OOPS feature which helps to set the value to private attributes in a class."
   ]
  },
  {
   "cell_type": "code",
   "execution_count": 15,
   "id": "6b330b31-4731-40a5-8923-84389f9217f6",
   "metadata": {},
   "outputs": [],
   "source": [
    "# Example of getter method\n",
    "class pwskills:  \n",
    "    def __init__(self, course_price, course_name):\n",
    "        self.__course_price=course_price\n",
    "        self.course_name=course_name\n",
    "    \n",
    "    @property     #we have given the access to the user to see\n",
    "    def course_price_access(self):\n",
    "        return self.__course_price"
   ]
  },
  {
   "cell_type": "code",
   "execution_count": 16,
   "id": "a286e1f5-c6b1-44f6-a55a-65754ccc4cae",
   "metadata": {},
   "outputs": [],
   "source": [
    "pw=pwskills(3500, \"Data Science Masters\")"
   ]
  },
  {
   "cell_type": "code",
   "execution_count": 17,
   "id": "99dd7308-3e0b-4ec2-be51-4e8679bdb0be",
   "metadata": {},
   "outputs": [
    {
     "data": {
      "text/plain": [
       "3500"
      ]
     },
     "execution_count": 17,
     "metadata": {},
     "output_type": "execute_result"
    }
   ],
   "source": [
    "pw.course_price_access"
   ]
  },
  {
   "cell_type": "code",
   "execution_count": 1,
   "id": "cd64d791-87e6-4c58-bc46-05efb3a7f1b8",
   "metadata": {},
   "outputs": [],
   "source": [
    "# Example of setter method\n",
    "class pwskills: \n",
    "    def __init__(self, course_price, course_name):\n",
    "        self.__course_price=course_price\n",
    "        self.course_name=course_name\n",
    "    \n",
    "    @property\n",
    "    def course_price_access(self):\n",
    "        return self.__course_price\n",
    "    \n",
    "    @course_price_access.setter  #we have given the access to the user to set\n",
    "    def course_price_set(self, price):\n",
    "        if price<=3500:\n",
    "            pass\n",
    "        else:\n",
    "            self.__course_price=price"
   ]
  },
  {
   "cell_type": "code",
   "execution_count": 2,
   "id": "1898aea9-c754-4c4e-9da8-a889e23f9b9b",
   "metadata": {},
   "outputs": [],
   "source": [
    "pw=pwskills(3500, \"Data Science Masters\")  "
   ]
  },
  {
   "cell_type": "code",
   "execution_count": 3,
   "id": "53b69bbb-5073-407c-a350-6a2b657dac8d",
   "metadata": {},
   "outputs": [
    {
     "data": {
      "text/plain": [
       "3500"
      ]
     },
     "execution_count": 3,
     "metadata": {},
     "output_type": "execute_result"
    }
   ],
   "source": [
    "pw.course_price_access   # getting the aceess for course price"
   ]
  },
  {
   "cell_type": "code",
   "execution_count": 4,
   "id": "9593c1d2-d41a-4b47-8b94-1b1c2840a04c",
   "metadata": {},
   "outputs": [],
   "source": [
    "pw.course_price_set=4500  # setting the course price as 4500"
   ]
  },
  {
   "cell_type": "code",
   "execution_count": 5,
   "id": "959cf000-52ee-448e-a408-46cd7069460a",
   "metadata": {},
   "outputs": [
    {
     "data": {
      "text/plain": [
       "4500"
      ]
     },
     "execution_count": 5,
     "metadata": {},
     "output_type": "execute_result"
    }
   ],
   "source": [
    "pw.course_price_access"
   ]
  },
  {
   "cell_type": "markdown",
   "id": "bc2649fa-d33e-430e-8cb0-01fd77822f24",
   "metadata": {},
   "source": [
    "Q5.What is method overriding in python? Write a python code to demonstrate method overriding.\n",
    "Answer 5: Method overriding is an ability of any object-oriented programming language that allows a subclass or child class to provide a specific implementation of a method that is already provided by one of its super-classes or parent classes."
   ]
  },
  {
   "cell_type": "code",
   "execution_count": 6,
   "id": "321b95f5-9ea1-4fb3-9908-7aa0b8ba738e",
   "metadata": {},
   "outputs": [
    {
     "name": "stdout",
     "output_type": "stream",
     "text": [
      "Inside Parent\n",
      "Inside Child\n"
     ]
    }
   ],
   "source": [
    "# Python program to demonstrate method overriding\n",
    "  \n",
    "# Defining parent class\n",
    "class Parent():      \n",
    "    # Constructor\n",
    "    def __init__(self):\n",
    "        self.value = \"Inside Parent\"\n",
    "    # Parent's show method\n",
    "    def show(self):   #overridden method\n",
    "        print(self.value)\n",
    "          \n",
    "# Defining child class\n",
    "class Child(Parent):      \n",
    "    # Constructor\n",
    "    def __init__(self):\n",
    "        self.value = \"Inside Child\"          \n",
    "    # Child's show method    \n",
    "    def show(self):    #overriding method\n",
    "        print(self.value)          \n",
    "          \n",
    "obj1 = Parent()\n",
    "obj2 = Child()\n",
    "  \n",
    "obj1.show()\n",
    "obj2.show()"
   ]
  },
  {
   "cell_type": "code",
   "execution_count": null,
   "id": "f69b92da-adb1-4f51-869f-c904ebdf95c5",
   "metadata": {},
   "outputs": [],
   "source": []
  }
 ],
 "metadata": {
  "kernelspec": {
   "display_name": "Python 3 (ipykernel)",
   "language": "python",
   "name": "python3"
  },
  "language_info": {
   "codemirror_mode": {
    "name": "ipython",
    "version": 3
   },
   "file_extension": ".py",
   "mimetype": "text/x-python",
   "name": "python",
   "nbconvert_exporter": "python",
   "pygments_lexer": "ipython3",
   "version": "3.10.8"
  }
 },
 "nbformat": 4,
 "nbformat_minor": 5
}
