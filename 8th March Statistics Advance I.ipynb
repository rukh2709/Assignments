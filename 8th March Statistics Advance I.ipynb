{
 "cells": [
  {
   "cell_type": "markdown",
   "id": "bf0decda-6b77-40a0-a07c-00e04567746f",
   "metadata": {},
   "source": [
    "Q1. What is the Probability density function?"
   ]
  },
  {
   "cell_type": "markdown",
   "id": "04dd4629-40a4-4ee8-9006-fce3e9cb6c5a",
   "metadata": {},
   "source": [
    "Answer 1: The probability density function (PDF) is a mathematical function that describes the relative likelihood of a continuous random variable taking on a particular value. The PDF represents the probability of the random variable falling within a particular range of values, rather than taking on a single value. The area under the PDF curve between two points represents the probability of the random variable taking on a value within that range.\n",
    "The PDF is used to describe the probability distribution of continuous random variables, such as the height or weight of a population, or the time it takes for a customer to complete a transaction. It is a fundamental concept in probability theory and statistics, and is used in many applications, including finance, engineering, and physics.    "
   ]
  },
  {
   "cell_type": "markdown",
   "id": "be11b4cd-7c7a-48a8-a4be-a425912565b3",
   "metadata": {},
   "source": [
    "Q2. What are the types of Probability distribution?"
   ]
  },
  {
   "cell_type": "markdown",
   "id": "a57c457b-90c4-4d7f-ab41-50c742054fdd",
   "metadata": {},
   "source": [
    "Answer 2: There are several types of probability distributions, but two of the most common are:\n",
    "\n",
    "(1) Discrete probability distribution: This type of distribution is used to describe the probability of obtaining a specific outcome from a discrete set of values, such as rolling a die or flipping a coin. Examples of discrete probability distributions include the binomial distribution, the Poisson distribution, and the geometric distribution.\n",
    "\n",
    "(2) Continuous probability distribution: This type of distribution is used to describe the probability of obtaining a specific outcome from a continuous range of values, such as the height or weight of a population, or the time it takes for a customer to complete a transaction. Examples of continuous probability distributions include the normal distribution, the exponential distribution, and the beta distribution."
   ]
  },
  {
   "cell_type": "markdown",
   "id": "b8952a4c-9fd2-4a80-aa95-00b4705bef60",
   "metadata": {},
   "source": [
    "Q3. Write a Python function to calculate the probability density function of a normal distribution with\n",
    "given mean and standard deviation at a given point."
   ]
  },
  {
   "cell_type": "code",
   "execution_count": 5,
   "id": "5aa93186-a867-48b2-ad10-8525d500742f",
   "metadata": {},
   "outputs": [
    {
     "data": {
      "text/plain": [
       "0.039470740790642965"
      ]
     },
     "execution_count": 5,
     "metadata": {},
     "output_type": "execute_result"
    }
   ],
   "source": [
    "# Answer 3: \n",
    "import math\n",
    "def normal_pdf(x, mean, std):\n",
    "    return (1 / (std * math.sqrt(2 * math.pi))) * math.exp(-(x - mean)**2 / (2 * std**2))\n",
    "normal_pdf(12, 6, 7)"
   ]
  },
  {
   "cell_type": "markdown",
   "id": "bf1fa844-e19f-4271-a600-86b77d86c8e4",
   "metadata": {},
   "source": [
    "Q4. What are the properties of Binomial distribution? Give two examples of events where binomial\n",
    "distribution can be applied."
   ]
  },
  {
   "cell_type": "markdown",
   "id": "0f8fb591-54b9-455e-b8fd-e1ab99217ae9",
   "metadata": {},
   "source": [
    "Answer 4: The following are the properties of the binomial distribution:\n",
    "(1) The trials are independent.\n",
    "(2) The probability of success is constant.\n",
    "(3) There are a fixed number of trials.\n",
    "(4) Each trial has only two possible outcomes (success or failure).\n",
    "\n",
    "Two examples of events where the binomial distribution can be applied are:\n",
    "\n",
    "(i) Flipping a coin: If you flip a coin a fixed number of times, say 10, the probability of getting a heads or tails is the same for each flip. Each flip is independent, and there are only two possible outcomes (heads or tails).\n",
    "\n",
    "(ii) Manufacturing defects: If a manufacturer produces a fixed number of products, say 100, and the probability of a defective product is constant, say 0.1, then the number of defective products can be modeled using a binomial distribution."
   ]
  },
  {
   "cell_type": "markdown",
   "id": "ab25d1bd-5439-46d1-a4c3-b1cf016109ee",
   "metadata": {},
   "source": [
    "Q5. Generate a random sample of size 1000 from a binomial distribution with probability of success 0.4\n",
    "and plot a histogram of the results using matplotlib."
   ]
  },
  {
   "cell_type": "code",
   "execution_count": 2,
   "id": "e4f17b6d-0c6b-41af-bb10-dcfe5614cc63",
   "metadata": {},
   "outputs": [
    {
     "data": {
      "image/png": "[encoded data removed]",
      "text/plain": [
       "<Figure size 640x480 with 1 Axes>"
      ]
     },
     "metadata": {},
     "output_type": "display_data"
    }
   ],
   "source": [
    "# Answer 5:\n",
    "import numpy as np\n",
    "import matplotlib.pyplot as plt\n",
    "\n",
    "# Set the parameters of the binomial distribution\n",
    "n = 1   # Number of trials\n",
    "p = 0.4 # Probability of success\n",
    "\n",
    "# Generate the random sample of size 1000\n",
    "sample = np.random.binomial(n, p, size=1000)\n",
    "\n",
    "# Plot the histogram of the results\n",
    "plt.hist(sample, bins=10, color='skyblue', edgecolor='red')\n",
    "\n",
    "# Add labels and a title to the plot\n",
    "plt.xlabel('Number of successes')\n",
    "plt.ylabel('Frequency')\n",
    "plt.title('Histogram of binomial distribution with n=1, p=0.4')\n",
    "plt.show()"
   ]
  },
  {
   "cell_type": "markdown",
   "id": "573533d3-e983-4790-be90-42e4d597c894",
   "metadata": {},
   "source": [
    "Q6. Write a Python function to calculate the cumulative distribution function of a Poisson distribution\n",
    "with given mean at a given point."
   ]
  },
  {
   "cell_type": "code",
   "execution_count": 4,
   "id": "c4bdbaaf-f3a7-4aee-a8a2-0c90f8002440",
   "metadata": {},
   "outputs": [
    {
     "data": {
      "text/plain": [
       "0.8571234604985472"
      ]
     },
     "execution_count": 4,
     "metadata": {},
     "output_type": "execute_result"
    }
   ],
   "source": [
    "# Answer 6: \n",
    "import math\n",
    "\n",
    "def poisson_cdf(mu, x):\n",
    "    \"\"\"Calculate the cumulative distribution function (CDF) of a Poisson distribution with mean mu at point x.\"\"\"\n",
    "    cdf = 0.0\n",
    "    for k in range(x + 1):\n",
    "        cdf += math.exp(-mu) * mu**k / math.factorial(k)\n",
    "    return cdf\n",
    "poisson_cdf(2, 3)"
   ]
  },
  {
   "cell_type": "markdown",
   "id": "0b508a73-f9da-4aa1-96b8-2f57dc8e5793",
   "metadata": {},
   "source": [
    "Q7. How Binomial distribution different from Poisson distribution?"
   ]
  },
  {
   "cell_type": "markdown",
   "id": "210e0e0d-7a2f-4a23-9805-dba99fe27118",
   "metadata": {},
   "source": [
    "Answer 7: The Binomial distribution is used when the number of trials and probability of success are fixed and the distribution counts the number of successes, whereas the Poisson distribution is used to count the number of events occurring in a fixed time or space interval with a known mean rate of occurrence.    "
   ]
  },
  {
   "cell_type": "markdown",
   "id": "51fbd65b-aeec-4373-a64a-0337c5a74748",
   "metadata": {},
   "source": [
    "Q8. Generate a random sample of size 1000 from a Poisson distribution with mean 5 and calculate the\n",
    "sample mean and variance."
   ]
  },
  {
   "cell_type": "code",
   "execution_count": 7,
   "id": "d414d2c1-b7a1-416c-9e9f-1dbceb51d3fb",
   "metadata": {},
   "outputs": [
    {
     "name": "stdout",
     "output_type": "stream",
     "text": [
      "Sample mean: 5.059\n",
      "Sample variance: 5.407519000000001\n"
     ]
    }
   ],
   "source": [
    "# Answer 8:\n",
    "import numpy as np\n",
    "\n",
    "# Set the mean of the Poisson distribution\n",
    "mu = 5\n",
    "\n",
    "# Generate a random sample of size 1000\n",
    "sample = np.random.poisson(mu, size=1000)\n",
    "\n",
    "# Calculate the sample mean and variance\n",
    "sample_mean = np.mean(sample)\n",
    "sample_variance = np.var(sample)\n",
    "\n",
    "# Print the results\n",
    "print(\"Sample mean:\", sample_mean)\n",
    "print(\"Sample variance:\", sample_variance)"
   ]
  },
  {
   "cell_type": "markdown",
   "id": "864d29bc-358f-4179-964e-6a34b7550f8c",
   "metadata": {},
   "source": [
    "Q9. How mean and variance are related in Binomial distribution and Poisson distribution?"
   ]
  },
  {
   "cell_type": "raw",
   "id": "9fb0eeaf-68f5-4066-a279-8a5b4d248ec8",
   "metadata": {},
   "source": [
    "Answer 9: In Binomial distribution, the mean and variance are related to the number of trials and the probability of success p as follows:\n",
    "\n",
    "Mean = n * p\n",
    "Variance = n * p * (1 - p)\n",
    "Here, n is the number of trials, and p is the probability of success in each trial. The variance is smaller when p is closer to 0.5, and it reaches its minimum when p is equal to 0.5.\n",
    "\n",
    "In Poisson distribution, the mean and variance are both equal to the parameter λ, which represents the expected number of events occurring in a fixed time or space interval. Therefore, we can express the relationship between the mean and variance of Poisson distribution as follows:\n",
    "\n",
    "Mean = λ\n",
    "Variance = λ\n",
    "The mean and variance of Poisson distribution are equal because the Poisson distribution assumes that the events occur independently and at a low rate. In this case, the variance is expected to be equal to the mean."
   ]
  },
  {
   "cell_type": "markdown",
   "id": "5b35c7de-fe02-4727-b6e8-04d5a6554492",
   "metadata": {},
   "source": [
    "Q10. In normal distribution with respect to mean position, where does the least frequent data appear?"
   ]
  },
  {
   "cell_type": "markdown",
   "id": "4de6ebb1-6a35-46ab-988c-a76f1cf35542",
   "metadata": {},
   "source": [
    "Answer 10: In a normal distribution, the least frequent data appears at the tails of the distribution, which are the regions farthest away from the mean. "
   ]
  }
 ],
 "metadata": {
  "kernelspec": {
   "display_name": "Python 3 (ipykernel)",
   "language": "python",
   "name": "python3"
  },
  "language_info": {
   "codemirror_mode": {
    "name": "ipython",
    "version": 3
   },
   "file_extension": ".py",
   "mimetype": "text/x-python",
   "name": "python",
   "nbconvert_exporter": "python",
   "pygments_lexer": "ipython3",
   "version": "3.10.8"
  }
 },
 "nbformat": 4,
 "nbformat_minor": 5
}
