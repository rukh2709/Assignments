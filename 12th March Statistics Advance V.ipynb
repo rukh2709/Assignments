{
 "cells": [
  {
   "cell_type": "markdown",
   "id": "3529d4de-99a4-4a39-aab9-0c48a243ae4a",
   "metadata": {},
   "source": [
    "Q1. Calculate the 95% confidence interval for a sample of data with a mean of 50 and a standard deviation\n",
    "of 5 using Python. Interpret the results."
   ]
  },
  {
   "cell_type": "code",
   "execution_count": 9,
   "id": "76b59b38-0802-45f2-b1af-69bc8f96dd2c",
   "metadata": {},
   "outputs": [
    {
     "name": "stdout",
     "output_type": "stream",
     "text": [
      "(49.02001800772997, 50.97998199227003)\n"
     ]
    }
   ],
   "source": [
    "# Answer 1:\n",
    "from scipy.stats import norm\n",
    "\n",
    "# sample mean and standard deviation\n",
    "sample_mean = 50\n",
    "sample_std = 5\n",
    "\n",
    "# sample size\n",
    "n = 100\n",
    "\n",
    "# calculate the standard error of the mean\n",
    "sem = sample_std / (n ** 0.5)\n",
    "\n",
    "# calculate the margin of error\n",
    "moe = norm.ppf(0.975) * sem\n",
    "\n",
    "# calculate the confidence interval\n",
    "ci = (sample_mean - moe, sample_mean + moe)\n",
    "\n",
    "# print the confidence interval\n",
    "print(ci)"
   ]
  },
  {
   "cell_type": "markdown",
   "id": "a9a12a78-a5d6-4576-a06c-aabb8e918173",
   "metadata": {},
   "source": [
    "Interpretation: This means that we can be 95% confident that the true population mean falls within the range of 49 to 51, based on our sample data."
   ]
  },
  {
   "cell_type": "markdown",
   "id": "6be30103-3970-4540-8aae-2ce3c4a881bd",
   "metadata": {},
   "source": [
    "Q2. Conduct a chi-square goodness of fit test to determine if the distribution of colors of M&Ms in a bag\n",
    "matches the expected distribution of 20% blue, 20% orange, 20% green, 10% yellow, 10% red, and 20%\n",
    "brown. Use Python to perform the test with a significance level of 0.05."
   ]
  },
  {
   "cell_type": "code",
   "execution_count": 4,
   "id": "ac2b2e42-b260-4f7c-bcd2-e0962d44c746",
   "metadata": {},
   "outputs": [
    {
     "name": "stdout",
     "output_type": "stream",
     "text": [
      "Chi-square statistic: 0.450\n",
      "P-value: 0.994\n",
      "The null hypothesis cannot be rejected at the 0.05 level of significance.\n"
     ]
    }
   ],
   "source": [
    "# Answer 2:\n",
    "import numpy as np\n",
    "from scipy.stats import chisquare\n",
    "\n",
    "# observed frequencies of colors in the sample\n",
    "observed_freq = np.array([19, 21, 18, 11, 10, 21])\n",
    "\n",
    "# expected frequencies of colors according to the null hypothesis\n",
    "expected_freq = np.array([0.2, 0.2, 0.2, 0.1, 0.1, 0.2]) * sum(observed_freq)\n",
    "\n",
    "# perform the chi-square test\n",
    "chi2_stat, p_val = chisquare(observed_freq, expected_freq)\n",
    "\n",
    "# print the test results\n",
    "print(f\"Chi-square statistic: {chi2_stat:.3f}\")\n",
    "print(f\"P-value: {p_val:.3f}\")\n",
    "if p_val < 0.05:\n",
    "    print(\"The null hypothesis can be rejected at the 0.05 level of significance.\")\n",
    "else:\n",
    "    print(\"The null hypothesis cannot be rejected at the 0.05 level of significance.\")"
   ]
  },
  {
   "cell_type": "markdown",
   "id": "14671345-6380-4a82-8c33-98ff5f866eff",
   "metadata": {},
   "source": [
    "Q3. Use Python to calculate the chi-square statistic and p-value for a contingency table with the following\n",
    "data:\n",
    "           Group A  Group B\n",
    "\n",
    "Outcome1    20        15\n",
    "Outcome2    10        25\n",
    "Outcome3    15        20\n",
    "Interpret the results of the test."
   ]
  },
  {
   "cell_type": "code",
   "execution_count": 8,
   "id": "f10707b1-9c69-4151-8240-a5d3de34af17",
   "metadata": {},
   "outputs": [
    {
     "name": "stdout",
     "output_type": "stream",
     "text": [
      "Chi-square statistic: 5.833333333333334\n",
      "P-value: 0.05411376622282158\n"
     ]
    }
   ],
   "source": [
    "# Answer 3: \n",
    "from scipy.stats import chi2_contingency\n",
    "\n",
    "observed = [[20, 15], [10, 25], [15, 20]]\n",
    "chi2, p, dof, expected = chi2_contingency(observed)\n",
    "print(f\"Chi-square statistic: {chi2}\")\n",
    "print(f\"P-value: {p}\")"
   ]
  },
  {
   "cell_type": "markdown",
   "id": "e550505a-1a88-4689-8ffa-489638a3bb86",
   "metadata": {},
   "source": [
    "Interpretation: Let's assume a significance level of 0.05. Since the p-value (0.054) is greater than alpha (0.05), we fail to reject the null hypothesis and conclude that there is not a significant association between the two groups (Group A and Group B) and the outcomes (Outcome 1, Outcome 2, and Outcome 3)."
   ]
  },
  {
   "cell_type": "markdown",
   "id": "5b9e3cd2-417c-474c-b119-781766b3c92d",
   "metadata": {},
   "source": [
    "Q4. A study of the prevalence of smoking in a population of 500 individuals found that 60 individuals\n",
    "smoked. Use Python to calculate the 95% confidence interval for the true proportion of individuals in the\n",
    "population who smoke."
   ]
  },
  {
   "cell_type": "code",
   "execution_count": 6,
   "id": "5276b26c-0fbb-4945-849a-28e4abd870b2",
   "metadata": {},
   "outputs": [
    {
     "name": "stdout",
     "output_type": "stream",
     "text": [
      "95% Confidence Interval: (0.09437490012636912, 0.1514195986244106)\n"
     ]
    }
   ],
   "source": [
    "# Answer 4: \n",
    "from statsmodels.stats.proportion import proportion_confint\n",
    "\n",
    "n = 500\n",
    "smokers = 60\n",
    "conf_interval = proportion_confint(smokers, n, alpha=0.05, method='wilson')\n",
    "print(f\"95% Confidence Interval: {conf_interval}\")"
   ]
  },
  {
   "cell_type": "markdown",
   "id": "a3fbba9c-b3e3-49f9-9cd3-39815635d8cc",
   "metadata": {},
   "source": [
    "Q5. Calculate the 90% confidence interval for a sample of data with a mean of 75 and a standard deviation\n",
    "of 12 using Python. Interpret the results."
   ]
  },
  {
   "cell_type": "code",
   "execution_count": 7,
   "id": "7b4e3d27-61fe-4e02-96f2-6332419b590a",
   "metadata": {},
   "outputs": [
    {
     "name": "stdout",
     "output_type": "stream",
     "text": [
      "90% Confidence Interval: (73.00753061280433, 76.99246938719567)\n"
     ]
    }
   ],
   "source": [
    "# Answer 5: \n",
    "import scipy.stats as stats\n",
    "\n",
    "sample_mean = 75\n",
    "sample_std = 12\n",
    "sample_size = 100 # sample size assumed for demonstration purposes\n",
    "\n",
    "# Calculate the standard error\n",
    "se = sample_std / (sample_size ** 0.5)\n",
    "\n",
    "# Calculate the t-value for a 90% confidence interval with (n-1) degrees of freedom\n",
    "t = stats.t.ppf(0.95, sample_size - 1)\n",
    "\n",
    "# Calculate the confidence interval\n",
    "ci_low = sample_mean - t * se\n",
    "ci_high = sample_mean + t * se\n",
    "\n",
    "print(f\"90% Confidence Interval: ({ci_low}, {ci_high})\")"
   ]
  },
  {
   "cell_type": "markdown",
   "id": "87984eac-2863-4b1f-9447-8736e6727f3e",
   "metadata": {},
   "source": [
    "Interpretation: Based on the sample of data with a mean of 75 and a standard deviation of 12, we estimate with 90% confidence that the true population mean is between 73 and 77."
   ]
  },
  {
   "cell_type": "markdown",
   "id": "82514a6c-33b8-48f3-9ef7-81fc1ac90304",
   "metadata": {},
   "source": [
    "Q6. Use Python to plot the chi-square distribution with 10 degrees of freedom. Label the axes and shade the\n",
    "area corresponding to a chi-square statistic of 15."
   ]
  },
  {
   "cell_type": "code",
   "execution_count": 10,
   "id": "f5e26cdd-bd93-4703-945f-2f9739d6f9ab",
   "metadata": {},
   "outputs": [
    {
     "data": {
      "image/png": "[encoded data removed]",
      "text/plain": [
       "<Figure size 640x480 with 1 Axes>"
      ]
     },
     "metadata": {},
     "output_type": "display_data"
    }
   ],
   "source": [
    "# Answer 6:\n",
    "import numpy as np\n",
    "import matplotlib.pyplot as plt\n",
    "import scipy.stats as stats\n",
    "\n",
    "# Define the degrees of freedom\n",
    "df = 10\n",
    "\n",
    "# Generate x values\n",
    "x = np.linspace(0, 30, 500)\n",
    "\n",
    "# Calculate the chi-square distribution\n",
    "y = stats.chi2.pdf(x, df)\n",
    "\n",
    "# Plot the chi-square distribution\n",
    "plt.plot(x, y)\n",
    "\n",
    "# Shade the area corresponding to a chi-square statistic of 15\n",
    "mask = x > 15\n",
    "plt.fill_between(x[mask], y[mask], 0, alpha=0.5)\n",
    "\n",
    "# Add labels and title\n",
    "plt.xlabel(\"Chi-square statistic\")\n",
    "plt.ylabel(\"Probability density\")\n",
    "plt.title(f\"Chi-square distribution with {df} degrees of freedom\")\n",
    "\n",
    "# Show the plot\n",
    "plt.show()"
   ]
  },
  {
   "cell_type": "markdown",
   "id": "c8bc98e1-cb6e-4808-a905-0deb6253dcc7",
   "metadata": {},
   "source": [
    "Q7. A random sample of 1000 people was asked if they preferred Coke or Pepsi. Of the sample, 520\n",
    "preferred Coke. Calculate a 99% confidence interval for the true proportion of people in the population who\n",
    "prefer Coke."
   ]
  },
  {
   "cell_type": "code",
   "execution_count": 11,
   "id": "16dbc447-443a-4ae9-8785-32ce0ac01ccb",
   "metadata": {},
   "outputs": [
    {
     "name": "stdout",
     "output_type": "stream",
     "text": [
      "99% Confidence Interval: (0.47930745509503414, 0.5604288983088296)\n"
     ]
    }
   ],
   "source": [
    "# Answer 7: \n",
    "from statsmodels.stats.proportion import proportion_confint\n",
    "\n",
    "n = 1000\n",
    "coke_preferred = 520\n",
    "conf_interval = proportion_confint(coke_preferred, n, alpha=0.01, method='wilson')\n",
    "print(f\"99% Confidence Interval: {conf_interval}\")"
   ]
  },
  {
   "cell_type": "markdown",
   "id": "7cd30886-d221-4a6f-be20-a085c6fbf5cc",
   "metadata": {},
   "source": [
    "Q8. A researcher hypothesizes that a coin is biased towards tails. They flip the coin 100 times and observe\n",
    "45 tails. Conduct a chi-square goodness of fit test to determine if the observed frequencies match the\n",
    "expected frequencies of a fair coin. Use a significance level of 0.05."
   ]
  },
  {
   "cell_type": "code",
   "execution_count": 12,
   "id": "99b11320-813c-4667-8fb6-c016195f88fa",
   "metadata": {},
   "outputs": [
    {
     "name": "stdout",
     "output_type": "stream",
     "text": [
      "Chi-square statistic: 1.0000\n",
      "p-value: 0.3173\n",
      "Fail to reject the null hypothesis\n"
     ]
    }
   ],
   "source": [
    "# Answer 8:\n",
    "import numpy as np\n",
    "from scipy.stats import chisquare\n",
    "\n",
    "# Define the observed frequencies\n",
    "observed = np.array([45, 55])  # Tails, Heads\n",
    "\n",
    "# Define the expected frequencies under the null hypothesis (fair coin)\n",
    "expected = np.array([50, 50])\n",
    "\n",
    "# Conduct the chi-square test\n",
    "stat, pval = chisquare(observed, expected)\n",
    "\n",
    "# Define the significance level\n",
    "alpha = 0.05\n",
    "\n",
    "# Print the results\n",
    "print(f\"Chi-square statistic: {stat:.4f}\")\n",
    "print(f\"p-value: {pval:.4f}\")\n",
    "\n",
    "if pval < alpha:\n",
    "    print(\"Reject the null hypothesis\")\n",
    "else:\n",
    "    print(\"Fail to reject the null hypothesis\")"
   ]
  },
  {
   "cell_type": "markdown",
   "id": "cf87b005-ab52-4d5f-b831-9683ea425f93",
   "metadata": {},
   "source": [
    "Q9. A study was conducted to determine if there is an association between smoking status (smoker or\n",
    "non-smoker) and lung cancer diagnosis (yes or no). The results are shown in the contingency table below.\n",
    "Conduct a chi-square test for independence to determine if there is a significant association between\n",
    "smoking status and lung cancer diagnosis.\n",
    "\n",
    "             Lung Cancer: Yes    Lung Cancer: Yes\n",
    "Smoker             60                 140\n",
    "Non-smoker         30                 170\n",
    "\n",
    "Use a significance level of 0.05."
   ]
  },
  {
   "cell_type": "code",
   "execution_count": 13,
   "id": "f325bd1e-ca54-4a98-a8bc-bd716f01c41c",
   "metadata": {},
   "outputs": [
    {
     "name": "stdout",
     "output_type": "stream",
     "text": [
      "Chi-square statistic: 12.0573\n",
      "p-value: 0.0005\n",
      "Degrees of freedom: 1\n",
      "Expected frequencies:\n",
      "[[ 45. 155.]\n",
      " [ 45. 155.]]\n",
      "Reject the null hypothesis\n"
     ]
    }
   ],
   "source": [
    "# Answer 9:\n",
    "import numpy as np\n",
    "from scipy.stats import chi2_contingency\n",
    "\n",
    "# Define the contingency table\n",
    "observed = np.array([[60, 140], [30, 170]])\n",
    "\n",
    "# Conduct the chi-square test for independence\n",
    "stat, pval, dof, expected = chi2_contingency(observed)\n",
    "\n",
    "# Define the significance level\n",
    "alpha = 0.05\n",
    "\n",
    "# Print the results\n",
    "print(f\"Chi-square statistic: {stat:.4f}\")\n",
    "print(f\"p-value: {pval:.4f}\")\n",
    "print(f\"Degrees of freedom: {dof}\")\n",
    "print(\"Expected frequencies:\")\n",
    "print(expected)\n",
    "\n",
    "if pval < alpha:\n",
    "    print(\"Reject the null hypothesis\")\n",
    "else:\n",
    "    print(\"Fail to reject the null hypothesis\")"
   ]
  },
  {
   "cell_type": "markdown",
   "id": "3ef96600-627d-4790-af7b-47935048b5de",
   "metadata": {},
   "source": [
    "Q10. A study was conducted to determine if the proportion of people who prefer milk chocolate, dark\n",
    "chocolate, or white chocolate is different in the U.S. versus the U.K. A random sample of 500 people from\n",
    "the U.S. and a random sample of 500 people from the U.K. were surveyed. The results are shown in the\n",
    "contingency table below. Conduct a chi-square test for independence to determine if there is a significant\n",
    "association between chocolate preference and country of origin.\n",
    "\n",
    "            Milk Chocolate    Dark Chocolate    White Chocolate\n",
    "U.S.(n=500)      200               150            150\n",
    "U.K.(n=500)      225               175            100\n",
    "\n",
    "Use a significance level of 0.01."
   ]
  },
  {
   "cell_type": "code",
   "execution_count": 14,
   "id": "e1143062-d287-4848-955b-0a492aebec90",
   "metadata": {},
   "outputs": [
    {
     "name": "stdout",
     "output_type": "stream",
     "text": [
      "Chi-square statistic: 13.3937\n",
      "p-value: 0.0012\n",
      "Degrees of freedom: 2\n",
      "Expected frequencies:\n",
      "[[212.5 162.5 125. ]\n",
      " [212.5 162.5 125. ]]\n",
      "Reject the null hypothesis\n"
     ]
    }
   ],
   "source": [
    "# Answer 10:\n",
    "import numpy as np\n",
    "from scipy.stats import chi2_contingency\n",
    "\n",
    "# Define the contingency table\n",
    "observed = np.array([[200, 150, 150], [225, 175, 100]])\n",
    "\n",
    "# Conduct the chi-square test for independence\n",
    "stat, pval, dof, expected = chi2_contingency(observed)\n",
    "\n",
    "# Define the significance level\n",
    "alpha = 0.01\n",
    "\n",
    "# Print the results\n",
    "print(f\"Chi-square statistic: {stat:.4f}\")\n",
    "print(f\"p-value: {pval:.4f}\")\n",
    "print(f\"Degrees of freedom: {dof}\")\n",
    "print(\"Expected frequencies:\")\n",
    "print(expected)\n",
    "\n",
    "if pval < alpha:\n",
    "    print(\"Reject the null hypothesis\")\n",
    "else:\n",
    "    print(\"Fail to reject the null hypothesis\")"
   ]
  },
  {
   "cell_type": "markdown",
   "id": "bad020cd-7516-4be8-b401-85e19fc79e77",
   "metadata": {},
   "source": [
    "Q11. A random sample of 30 people was selected from a population with an unknown mean and standard\n",
    "deviation. The sample mean was found to be 72 and the sample standard deviation was found to be 10.\n",
    "Conduct a hypothesis test to determine if the population mean is significantly different from 70. Use a\n",
    "significance level of 0.05."
   ]
  },
  {
   "cell_type": "code",
   "execution_count": 15,
   "id": "c2b75bc0-76a7-4d67-9bdf-babd21f6cbdc",
   "metadata": {},
   "outputs": [
    {
     "name": "stdout",
     "output_type": "stream",
     "text": [
      "T-statistic: 1.0954\n",
      "P-value: 0.2823\n",
      "Fail to reject the null hypothesis\n"
     ]
    }
   ],
   "source": [
    "# Answer 11:\n",
    "import numpy as np\n",
    "from scipy.stats import t\n",
    "\n",
    "# Define the sample statistics\n",
    "n = 30\n",
    "sample_mean = 72\n",
    "sample_std = 10\n",
    "\n",
    "# Define the null hypothesis\n",
    "null_mean = 70\n",
    "\n",
    "# Define the significance level\n",
    "alpha = 0.05\n",
    "\n",
    "# Calculate the t-statistic and p-value\n",
    "t_stat = (sample_mean - null_mean) / (sample_std / np.sqrt(n))\n",
    "pval = 2 * t.sf(np.abs(t_stat), n - 1)\n",
    "\n",
    "# Print the results\n",
    "print(f\"T-statistic: {t_stat:.4f}\")\n",
    "print(f\"P-value: {pval:.4f}\")\n",
    "\n",
    "if pval < alpha:\n",
    "    print(\"Reject the null hypothesis\")\n",
    "else:\n",
    "    print(\"Fail to reject the null hypothesis\")"
   ]
  }
 ],
 "metadata": {
  "kernelspec": {
   "display_name": "Python 3 (ipykernel)",
   "language": "python",
   "name": "python3"
  },
  "language_info": {
   "codemirror_mode": {
    "name": "ipython",
    "version": 3
   },
   "file_extension": ".py",
   "mimetype": "text/x-python",
   "name": "python",
   "nbconvert_exporter": "python",
   "pygments_lexer": "ipython3",
   "version": "3.10.8"
  }
 },
 "nbformat": 4,
 "nbformat_minor": 5
}
