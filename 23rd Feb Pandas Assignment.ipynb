{
 "cells": [
  {
   "cell_type": "markdown",
   "id": "56691dd0-cf48-4e75-b26f-517c668a54d4",
   "metadata": {},
   "source": [
    "Q1. Create a Pandas Series that contains the following data: 4, 8, 15, 16, 23, and 42. Then, print the series."
   ]
  },
  {
   "cell_type": "code",
   "execution_count": 3,
   "id": "3325ebf9-b37e-415c-b829-dcbc02ca37de",
   "metadata": {},
   "outputs": [
    {
     "data": {
      "text/plain": [
       "0     4\n",
       "1     8\n",
       "2    15\n",
       "3    16\n",
       "4    23\n",
       "5    42\n",
       "dtype: int64"
      ]
     },
     "execution_count": 3,
     "metadata": {},
     "output_type": "execute_result"
    }
   ],
   "source": [
    "# Answer 1: \n",
    "# Given list is [4, 8, 15, 16, 23, 42]\n",
    "import pandas as pd \n",
    "df=pd.Series([4, 8, 15, 16, 23, 42])\n",
    "df"
   ]
  },
  {
   "cell_type": "markdown",
   "id": "62994802-48b6-4a1b-a5d0-4d87e13f4361",
   "metadata": {},
   "source": [
    "Q2. Create a variable of list type containing 10 elements in it, and apply pandas.Series function on the\n",
    "variable print it."
   ]
  },
  {
   "cell_type": "code",
   "execution_count": 3,
   "id": "121270d5-baa3-42de-b637-d27f56922389",
   "metadata": {},
   "outputs": [
    {
     "data": {
      "text/plain": [
       "0     1\n",
       "1     2\n",
       "2     3\n",
       "3     4\n",
       "4     5\n",
       "5     6\n",
       "6     7\n",
       "7     8\n",
       "8     9\n",
       "9    10\n",
       "dtype: int64"
      ]
     },
     "execution_count": 3,
     "metadata": {},
     "output_type": "execute_result"
    }
   ],
   "source": [
    "# Answer 2: \n",
    "# Created a list 'var'\n",
    "import pandas as pd\n",
    "var=[1,2,3,4,5,6,7,8,9,10]\n",
    "df=pd.Series(var)  # created a Seires\n",
    "df"
   ]
  },
  {
   "cell_type": "markdown",
   "id": "040ab7ce-cc53-4dfe-a731-a1e6dc9474d3",
   "metadata": {},
   "source": [
    "Q3. Create a Pandas DataFrame that contains the following data. Then, print the DataFrame."
   ]
  },
  {
   "cell_type": "code",
   "execution_count": 4,
   "id": "cd21ba12-d733-4982-aa0a-056e279bea18",
   "metadata": {},
   "outputs": [
    {
     "data": {
      "text/html": [
       "<div>\n",
       "<style scoped>\n",
       "    .dataframe tbody tr th:only-of-type {\n",
       "        vertical-align: middle;\n",
       "    }\n",
       "\n",
       "    .dataframe tbody tr th {\n",
       "        vertical-align: top;\n",
       "    }\n",
       "\n",
       "    .dataframe thead th {\n",
       "        text-align: right;\n",
       "    }\n",
       "</style>\n",
       "<table border=\"1\" class=\"dataframe\">\n",
       "  <thead>\n",
       "    <tr style=\"text-align: right;\">\n",
       "      <th></th>\n",
       "      <th>Name</th>\n",
       "      <th>Age</th>\n",
       "      <th>Gender</th>\n",
       "    </tr>\n",
       "  </thead>\n",
       "  <tbody>\n",
       "    <tr>\n",
       "      <th>0</th>\n",
       "      <td>Alice</td>\n",
       "      <td>25</td>\n",
       "      <td>Female</td>\n",
       "    </tr>\n",
       "    <tr>\n",
       "      <th>1</th>\n",
       "      <td>Bob</td>\n",
       "      <td>30</td>\n",
       "      <td>Male</td>\n",
       "    </tr>\n",
       "    <tr>\n",
       "      <th>2</th>\n",
       "      <td>Claire</td>\n",
       "      <td>27</td>\n",
       "      <td>Female</td>\n",
       "    </tr>\n",
       "  </tbody>\n",
       "</table>\n",
       "</div>"
      ],
      "text/plain": [
       "     Name  Age  Gender\n",
       "0   Alice   25  Female\n",
       "1     Bob   30    Male\n",
       "2  Claire   27  Female"
      ]
     },
     "execution_count": 4,
     "metadata": {},
     "output_type": "execute_result"
    }
   ],
   "source": [
    "# Answer 3:\n",
    "# Created the given DataFrame\n",
    "import pandas as pd\n",
    "data=[[\"Alice\", 25, \"Female\"], [\"Bob\", 30, \"Male\"], [\"Claire\", 27, \"Female\"]]\n",
    "df=pd.DataFrame(data, columns=[\"Name\", \"Age\", \"Gender\"])     \n",
    "df"
   ]
  },
  {
   "cell_type": "markdown",
   "id": "7ec5274a-d364-4ee1-8eb1-1598525db426",
   "metadata": {},
   "source": [
    "Q4. What is ‘DataFrame’ in pandas and how is it different from pandas.series? Explain with an example."
   ]
  },
  {
   "cell_type": "markdown",
   "id": "51090300-48d1-4507-87f0-68c03b066714",
   "metadata": {},
   "source": [
    "Answer 4: In pandas, a DataFrame is a two-dimensional labeled data structure, which is similar to a table in a relational database or a spreadsheet. It consists of rows and columns, where each column can have a different data type (such as integer, float, or string), and each row represents a unique observation or record.\n",
    "On the other hand, a pandas Series is a one-dimensional labeled array that can hold data of any type. It can be thought of as a column in a DataFrame, where each element of the Series has a label or index that can be used to retrieve or modify its value."
   ]
  },
  {
   "cell_type": "code",
   "execution_count": 6,
   "id": "77c56136-a468-4a78-a6f6-93bad01d2a0f",
   "metadata": {},
   "outputs": [
    {
     "name": "stdout",
     "output_type": "stream",
     "text": [
      "My series is:\n",
      " 0       Rohita\n",
      "1    Meenakshi\n",
      "2        Reema\n",
      "3         Lata\n",
      "dtype: object\n",
      "My dataframe is:\n",
      "         Name  Age  Class\n",
      "0     Rohita   16     11\n",
      "1  Meenakshi    7      2\n",
      "2      Reema    9      4\n",
      "3       Lata   10      5\n"
     ]
    }
   ],
   "source": [
    "# An example of Series and DataFrame\n",
    "list1=[\"Rohita\", \"Meenakshi\", \"Reema\", \"Lata\"]\n",
    "list2=[[\"Rohita\", 16, 11], [\"Meenakshi\", 7, 2], [\"Reema\", 9, 4], [\"Lata\", 10, 5]]\n",
    "df_list1=pd.Series(list1)\n",
    "df_list2=pd.DataFrame(list2, columns=[\"Name\", \"Age\", \"Class\"])\n",
    "print(\"My series is:\\n\", df_list1)\n",
    "print(\"My dataframe is:\\n\", df_list2)"
   ]
  },
  {
   "cell_type": "markdown",
   "id": "67103611-81df-4f0b-ad58-5802db60a72a",
   "metadata": {},
   "source": [
    "Q5. What are some common functions you can use to manipulate data in a Pandas DataFrame? Can\n",
    "you give an example of when you might use one of these functions?"
   ]
  },
  {
   "cell_type": "markdown",
   "id": "c2f184ca-f369-42c0-8d28-68a2edc24dbf",
   "metadata": {},
   "source": [
    "Answer 5: \n",
    "\n",
    "head(n) and tail(n): to view the first or last n rows of the DataFrame, respectively.\n",
    "Example: df.head(10) to view the first 10 rows of the DataFrame.\n",
    "\n",
    "describe(): to generate descriptive statistics of the numerical columns in the DataFrame.\n",
    "Example: df.describe() to view the count, mean, standard deviation, minimum, maximum, and quartile values of the numerical columns.\n",
    "\n",
    "info(): to display information about the DataFrame, such as the number of rows and columns, data types, and memory usage.\n",
    "Example: df.info() to view the information about the DataFrame.\n",
    "\n",
    "value_counts(): to count the occurrences of unique values in a column of the DataFrame.\n",
    "Example: df['gender'].value_counts() to count the number of males and females in the gender column.\n",
    "\n",
    "groupby(): to group the data in the DataFrame by one or more columns and apply a function to each group.\n",
    "Example: df.groupby('gender')['salary'].mean() to calculate the mean salary for each gender.\n",
    "\n",
    "sort_values(): to sort the DataFrame by one or more columns.\n",
    "Example: df.sort_values(by='salary', ascending=False) to sort the DataFrame by salary in descending order.\n",
    "\n",
    "drop(): to remove rows or columns from the DataFrame.\n",
    "Example: df.drop(columns=['age']) to remove the age column from the DataFrame.\n",
    "\n",
    "fillna(): to fill missing values in the DataFrame with a specified value or method.\n",
    "Example: df.fillna(method='ffill') to fill missing values with the previous non-missing value.Rege"
   ]
  },
  {
   "cell_type": "markdown",
   "id": "dc5189de-dec4-4ed2-b595-9da1e5b6d029",
   "metadata": {},
   "source": [
    "Q6. Which of the following is mutable in nature Series, DataFrame, Panel?"
   ]
  },
  {
   "cell_type": "markdown",
   "id": "36cb5d97-4bb1-41da-bee8-bc7268dc9337",
   "metadata": {},
   "source": [
    "Answer 6: Both Series and DataFrame are mutable in nature, while Panel is deprecated and no longer recommended to be used in Pandas."
   ]
  },
  {
   "cell_type": "markdown",
   "id": "bbc92f58-e8e6-45ba-8f0c-1a5f96f5987a",
   "metadata": {},
   "source": [
    "Q7. Create a DataFrame using multiple Series. Explain with an example."
   ]
  },
  {
   "cell_type": "code",
   "execution_count": 6,
   "id": "165c3bd7-4d7d-4083-bde5-f8c5a7122e30",
   "metadata": {},
   "outputs": [
    {
     "data": {
      "text/html": [
       "<div>\n",
       "<style scoped>\n",
       "    .dataframe tbody tr th:only-of-type {\n",
       "        vertical-align: middle;\n",
       "    }\n",
       "\n",
       "    .dataframe tbody tr th {\n",
       "        vertical-align: top;\n",
       "    }\n",
       "\n",
       "    .dataframe thead th {\n",
       "        text-align: right;\n",
       "    }\n",
       "</style>\n",
       "<table border=\"1\" class=\"dataframe\">\n",
       "  <thead>\n",
       "    <tr style=\"text-align: right;\">\n",
       "      <th></th>\n",
       "      <th>Name</th>\n",
       "      <th>Class</th>\n",
       "      <th>Age</th>\n",
       "    </tr>\n",
       "  </thead>\n",
       "  <tbody>\n",
       "    <tr>\n",
       "      <th>0</th>\n",
       "      <td>Rohita</td>\n",
       "      <td>11</td>\n",
       "      <td>16</td>\n",
       "    </tr>\n",
       "    <tr>\n",
       "      <th>1</th>\n",
       "      <td>Meenakshi</td>\n",
       "      <td>2</td>\n",
       "      <td>7</td>\n",
       "    </tr>\n",
       "    <tr>\n",
       "      <th>2</th>\n",
       "      <td>Reema</td>\n",
       "      <td>4</td>\n",
       "      <td>9</td>\n",
       "    </tr>\n",
       "    <tr>\n",
       "      <th>3</th>\n",
       "      <td>Lata</td>\n",
       "      <td>5</td>\n",
       "      <td>10</td>\n",
       "    </tr>\n",
       "  </tbody>\n",
       "</table>\n",
       "</div>"
      ],
      "text/plain": [
       "        Name  Class  Age\n",
       "0     Rohita     11   16\n",
       "1  Meenakshi      2    7\n",
       "2      Reema      4    9\n",
       "3       Lata      5   10"
      ]
     },
     "execution_count": 6,
     "metadata": {},
     "output_type": "execute_result"
    }
   ],
   "source": [
    "# Answer 7: \n",
    "import pandas as pd\n",
    "# Created DataFrame using different Series\n",
    "name=pd.Series([\"Rohita\", \"Meenakshi\", \"Reema\", \"Lata\"])\n",
    "age=pd.Series([16, 7, 9, 10])\n",
    "Class=pd.Series([11, 2, 4, 5])\n",
    "data={\"Name\": name, \"Class\": Class, \"Age\": age}\n",
    "df= pd.DataFrame(data)\n",
    "df"
   ]
  },
  {
   "cell_type": "code",
   "execution_count": null,
   "id": "8f2e5255-4647-4802-82db-d4945b1174b7",
   "metadata": {},
   "outputs": [],
   "source": []
  }
 ],
 "metadata": {
  "kernelspec": {
   "display_name": "Python 3 (ipykernel)",
   "language": "python",
   "name": "python3"
  },
  "language_info": {
   "codemirror_mode": {
    "name": "ipython",
    "version": 3
   },
   "file_extension": ".py",
   "mimetype": "text/x-python",
   "name": "python",
   "nbconvert_exporter": "python",
   "pygments_lexer": "ipython3",
   "version": "3.10.8"
  }
 },
 "nbformat": 4,
 "nbformat_minor": 5
}
