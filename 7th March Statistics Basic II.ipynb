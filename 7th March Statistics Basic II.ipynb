{
 "cells": [
  {
   "cell_type": "markdown",
   "id": "ea1a0507-914b-4386-9b43-0d6b91b9e299",
   "metadata": {},
   "source": [
    "Q1. What are the three measures of central tendency?"
   ]
  },
  {
   "cell_type": "markdown",
   "id": "da23c4d8-cf77-4559-924e-dd7cafd6d07f",
   "metadata": {},
   "source": [
    "Answer 1: Mean, meian and mode are the three measures of central tendency."
   ]
  },
  {
   "cell_type": "markdown",
   "id": "f8d97b01-8854-4a02-8efd-68a00bb50c2a",
   "metadata": {},
   "source": [
    "Q2. What is the difference between the mean, median, and mode? How are they used to measure the\n",
    "central tendency of a dataset?"
   ]
  },
  {
   "cell_type": "markdown",
   "id": "71d0f22b-1c46-45e3-b239-828f75092200",
   "metadata": {},
   "source": [
    "Answer 2: The mean, median, and mode are all measures of central tendency used to describe the center or typical value of a dataset.\n",
    "\n",
    "The mean is the arithmetic average of a dataset and is calculated by adding up all the values in the dataset and dividing by the number of values. It is sensitive to outliers and extreme values, as it takes into account every value in the dataset. The mean is commonly used to summarize datasets with a normal distribution, where the data is symmetrically distributed around the mean.\n",
    "\n",
    "The median is the middle value in a dataset, such that half of the values are above it and half are below it. It is not affected by outliers, as it only considers the position of the values in the dataset. The median is commonly used to summarize datasets with skewed distributions, where the data is not evenly distributed around the mean.\n",
    "\n",
    "The mode is the value that occurs most frequently in a dataset. It is useful for describing datasets with categorical or nominal variables, where the data is not numerical. The mode can also be used for numerical data, but it may not always be unique or meaningful."
   ]
  },
  {
   "cell_type": "markdown",
   "id": "dad79117-e711-4010-b800-e281d371762c",
   "metadata": {},
   "source": [
    "Q3. Measure the three measures of central tendency for the given height data:\n",
    "[178,177,176,177,178.2,178,175,179,180,175,178.9,176.2,177,172.5,178,176.5]"
   ]
  },
  {
   "cell_type": "markdown",
   "id": "705663e2-0ddf-4310-994c-6f3e6081e587",
   "metadata": {},
   "source": [
    "Answer 3: \n",
    "Mean = (178 + 177 + 176 + 177 + 178.2 + 178 + 175 + 179 + 180 + 175 + 178.9 + 176.2 + 177 + 172.5 + 178 + 176.5) / 16\n",
    "Mean = 176.8125\n",
    "\n",
    "Sorted dataset: 172.5, 175, 175, 176, 176.2, 176.5, 177, 177, 178, 178, 178, 178.2, 178.9, 179, 180\n",
    "There are an even number of values, we take the average of the two middle values:\n",
    "Median = (176 + 176.5) / 2\n",
    "Median = 176.25\n",
    "\n",
    "178 occurs most frequently in the dataset.\n",
    "Therefore, the mode height is 178 cm."
   ]
  },
  {
   "cell_type": "markdown",
   "id": "ad97d713-047d-44d1-8896-f81f0887ff0f",
   "metadata": {},
   "source": [
    "Q4. Find the standard deviation for the given data:\n",
    "[178,177,176,177,178.2,178,175,179,180,175,178.9,176.2,177,172.5,178,176.5]"
   ]
  },
  {
   "cell_type": "markdown",
   "id": "deecbaca-5db1-483a-8e0c-63ab2f5fb9fd",
   "metadata": {},
   "source": [
    "Answer 4: \n",
    "Formula for standard deviation:\n",
    "Standard deviation = √(Σ(xi - x̄)² / (n-1)),\n",
    "where Σ is the summation symbol, xi is each individual value in the dataset, x̄ is the mean of the dataset, and n is the number of values in the dataset.\n",
    "\n",
    "x̄ = (178 + 177 + 176 + 177 + 178.2 + 178 + 175 + 179 + 180 + 175 + 178.9 + 176.2 + 177 + 172.5 + 178 + 176.5)/16\n",
    "=176.8125\n",
    "\n",
    "Deviation from the mean = xi - x̄\n",
    "\n",
    "Deviation from the mean = (1.1875, 0.1875, -0.8125, 0.1875, 1.3875, 1.1875, -1.8125, 2.1875, 3.1875, -1.8125, 2.0875, -0.6125, 0.1875, -4.3125, 1.1875, -0.3125)\n",
    "\n",
    "Squared deviation = (xi - x̄)²\n",
    "\n",
    "Squared deviation = (1.41016, 0.03516, 0.66016, 0.03516, 1.92756, 1.41016, 3.28456, 4.78556, 10.17456, 3.28456, 4.35056, 0.37456, 0.03516, 18.60256, 1.41016, 0.09756)\n",
    "\n",
    "Σ(xi - x̄)² = (1.41016 + 0.03516 + 0.66016 + 0.03516 + 1.92756 + 1.41016 + 3.28456 + 4.78556 + 10.17456 + 3.28456 + 4.35056 + 0.37456 + 0.03516 + 18.60256 + 1.41016 + 0.09756)\n",
    "=39.5975\n",
    "\n",
    "Σ(xi - x̄)²/(n - 1) = 39.5975 / (16-1) = 2.6345\n",
    "\n",
    "Standard deviation = √2.6345\n",
    "\n",
    "Therefore, Standard deviation ≈ 1.6227"
   ]
  },
  {
   "cell_type": "markdown",
   "id": "f5477887-aa98-45c3-a132-5e777c703f17",
   "metadata": {},
   "source": [
    "Q5. How are measures of dispersion such as range, variance, and standard deviation used to describe\n",
    "the spread of a dataset? Provide an example."
   ]
  },
  {
   "cell_type": "markdown",
   "id": "1c8ae0a3-c219-4da1-9ccf-1aafdfadd4a8",
   "metadata": {},
   "source": [
    "Answer 5: \n",
    "Range is the simplest measure of dispersion and is defined as the difference between the maximum and minimum values in the dataset. The range provides a rough estimate of the spread of the data, but it is sensitive to outliers. \n",
    "For example, if we have a dataset of test scores: [50, 60, 70, 80, 90], the range would be 40 (90-50), indicating a wide range of scores.\n",
    "\n",
    "Variance is a measure of how far the values in a dataset are from the mean. It is calculated by summing the squared deviations from the mean and dividing by the number of data points. Variance is useful in statistical modeling, as it is used to calculate other statistics such as the standard deviation. \n",
    "For example, if we have a dataset of test scores: [50, 60, 70, 80, 90], the variance would be 200, indicating a large degree of variation in the scores.\n",
    "\n",
    "Standard deviation is a commonly used measure of dispersion that provides a more precise estimate of the spread of the data than the range. It is the square root of the variance and is expressed in the same units as the data. A smaller standard deviation indicates that the data is more closely clustered around the mean, while a larger standard deviation indicates that the data is more spread out. \n",
    "For example, if we have a dataset of test scores: [50, 60, 70, 80, 90], the standard deviation would be approximately 14.14, indicating a moderate amount of variability in the scores."
   ]
  },
  {
   "cell_type": "markdown",
   "id": "9497fcf3-829e-4e77-a06c-c0859153b8d8",
   "metadata": {},
   "source": [
    "Q6. What is a Venn diagram?"
   ]
  },
  {
   "cell_type": "markdown",
   "id": "596fbd5f-f6be-4b54-b96f-2a605280713a",
   "metadata": {},
   "source": [
    "Answer 6: A Venn diagram is a graphical representation of the relationships between sets of data. It is a visual tool used to show the similarities and differences between two or more sets. The diagram consists of a series of overlapping circles or other shapes, each representing a set. The regions where the circles overlap indicate the elements that are common to both sets, while the regions outside the circles indicate the elements that are unique to each set."
   ]
  },
  {
   "cell_type": "markdown",
   "id": "4af75669-958b-411e-ab6d-504a2fe99b19",
   "metadata": {},
   "source": [
    "Q7. For the two given sets A = (2,3,4,5,6,7) & B = (0,2,6,8,10). Find:\n",
    "(i) A ∩ B\n",
    "(ii) A ⋃ B"
   ]
  },
  {
   "cell_type": "markdown",
   "id": "b704e90d-f9b7-4912-be51-d8a5e53d030f",
   "metadata": {},
   "source": [
    "Answer 7:\n",
    "(i) A ∩ B = {2, 6}\n",
    "(ii) A ⋃ B = {0, 2, 3, 4, 5, 6, 7, 8, 10}"
   ]
  },
  {
   "cell_type": "markdown",
   "id": "31fd3fa1-56cf-43c4-830f-f75ff275f436",
   "metadata": {},
   "source": [
    "Q8. What do you understand about skewness in data?"
   ]
  },
  {
   "cell_type": "markdown",
   "id": "69c9821c-0da6-477e-99dd-fee9dd1dcbc9",
   "metadata": {},
   "source": [
    "Answer 8: Skewness is a measure of the asymmetry of a probability distribution or dataset. It indicates the degree to which the data is skewed or lopsided to one side or the other, relative to the mean. A perfectly symmetric distribution has zero skewness, meaning that the data is evenly distributed around the mean. \n",
    "There are two types of skewness:\n",
    "(i) Right skewness\n",
    "(ii) Left skewness"
   ]
  },
  {
   "cell_type": "markdown",
   "id": "dcd6ef7c-cc98-45c1-854d-97cd3275e2f4",
   "metadata": {},
   "source": [
    "Q9. If a data is right skewed then what will be the position of median with respect to mean?"
   ]
  },
  {
   "cell_type": "markdown",
   "id": "9237b0fb-6887-4d0c-92fc-941105d3cc3b",
   "metadata": {},
   "source": [
    "Answer 9: If a dataset is right-skewed, the median will be less than the mean. This is because the mean is affected by the outliers on the right tail of the distribution, pulling the mean towards the higher values. The median, on the other hand, is not influenced by the extreme values and is more representative of the central tendency of the data. Therefore, in a right-skewed distribution, the median is typically lower than the mean."
   ]
  },
  {
   "cell_type": "markdown",
   "id": "3d789464-aed2-4f95-9712-31fc702e1277",
   "metadata": {},
   "source": [
    "Q10. Explain the difference between covariance and correlation. How are these measures used in\n",
    "statistical analysis?"
   ]
  },
  {
   "cell_type": "markdown",
   "id": "835afacc-14bb-48eb-ab01-b508a383529f",
   "metadata": {},
   "source": [
    "Answer 10. \n",
    "Covariance measures the degree to which two variables vary together. It is a measure of how much two variables change together. A positive covariance indicates that the two variables tend to increase or decrease together, while a negative covariance indicates that one variable tends to increase while the other decreases. However, the magnitude of the covariance depends on the scale of the variables, which can make it difficult to interpret.\n",
    "\n",
    "Correlation, on the other hand, measures the strength and direction of the linear relationship between two variables. Unlike covariance, correlation is standardized, which means it is scaled to fall between -1 and 1. A correlation coefficient of +1 indicates a perfect positive correlation, -1 indicates a perfect negative correlation, and 0 indicates no correlation at all.\n",
    "Correlation is often used in statistical analysis to determine the strength and direction of the relationship between two variables. It is also used to test hypotheses about the relationship between variables and to identify patterns and trends in the data. Covariance is less commonly used, but can still be helpful in certain situations, particularly when dealing with non-linear relationships between variables."
   ]
  },
  {
   "cell_type": "markdown",
   "id": "0da2c9c9-a2e8-4136-9298-401337af7019",
   "metadata": {},
   "source": [
    "Q11. What is the formula for calculating the sample mean? Provide an example calculation for a\n",
    "dataset."
   ]
  },
  {
   "cell_type": "markdown",
   "id": "abf119c6-5b42-4279-ad13-8c7cee68e377",
   "metadata": {},
   "source": [
    "Answer 11: The general formula for calculating the sample mean is given by x̄ = ( Σ xi ) / n. \n",
    "Here, x̄ represents the sample mean, xi refers all X sample values and n stands for the number of sample terms in the data set.\n",
    "Example: Suppose we have the following dataset.\n",
    "X = {10, 12, 14, 16, 18}\n",
    "x̄=(10 + 12 + 14 + 16 + 18)/5 = 70/5=14\n",
    "Therefore, the sample mean of the dataset X is 14."
   ]
  },
  {
   "cell_type": "markdown",
   "id": "d95c8495-45e2-43f4-89c0-37606bbfa72f",
   "metadata": {},
   "source": [
    "Q12. For a normal distribution data what is the relationship between its measure of central tendency?"
   ]
  },
  {
   "cell_type": "code",
   "execution_count": null,
   "id": "30259816-0f1d-4086-96ab-9e91f9545fd1",
   "metadata": {},
   "outputs": [],
   "source": [
    "Answer 12: mean=median=mode"
   ]
  },
  {
   "cell_type": "markdown",
   "id": "9045c718-21a2-4df2-ae7b-d71d80f7a85a",
   "metadata": {},
   "source": [
    "Q13. How is covariance different from correlation?"
   ]
  },
  {
   "cell_type": "markdown",
   "id": "8d7e18f3-cf53-4b5c-b3ee-529d1ae60516",
   "metadata": {},
   "source": [
    "Answer 13: correlation measures the strength and direction of the linear relationship between two variables, while covariance measures the degree to which two variables vary together. "
   ]
  },
  {
   "cell_type": "markdown",
   "id": "819e555b-a0d8-4cd6-8a7e-faea430ade03",
   "metadata": {},
   "source": [
    "Q14. How do outliers affect measures of central tendency and dispersion? Provide an example."
   ]
  },
  {
   "cell_type": "markdown",
   "id": "0197455f-1e35-4e33-981a-a5e6bc1ecbe2",
   "metadata": {},
   "source": [
    "Answer 14: For measures of central tendency, outliers can pull the mean away from the center of the distribution towards the direction of the outlier. This is because the mean is calculated by taking the sum of all data points and dividing by the number of data points. If there is an outlier that is significantly larger or smaller than the other data points, it will pull the mean in that direction. The median, on the other hand, is less affected by outliers because it is simply the middle value of the dataset when arranged in order. The mode may also be affected by outliers if the outlier is the most frequently occurring value.\n",
    "\n",
    "For measures of dispersion, outliers can increase the range, variance, and standard deviation of the dataset. The range is simply the difference between the largest and smallest values in the dataset, so if there is an outlier that is significantly larger or smaller than the other data points, it will increase the range. The variance and standard deviation are both measures of how spread out the data is around the mean, so outliers can increase these measures as well.\n",
    "\n",
    "For example, consider the following dataset of ages:\n",
    "X = {10, 12, 14, 16, 18, 100}\n",
    "x̄ = (10 + 12 + 14 + 16 + 18 + 100)/6 = 25\n",
    "\n",
    "The mean of this dataset is pulled towards the outlier (100), making it larger than the median, which is 15. The range of this dataset is also affected by the outlier, as it is now 90 (100-10) instead of 8 (18-10) if the outlier was not present. Additionally, the variance and standard deviation of this dataset will be larger because of the outlier. This shows how outliers can have a significant impact on measures of central tendency and dispersion."
   ]
  }
 ],
 "metadata": {
  "kernelspec": {
   "display_name": "Python 3 (ipykernel)",
   "language": "python",
   "name": "python3"
  },
  "language_info": {
   "codemirror_mode": {
    "name": "ipython",
    "version": 3
   },
   "file_extension": ".py",
   "mimetype": "text/x-python",
   "name": "python",
   "nbconvert_exporter": "python",
   "pygments_lexer": "ipython3",
   "version": "3.10.8"
  }
 },
 "nbformat": 4,
 "nbformat_minor": 5
}
